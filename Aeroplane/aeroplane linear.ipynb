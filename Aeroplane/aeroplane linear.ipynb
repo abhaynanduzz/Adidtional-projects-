{
 "cells": [
  {
   "cell_type": "code",
   "execution_count": 1,
   "id": "a94ec3b7",
   "metadata": {},
   "outputs": [],
   "source": [
    "import pandas as pd\n",
    "import numpy as np\n",
    "import matplotlib.pyplot as plt\n",
    "import seaborn as sns\n",
    "from statsmodels.formula.api import ols\n",
    "from statsmodels.stats.multicomp import pairwise_tukeyhsd\n",
    "import statsmodels.formula.api as smf \n",
    "from sklearn.metrics import r2_score,mean_squared_error\n"
   ]
  },
  {
   "cell_type": "code",
   "execution_count": 2,
   "id": "20586975",
   "metadata": {},
   "outputs": [],
   "source": [
    "df=pd.read_csv('Clean_Dataset.csv')"
   ]
  },
  {
   "cell_type": "code",
   "execution_count": 3,
   "id": "fd10dbbd",
   "metadata": {},
   "outputs": [
    {
     "name": "stdout",
     "output_type": "stream",
     "text": [
      "<class 'pandas.core.frame.DataFrame'>\n",
      "RangeIndex: 300153 entries, 0 to 300152\n",
      "Data columns (total 12 columns):\n",
      " #   Column            Non-Null Count   Dtype  \n",
      "---  ------            --------------   -----  \n",
      " 0   Unnamed: 0        300153 non-null  int64  \n",
      " 1   airline           300153 non-null  object \n",
      " 2   flight            300153 non-null  object \n",
      " 3   source_city       300153 non-null  object \n",
      " 4   departure_time    300153 non-null  object \n",
      " 5   stops             300153 non-null  object \n",
      " 6   arrival_time      300153 non-null  object \n",
      " 7   destination_city  300153 non-null  object \n",
      " 8   class             300153 non-null  object \n",
      " 9   duration          300153 non-null  float64\n",
      " 10  days_left         300153 non-null  int64  \n",
      " 11  price             300153 non-null  int64  \n",
      "dtypes: float64(1), int64(3), object(8)\n",
      "memory usage: 27.5+ MB\n"
     ]
    }
   ],
   "source": [
    "df.info()"
   ]
  },
  {
   "cell_type": "code",
   "execution_count": 4,
   "id": "8f9cbb7c",
   "metadata": {},
   "outputs": [
    {
     "data": {
      "text/html": [
       "<div>\n",
       "<style scoped>\n",
       "    .dataframe tbody tr th:only-of-type {\n",
       "        vertical-align: middle;\n",
       "    }\n",
       "\n",
       "    .dataframe tbody tr th {\n",
       "        vertical-align: top;\n",
       "    }\n",
       "\n",
       "    .dataframe thead th {\n",
       "        text-align: right;\n",
       "    }\n",
       "</style>\n",
       "<table border=\"1\" class=\"dataframe\">\n",
       "  <thead>\n",
       "    <tr style=\"text-align: right;\">\n",
       "      <th></th>\n",
       "      <th>Unnamed: 0</th>\n",
       "      <th>airline</th>\n",
       "      <th>flight</th>\n",
       "      <th>source_city</th>\n",
       "      <th>departure_time</th>\n",
       "      <th>stops</th>\n",
       "      <th>arrival_time</th>\n",
       "      <th>destination_city</th>\n",
       "      <th>class</th>\n",
       "      <th>duration</th>\n",
       "      <th>days_left</th>\n",
       "      <th>price</th>\n",
       "    </tr>\n",
       "  </thead>\n",
       "  <tbody>\n",
       "    <tr>\n",
       "      <th>0</th>\n",
       "      <td>0</td>\n",
       "      <td>SpiceJet</td>\n",
       "      <td>SG-8709</td>\n",
       "      <td>Delhi</td>\n",
       "      <td>Evening</td>\n",
       "      <td>zero</td>\n",
       "      <td>Night</td>\n",
       "      <td>Mumbai</td>\n",
       "      <td>Economy</td>\n",
       "      <td>2.17</td>\n",
       "      <td>1</td>\n",
       "      <td>5953</td>\n",
       "    </tr>\n",
       "    <tr>\n",
       "      <th>1</th>\n",
       "      <td>1</td>\n",
       "      <td>SpiceJet</td>\n",
       "      <td>SG-8157</td>\n",
       "      <td>Delhi</td>\n",
       "      <td>Early_Morning</td>\n",
       "      <td>zero</td>\n",
       "      <td>Morning</td>\n",
       "      <td>Mumbai</td>\n",
       "      <td>Economy</td>\n",
       "      <td>2.33</td>\n",
       "      <td>1</td>\n",
       "      <td>5953</td>\n",
       "    </tr>\n",
       "    <tr>\n",
       "      <th>2</th>\n",
       "      <td>2</td>\n",
       "      <td>AirAsia</td>\n",
       "      <td>I5-764</td>\n",
       "      <td>Delhi</td>\n",
       "      <td>Early_Morning</td>\n",
       "      <td>zero</td>\n",
       "      <td>Early_Morning</td>\n",
       "      <td>Mumbai</td>\n",
       "      <td>Economy</td>\n",
       "      <td>2.17</td>\n",
       "      <td>1</td>\n",
       "      <td>5956</td>\n",
       "    </tr>\n",
       "    <tr>\n",
       "      <th>3</th>\n",
       "      <td>3</td>\n",
       "      <td>Vistara</td>\n",
       "      <td>UK-995</td>\n",
       "      <td>Delhi</td>\n",
       "      <td>Morning</td>\n",
       "      <td>zero</td>\n",
       "      <td>Afternoon</td>\n",
       "      <td>Mumbai</td>\n",
       "      <td>Economy</td>\n",
       "      <td>2.25</td>\n",
       "      <td>1</td>\n",
       "      <td>5955</td>\n",
       "    </tr>\n",
       "    <tr>\n",
       "      <th>4</th>\n",
       "      <td>4</td>\n",
       "      <td>Vistara</td>\n",
       "      <td>UK-963</td>\n",
       "      <td>Delhi</td>\n",
       "      <td>Morning</td>\n",
       "      <td>zero</td>\n",
       "      <td>Morning</td>\n",
       "      <td>Mumbai</td>\n",
       "      <td>Economy</td>\n",
       "      <td>2.33</td>\n",
       "      <td>1</td>\n",
       "      <td>5955</td>\n",
       "    </tr>\n",
       "  </tbody>\n",
       "</table>\n",
       "</div>"
      ],
      "text/plain": [
       "   Unnamed: 0   airline   flight source_city departure_time stops  \\\n",
       "0           0  SpiceJet  SG-8709       Delhi        Evening  zero   \n",
       "1           1  SpiceJet  SG-8157       Delhi  Early_Morning  zero   \n",
       "2           2   AirAsia   I5-764       Delhi  Early_Morning  zero   \n",
       "3           3   Vistara   UK-995       Delhi        Morning  zero   \n",
       "4           4   Vistara   UK-963       Delhi        Morning  zero   \n",
       "\n",
       "    arrival_time destination_city    class  duration  days_left  price  \n",
       "0          Night           Mumbai  Economy      2.17          1   5953  \n",
       "1        Morning           Mumbai  Economy      2.33          1   5953  \n",
       "2  Early_Morning           Mumbai  Economy      2.17          1   5956  \n",
       "3      Afternoon           Mumbai  Economy      2.25          1   5955  \n",
       "4        Morning           Mumbai  Economy      2.33          1   5955  "
      ]
     },
     "execution_count": 4,
     "metadata": {},
     "output_type": "execute_result"
    }
   ],
   "source": [
    "df.head()"
   ]
  },
  {
   "cell_type": "code",
   "execution_count": 5,
   "id": "045c84be",
   "metadata": {},
   "outputs": [
    {
     "data": {
      "text/html": [
       "<div>\n",
       "<style scoped>\n",
       "    .dataframe tbody tr th:only-of-type {\n",
       "        vertical-align: middle;\n",
       "    }\n",
       "\n",
       "    .dataframe tbody tr th {\n",
       "        vertical-align: top;\n",
       "    }\n",
       "\n",
       "    .dataframe thead th {\n",
       "        text-align: right;\n",
       "    }\n",
       "</style>\n",
       "<table border=\"1\" class=\"dataframe\">\n",
       "  <thead>\n",
       "    <tr style=\"text-align: right;\">\n",
       "      <th></th>\n",
       "      <th>Unnamed: 0</th>\n",
       "      <th>duration</th>\n",
       "      <th>days_left</th>\n",
       "      <th>price</th>\n",
       "    </tr>\n",
       "  </thead>\n",
       "  <tbody>\n",
       "    <tr>\n",
       "      <th>count</th>\n",
       "      <td>300153.000000</td>\n",
       "      <td>300153.000000</td>\n",
       "      <td>300153.000000</td>\n",
       "      <td>300153.000000</td>\n",
       "    </tr>\n",
       "    <tr>\n",
       "      <th>mean</th>\n",
       "      <td>150076.000000</td>\n",
       "      <td>12.221021</td>\n",
       "      <td>26.004751</td>\n",
       "      <td>20889.660523</td>\n",
       "    </tr>\n",
       "    <tr>\n",
       "      <th>std</th>\n",
       "      <td>86646.852011</td>\n",
       "      <td>7.191997</td>\n",
       "      <td>13.561004</td>\n",
       "      <td>22697.767366</td>\n",
       "    </tr>\n",
       "    <tr>\n",
       "      <th>min</th>\n",
       "      <td>0.000000</td>\n",
       "      <td>0.830000</td>\n",
       "      <td>1.000000</td>\n",
       "      <td>1105.000000</td>\n",
       "    </tr>\n",
       "    <tr>\n",
       "      <th>25%</th>\n",
       "      <td>75038.000000</td>\n",
       "      <td>6.830000</td>\n",
       "      <td>15.000000</td>\n",
       "      <td>4783.000000</td>\n",
       "    </tr>\n",
       "    <tr>\n",
       "      <th>50%</th>\n",
       "      <td>150076.000000</td>\n",
       "      <td>11.250000</td>\n",
       "      <td>26.000000</td>\n",
       "      <td>7425.000000</td>\n",
       "    </tr>\n",
       "    <tr>\n",
       "      <th>75%</th>\n",
       "      <td>225114.000000</td>\n",
       "      <td>16.170000</td>\n",
       "      <td>38.000000</td>\n",
       "      <td>42521.000000</td>\n",
       "    </tr>\n",
       "    <tr>\n",
       "      <th>max</th>\n",
       "      <td>300152.000000</td>\n",
       "      <td>49.830000</td>\n",
       "      <td>49.000000</td>\n",
       "      <td>123071.000000</td>\n",
       "    </tr>\n",
       "  </tbody>\n",
       "</table>\n",
       "</div>"
      ],
      "text/plain": [
       "          Unnamed: 0       duration      days_left          price\n",
       "count  300153.000000  300153.000000  300153.000000  300153.000000\n",
       "mean   150076.000000      12.221021      26.004751   20889.660523\n",
       "std     86646.852011       7.191997      13.561004   22697.767366\n",
       "min         0.000000       0.830000       1.000000    1105.000000\n",
       "25%     75038.000000       6.830000      15.000000    4783.000000\n",
       "50%    150076.000000      11.250000      26.000000    7425.000000\n",
       "75%    225114.000000      16.170000      38.000000   42521.000000\n",
       "max    300152.000000      49.830000      49.000000  123071.000000"
      ]
     },
     "execution_count": 5,
     "metadata": {},
     "output_type": "execute_result"
    }
   ],
   "source": [
    "df.describe()"
   ]
  },
  {
   "cell_type": "code",
   "execution_count": 6,
   "id": "f1481830",
   "metadata": {},
   "outputs": [
    {
     "data": {
      "text/plain": [
       "(300153, 12)"
      ]
     },
     "execution_count": 6,
     "metadata": {},
     "output_type": "execute_result"
    }
   ],
   "source": [
    "df.shape"
   ]
  },
  {
   "cell_type": "code",
   "execution_count": 7,
   "id": "a9c25692",
   "metadata": {},
   "outputs": [
    {
     "data": {
      "text/plain": [
       "Unnamed: 0          0\n",
       "airline             0\n",
       "flight              0\n",
       "source_city         0\n",
       "departure_time      0\n",
       "stops               0\n",
       "arrival_time        0\n",
       "destination_city    0\n",
       "class               0\n",
       "duration            0\n",
       "days_left           0\n",
       "price               0\n",
       "dtype: int64"
      ]
     },
     "execution_count": 7,
     "metadata": {},
     "output_type": "execute_result"
    }
   ],
   "source": [
    "df.isnull().sum()"
   ]
  },
  {
   "cell_type": "code",
   "execution_count": 8,
   "id": "9bc0df18",
   "metadata": {},
   "outputs": [],
   "source": [
    "df.drop('Unnamed: 0',axis=1,inplace=True)"
   ]
  },
  {
   "cell_type": "code",
   "execution_count": 9,
   "id": "7df73229",
   "metadata": {},
   "outputs": [
    {
     "data": {
      "text/plain": [
       "Index(['airline', 'flight', 'source_city', 'departure_time', 'stops',\n",
       "       'arrival_time', 'destination_city', 'class', 'duration', 'days_left',\n",
       "       'price'],\n",
       "      dtype='object')"
      ]
     },
     "execution_count": 9,
     "metadata": {},
     "output_type": "execute_result"
    }
   ],
   "source": [
    "df.columns"
   ]
  },
  {
   "cell_type": "markdown",
   "id": "7751f1d4",
   "metadata": {},
   "source": [
    "# price"
   ]
  },
  {
   "cell_type": "code",
   "execution_count": 10,
   "id": "6c63b7c6",
   "metadata": {},
   "outputs": [
    {
     "data": {
      "text/plain": [
       "54608    1445\n",
       "2339     1442\n",
       "54684    1390\n",
       "60978    1383\n",
       "60508    1230\n",
       "         ... \n",
       "12014       1\n",
       "26912       1\n",
       "20145       1\n",
       "25462       1\n",
       "7533        1\n",
       "Name: price, Length: 12157, dtype: int64"
      ]
     },
     "execution_count": 10,
     "metadata": {},
     "output_type": "execute_result"
    }
   ],
   "source": [
    "df.price.value_counts()"
   ]
  },
  {
   "cell_type": "code",
   "execution_count": 11,
   "id": "b1cd79dd",
   "metadata": {},
   "outputs": [
    {
     "name": "stderr",
     "output_type": "stream",
     "text": [
      "C:\\Users\\abhay\\anaconda3\\lib\\site-packages\\seaborn\\distributions.py:2619: FutureWarning: `distplot` is a deprecated function and will be removed in a future version. Please adapt your code to use either `displot` (a figure-level function with similar flexibility) or `histplot` (an axes-level function for histograms).\n",
      "  warnings.warn(msg, FutureWarning)\n"
     ]
    },
    {
     "data": {
      "text/plain": [
       "<AxesSubplot:xlabel='price', ylabel='Density'>"
      ]
     },
     "execution_count": 11,
     "metadata": {},
     "output_type": "execute_result"
    },
    {
     "data": {
      "image/png": "[encoded data removed]",
      "text/plain": [
       "<Figure size 640x480 with 1 Axes>"
      ]
     },
     "metadata": {},
     "output_type": "display_data"
    }
   ],
   "source": [
    "sns.distplot(df.price)"
   ]
  },
  {
   "cell_type": "code",
   "execution_count": 12,
   "id": "ddbee847",
   "metadata": {},
   "outputs": [
    {
     "name": "stderr",
     "output_type": "stream",
     "text": [
      "C:\\Users\\abhay\\anaconda3\\lib\\site-packages\\seaborn\\_decorators.py:36: FutureWarning: Pass the following variable as a keyword arg: x. From version 0.12, the only valid positional argument will be `data`, and passing other arguments without an explicit keyword will result in an error or misinterpretation.\n",
      "  warnings.warn(\n"
     ]
    },
    {
     "data": {
      "text/plain": [
       "<AxesSubplot:xlabel='price'>"
      ]
     },
     "execution_count": 12,
     "metadata": {},
     "output_type": "execute_result"
    },
    {
     "data": {
      "image/png": "[encoded data removed]",
      "text/plain": [
       "<Figure size 640x480 with 1 Axes>"
      ]
     },
     "metadata": {},
     "output_type": "display_data"
    }
   ],
   "source": [
    "sns.boxplot(df.price)"
   ]
  },
  {
   "cell_type": "code",
   "execution_count": 13,
   "id": "b41aaf52",
   "metadata": {},
   "outputs": [],
   "source": [
    "q3=df.price.quantile(0.75)\n",
    "q1=df.price.quantile(0.25)\n",
    "iqr=q3-q1\n",
    "upper=q3+(1.5*iqr)\n",
    "lower=q1-(1.5*iqr)\n",
    "df.price=np.where(df.price>upper,upper,df.price)\n",
    "df.price=np.where(df.price<lower,lower,df.price)\n"
   ]
  },
  {
   "cell_type": "code",
   "execution_count": 14,
   "id": "02e21391",
   "metadata": {},
   "outputs": [
    {
     "name": "stderr",
     "output_type": "stream",
     "text": [
      "C:\\Users\\abhay\\anaconda3\\lib\\site-packages\\seaborn\\_decorators.py:36: FutureWarning: Pass the following variable as a keyword arg: x. From version 0.12, the only valid positional argument will be `data`, and passing other arguments without an explicit keyword will result in an error or misinterpretation.\n",
      "  warnings.warn(\n"
     ]
    },
    {
     "data": {
      "text/plain": [
       "<AxesSubplot:xlabel='price'>"
      ]
     },
     "execution_count": 14,
     "metadata": {},
     "output_type": "execute_result"
    },
    {
     "data": {
      "image/png": "[encoded data removed]",
      "text/plain": [
       "<Figure size 640x480 with 1 Axes>"
      ]
     },
     "metadata": {},
     "output_type": "display_data"
    }
   ],
   "source": [
    "sns.boxplot(df.price)"
   ]
  },
  {
   "cell_type": "code",
   "execution_count": null,
   "id": "c3d02dcc",
   "metadata": {},
   "outputs": [],
   "source": []
  },
  {
   "cell_type": "code",
   "execution_count": null,
   "id": "080b46bd",
   "metadata": {},
   "outputs": [],
   "source": []
  },
  {
   "cell_type": "code",
   "execution_count": null,
   "id": "14ca590e",
   "metadata": {},
   "outputs": [],
   "source": []
  },
  {
   "cell_type": "code",
   "execution_count": null,
   "id": "f4a7919b",
   "metadata": {},
   "outputs": [],
   "source": []
  },
  {
   "cell_type": "markdown",
   "id": "af203c54",
   "metadata": {},
   "source": [
    "# airline"
   ]
  },
  {
   "cell_type": "code",
   "execution_count": 15,
   "id": "f5137de4",
   "metadata": {},
   "outputs": [
    {
     "data": {
      "text/plain": [
       "Vistara      127859\n",
       "Air_India     80892\n",
       "Indigo        43120\n",
       "GO_FIRST      23173\n",
       "AirAsia       16098\n",
       "SpiceJet       9011\n",
       "Name: airline, dtype: int64"
      ]
     },
     "execution_count": 15,
     "metadata": {},
     "output_type": "execute_result"
    }
   ],
   "source": [
    "df.airline.value_counts()"
   ]
  },
  {
   "cell_type": "code",
   "execution_count": 16,
   "id": "ac9b4588",
   "metadata": {},
   "outputs": [
    {
     "name": "stderr",
     "output_type": "stream",
     "text": [
      "C:\\Users\\abhay\\anaconda3\\lib\\site-packages\\seaborn\\_decorators.py:36: FutureWarning: Pass the following variable as a keyword arg: x. From version 0.12, the only valid positional argument will be `data`, and passing other arguments without an explicit keyword will result in an error or misinterpretation.\n",
      "  warnings.warn(\n"
     ]
    },
    {
     "data": {
      "text/plain": [
       "<AxesSubplot:xlabel='airline', ylabel='count'>"
      ]
     },
     "execution_count": 16,
     "metadata": {},
     "output_type": "execute_result"
    },
    {
     "data": {
      "image/png": "[encoded data removed]",
      "text/plain": [
       "<Figure size 640x480 with 1 Axes>"
      ]
     },
     "metadata": {},
     "output_type": "display_data"
    }
   ],
   "source": [
    "sns.countplot(df.airline)"
   ]
  },
  {
   "cell_type": "code",
   "execution_count": 17,
   "id": "7a500f29",
   "metadata": {},
   "outputs": [
    {
     "name": "stdout",
     "output_type": "stream",
     "text": [
      "                df        sum_sq       mean_sq             F  PR(>F)\n",
      "airline        5.0  3.441762e+13  6.883524e+12  17202.225234     0.0\n",
      "Residual  300147.0  1.201048e+14  4.001531e+08           NaN     NaN\n"
     ]
    }
   ],
   "source": [
    "import statsmodels.api as sm\n",
    "\n",
    "model=ols('price~airline',data=df).fit()\n",
    "anova=sm.stats.anova_lm(model,type=2)\n",
    "print(anova)"
   ]
  },
  {
   "cell_type": "code",
   "execution_count": 18,
   "id": "9107fbee",
   "metadata": {},
   "outputs": [
    {
     "name": "stdout",
     "output_type": "stream",
     "text": [
      "         Multiple Comparison of Means - Tukey HSD, FWER=0.50         \n",
      "=====================================================================\n",
      "  group1    group2    meandiff  p-adj     lower       upper    reject\n",
      "---------------------------------------------------------------------\n",
      "  AirAsia Air_India  19415.9464    0.0  19114.2222  19717.6705   True\n",
      "  AirAsia  GO_FIRST   1560.9349    0.0   1202.2242   1919.6455   True\n",
      "  AirAsia    Indigo   1233.1436    0.0    910.2295   1556.0576   True\n",
      "  AirAsia  SpiceJet   2088.2061    0.0   1628.2381   2548.1741   True\n",
      "  AirAsia   Vistara  26300.1619    0.0  26007.7802  26592.5435   True\n",
      "Air_India  GO_FIRST -17855.0115    0.0 -18115.5032 -17594.5199   True\n",
      "Air_India    Indigo -18182.8028    0.0 -18391.2639 -17974.3417   True\n",
      "Air_India  SpiceJet -17327.7402    0.0 -17716.0096 -16939.4708   True\n",
      "Air_India   Vistara   6884.2155    0.0   6727.1499   7041.2811   True\n",
      " GO_FIRST    Indigo   -327.7913 0.3354   -612.5577    -43.0249   True\n",
      " GO_FIRST  SpiceJet    527.2713 0.2752     93.2333    961.3093   True\n",
      " GO_FIRST   Vistara   24739.227    0.0  24489.6164  24988.8376   True\n",
      "   Indigo  SpiceJet    855.0626 0.0031    450.1069   1260.0183   True\n",
      "   Indigo   Vistara  25067.0183    0.0  24872.3247  25261.7119   True\n",
      " SpiceJet   Vistara  24211.9557    0.0   23830.901  24593.0104   True\n",
      "---------------------------------------------------------------------\n"
     ]
    }
   ],
   "source": [
    "tuk=pairwise_tukeyhsd(df.price,df.airline,alpha=0.5)\n",
    "print(tuk)"
   ]
  },
  {
   "cell_type": "code",
   "execution_count": null,
   "id": "72f96734",
   "metadata": {},
   "outputs": [],
   "source": []
  },
  {
   "cell_type": "code",
   "execution_count": null,
   "id": "6be75fc6",
   "metadata": {},
   "outputs": [],
   "source": []
  },
  {
   "cell_type": "code",
   "execution_count": null,
   "id": "42c9c6f0",
   "metadata": {},
   "outputs": [],
   "source": []
  },
  {
   "cell_type": "markdown",
   "id": "bd67a409",
   "metadata": {},
   "source": [
    "# flight"
   ]
  },
  {
   "cell_type": "code",
   "execution_count": 19,
   "id": "1ee62f58",
   "metadata": {},
   "outputs": [
    {
     "data": {
      "text/plain": [
       "UK-706     3235\n",
       "UK-772     2741\n",
       "UK-720     2650\n",
       "UK-836     2542\n",
       "UK-822     2468\n",
       "           ... \n",
       "SG-9923       1\n",
       "6E-6474       1\n",
       "6E-865        1\n",
       "G8-705        1\n",
       "G8-107        1\n",
       "Name: flight, Length: 1561, dtype: int64"
      ]
     },
     "execution_count": 19,
     "metadata": {},
     "output_type": "execute_result"
    }
   ],
   "source": [
    "df.flight.value_counts()"
   ]
  },
  {
   "cell_type": "code",
   "execution_count": 20,
   "id": "ab5678fb",
   "metadata": {},
   "outputs": [
    {
     "name": "stderr",
     "output_type": "stream",
     "text": [
      "C:\\Users\\abhay\\anaconda3\\lib\\site-packages\\seaborn\\_decorators.py:36: FutureWarning: Pass the following variable as a keyword arg: x. From version 0.12, the only valid positional argument will be `data`, and passing other arguments without an explicit keyword will result in an error or misinterpretation.\n",
      "  warnings.warn(\n"
     ]
    },
    {
     "data": {
      "text/plain": [
       "<AxesSubplot:xlabel='flight', ylabel='count'>"
      ]
     },
     "execution_count": 20,
     "metadata": {},
     "output_type": "execute_result"
    },
    {
     "data": {
      "image/png": "[encoded data removed]",
      "text/plain": [
       "<Figure size 640x480 with 1 Axes>"
      ]
     },
     "metadata": {},
     "output_type": "display_data"
    }
   ],
   "source": [
    "sns.countplot(df.flight)"
   ]
  },
  {
   "cell_type": "code",
   "execution_count": 21,
   "id": "2a610af3",
   "metadata": {},
   "outputs": [],
   "source": [
    "df.drop('flight',axis=1,inplace=True)"
   ]
  },
  {
   "cell_type": "code",
   "execution_count": null,
   "id": "44f233a9",
   "metadata": {},
   "outputs": [],
   "source": []
  },
  {
   "cell_type": "code",
   "execution_count": null,
   "id": "a6ae7ee4",
   "metadata": {},
   "outputs": [],
   "source": []
  },
  {
   "cell_type": "markdown",
   "id": "76206906",
   "metadata": {},
   "source": [
    "# source_city"
   ]
  },
  {
   "cell_type": "code",
   "execution_count": 22,
   "id": "ab6bebe3",
   "metadata": {},
   "outputs": [
    {
     "data": {
      "text/plain": [
       "Delhi        61343\n",
       "Mumbai       60896\n",
       "Bangalore    52061\n",
       "Kolkata      46347\n",
       "Hyderabad    40806\n",
       "Chennai      38700\n",
       "Name: source_city, dtype: int64"
      ]
     },
     "execution_count": 22,
     "metadata": {},
     "output_type": "execute_result"
    }
   ],
   "source": [
    "df.source_city.value_counts()"
   ]
  },
  {
   "cell_type": "code",
   "execution_count": 23,
   "id": "12fa6992",
   "metadata": {},
   "outputs": [
    {
     "name": "stderr",
     "output_type": "stream",
     "text": [
      "C:\\Users\\abhay\\anaconda3\\lib\\site-packages\\seaborn\\_decorators.py:36: FutureWarning: Pass the following variable as a keyword arg: x. From version 0.12, the only valid positional argument will be `data`, and passing other arguments without an explicit keyword will result in an error or misinterpretation.\n",
      "  warnings.warn(\n"
     ]
    },
    {
     "data": {
      "text/plain": [
       "<AxesSubplot:xlabel='source_city', ylabel='count'>"
      ]
     },
     "execution_count": 23,
     "metadata": {},
     "output_type": "execute_result"
    },
    {
     "data": {
      "image/png": "[encoded data removed]",
      "text/plain": [
       "<Figure size 640x480 with 1 Axes>"
      ]
     },
     "metadata": {},
     "output_type": "display_data"
    }
   ],
   "source": [
    "sns.countplot(df.source_city)"
   ]
  },
  {
   "cell_type": "code",
   "execution_count": 24,
   "id": "3a64c3d0",
   "metadata": {},
   "outputs": [
    {
     "name": "stdout",
     "output_type": "stream",
     "text": [
      "                   df        sum_sq       mean_sq           F         PR(>F)\n",
      "source_city       5.0  3.725370e+11  7.450739e+10  145.074236  2.474926e-154\n",
      "Residual     300147.0  1.541498e+14  5.135812e+08         NaN            NaN\n"
     ]
    }
   ],
   "source": [
    "model=ols('price~source_city',data=df).fit()\n",
    "anova=sm.stats.anova_lm(model,type=2)\n",
    "print(anova)"
   ]
  },
  {
   "cell_type": "code",
   "execution_count": 25,
   "id": "e76704b5",
   "metadata": {},
   "outputs": [
    {
     "name": "stdout",
     "output_type": "stream",
     "text": [
      "       Multiple Comparison of Means - Tukey HSD, FWER=0.50        \n",
      "==================================================================\n",
      "  group1    group2   meandiff  p-adj    lower      upper    reject\n",
      "------------------------------------------------------------------\n",
      "Bangalore   Chennai   523.1697 0.0077   257.3331   789.0062   True\n",
      "Bangalore     Delhi -2520.0608    0.0 -2756.0827  -2284.039   True\n",
      "Bangalore Hyderabad -1313.7438    0.0  -1575.616 -1051.8717   True\n",
      "Bangalore   Kolkata   272.5463 0.4125    19.6019   525.4906   True\n",
      "Bangalore    Mumbai    12.6167    1.0  -223.8025   249.0359  False\n",
      "  Chennai     Delhi -3043.2305    0.0 -3300.3483 -2786.1127   True\n",
      "  Chennai Hyderabad -1836.9135    0.0 -2117.9478 -1555.8793   True\n",
      "  Chennai   Kolkata  -250.6234 0.5945  -523.3579     22.111  False\n",
      "  Chennai    Mumbai  -510.5529  0.007  -768.0355  -253.0703   True\n",
      "    Delhi Hyderabad   1206.317    0.0   953.3002  1459.3338   True\n",
      "    Delhi   Kolkata  2792.6071    0.0  2548.8422   3036.372   True\n",
      "    Delhi    Mumbai  2532.6776    0.0  2306.1063  2759.2488   True\n",
      "Hyderabad   Kolkata  1586.2901    0.0  1317.4184  1855.1618   True\n",
      "Hyderabad    Mumbai  1326.3606    0.0  1072.9731  1579.7481   True\n",
      "  Kolkata    Mumbai  -259.9295 0.4267  -504.0792   -15.7799   True\n",
      "------------------------------------------------------------------\n"
     ]
    }
   ],
   "source": [
    "tuk=pairwise_tukeyhsd(df.price,df.source_city,alpha=0.5)\n",
    "print(tuk)"
   ]
  },
  {
   "cell_type": "code",
   "execution_count": 26,
   "id": "8e752078",
   "metadata": {},
   "outputs": [],
   "source": [
    "df.source_city.replace({'Mumbai':'Bangalore'},inplace=True)"
   ]
  },
  {
   "cell_type": "code",
   "execution_count": 27,
   "id": "9b501cce",
   "metadata": {},
   "outputs": [
    {
     "name": "stdout",
     "output_type": "stream",
     "text": [
      "       Multiple Comparison of Means - Tukey HSD, FWER=0.50        \n",
      "==================================================================\n",
      "  group1    group2   meandiff  p-adj    lower      upper    reject\n",
      "------------------------------------------------------------------\n",
      "Bangalore   Chennai   516.3679  0.001   303.3496   729.3862   True\n",
      "Bangalore     Delhi -2526.8626    0.0 -2708.2501 -2345.4751   True\n",
      "Bangalore Hyderabad -1320.5456    0.0 -1529.4296 -1111.6617   True\n",
      "Bangalore   Kolkata   265.7445  0.209    66.2441   465.2449   True\n",
      "  Chennai     Delhi -3043.2305    0.0 -3278.0062 -2808.4548   True\n",
      "  Chennai Hyderabad -1836.9135    0.0 -2093.5274 -1580.2996   True\n",
      "  Chennai   Kolkata  -250.6234 0.4934  -499.6587    -1.5881   True\n",
      "    Delhi Hyderabad   1206.317    0.0   975.2859   1437.348   True\n",
      "    Delhi   Kolkata  2792.6071    0.0   2570.024  3015.1902   True\n",
      "Hyderabad   Kolkata  1586.2901    0.0  1340.7818  1831.7984   True\n",
      "------------------------------------------------------------------\n"
     ]
    }
   ],
   "source": [
    "tuk=pairwise_tukeyhsd(df.price,df.source_city,alpha=0.5)\n",
    "print(tuk)"
   ]
  },
  {
   "cell_type": "code",
   "execution_count": null,
   "id": "31343e02",
   "metadata": {},
   "outputs": [],
   "source": []
  },
  {
   "cell_type": "code",
   "execution_count": null,
   "id": "b797f310",
   "metadata": {},
   "outputs": [],
   "source": []
  },
  {
   "cell_type": "code",
   "execution_count": null,
   "id": "05254ee6",
   "metadata": {},
   "outputs": [],
   "source": []
  },
  {
   "cell_type": "markdown",
   "id": "01e2c503",
   "metadata": {},
   "source": [
    "# departure_time"
   ]
  },
  {
   "cell_type": "code",
   "execution_count": 28,
   "id": "98e12595",
   "metadata": {},
   "outputs": [
    {
     "data": {
      "text/plain": [
       "Morning          71146\n",
       "Early_Morning    66790\n",
       "Evening          65102\n",
       "Night            48015\n",
       "Afternoon        47794\n",
       "Late_Night        1306\n",
       "Name: departure_time, dtype: int64"
      ]
     },
     "execution_count": 28,
     "metadata": {},
     "output_type": "execute_result"
    }
   ],
   "source": [
    "df.departure_time.value_counts()"
   ]
  },
  {
   "cell_type": "code",
   "execution_count": 29,
   "id": "4d69c33c",
   "metadata": {},
   "outputs": [
    {
     "name": "stderr",
     "output_type": "stream",
     "text": [
      "C:\\Users\\abhay\\anaconda3\\lib\\site-packages\\seaborn\\_decorators.py:36: FutureWarning: Pass the following variable as a keyword arg: x. From version 0.12, the only valid positional argument will be `data`, and passing other arguments without an explicit keyword will result in an error or misinterpretation.\n",
      "  warnings.warn(\n"
     ]
    },
    {
     "data": {
      "text/plain": [
       "<AxesSubplot:xlabel='departure_time', ylabel='count'>"
      ]
     },
     "execution_count": 29,
     "metadata": {},
     "output_type": "execute_result"
    },
    {
     "data": {
      "image/png": "[encoded data removed]",
      "text/plain": [
       "<Figure size 640x480 with 1 Axes>"
      ]
     },
     "metadata": {},
     "output_type": "display_data"
    }
   ],
   "source": [
    "sns.countplot(df.departure_time)"
   ]
  },
  {
   "cell_type": "code",
   "execution_count": 30,
   "id": "b5fdeee8",
   "metadata": {},
   "outputs": [
    {
     "name": "stdout",
     "output_type": "stream",
     "text": [
      "                      df        sum_sq       mean_sq           F  PR(>F)\n",
      "departure_time       5.0  8.174463e+11  1.634893e+11  319.253324     0.0\n",
      "Residual        300147.0  1.537049e+14  5.120988e+08         NaN     NaN\n"
     ]
    }
   ],
   "source": [
    "model=ols('price~departure_time',data=df).fit()\n",
    "anova=sm.stats.anova_lm(model,type=2)\n",
    "\n",
    "print(anova)"
   ]
  },
  {
   "cell_type": "code",
   "execution_count": 31,
   "id": "3ff5c84d",
   "metadata": {},
   "outputs": [
    {
     "name": "stdout",
     "output_type": "stream",
     "text": [
      "             Multiple Comparison of Means - Tukey HSD, FWER=0.50             \n",
      "=============================================================================\n",
      "    group1        group2      meandiff  p-adj     lower       upper    reject\n",
      "-----------------------------------------------------------------------------\n",
      "    Afternoon Early_Morning   2190.1757    0.0   1953.2191   2427.1322   True\n",
      "    Afternoon       Evening   3050.1464    0.0   2811.9119   3288.3808   True\n",
      "    Afternoon    Late_Night  -8883.4128    0.0  -9992.6684  -7774.1572   True\n",
      "    Afternoon       Morning   3448.7573    0.0    3214.846   3682.6686   True\n",
      "    Afternoon         Night   4881.9203    0.0   4626.3695    5137.471   True\n",
      "Early_Morning       Evening    859.9707    0.0    642.1468   1077.7946   True\n",
      "Early_Morning    Late_Night -11073.5884    0.0 -12178.6402  -9968.5366   True\n",
      "Early_Morning       Morning   1258.5817    0.0   1045.4947   1471.6687   True\n",
      "Early_Morning         Night   2691.7446    0.0   2455.1061   2928.3831   True\n",
      "      Evening    Late_Night -11933.5591    0.0 -13038.8857 -10828.2326   True\n",
      "      Evening       Morning     398.611 0.0148    184.1038    613.1181   True\n",
      "      Evening         Night   1831.7739    0.0   1593.8558    2069.692   True\n",
      "   Late_Night       Morning  12332.1701    0.0  11227.7673  13436.5729   True\n",
      "   Late_Night         Night   13765.333    0.0  12656.1454  14874.5207   True\n",
      "      Morning         Night   1433.1629    0.0   1199.5739    1666.752   True\n",
      "-----------------------------------------------------------------------------\n"
     ]
    }
   ],
   "source": [
    "tuk=pairwise_tukeyhsd(df.price,df.departure_time,alpha=0.5)\n",
    "print(tuk)"
   ]
  },
  {
   "cell_type": "code",
   "execution_count": null,
   "id": "d074076a",
   "metadata": {},
   "outputs": [],
   "source": []
  },
  {
   "cell_type": "code",
   "execution_count": null,
   "id": "1ad88e64",
   "metadata": {},
   "outputs": [],
   "source": []
  },
  {
   "cell_type": "markdown",
   "id": "737f6293",
   "metadata": {},
   "source": [
    "# stops"
   ]
  },
  {
   "cell_type": "code",
   "execution_count": 32,
   "id": "eaa648f9",
   "metadata": {},
   "outputs": [
    {
     "data": {
      "text/plain": [
       "one            250863\n",
       "zero            36004\n",
       "two_or_more     13286\n",
       "Name: stops, dtype: int64"
      ]
     },
     "execution_count": 32,
     "metadata": {},
     "output_type": "execute_result"
    }
   ],
   "source": [
    "df.stops.value_counts()"
   ]
  },
  {
   "cell_type": "code",
   "execution_count": 33,
   "id": "aed7de41",
   "metadata": {},
   "outputs": [
    {
     "name": "stderr",
     "output_type": "stream",
     "text": [
      "C:\\Users\\abhay\\anaconda3\\lib\\site-packages\\seaborn\\_decorators.py:36: FutureWarning: Pass the following variable as a keyword arg: x. From version 0.12, the only valid positional argument will be `data`, and passing other arguments without an explicit keyword will result in an error or misinterpretation.\n",
      "  warnings.warn(\n"
     ]
    },
    {
     "data": {
      "text/plain": [
       "<AxesSubplot:xlabel='stops', ylabel='count'>"
      ]
     },
     "execution_count": 33,
     "metadata": {},
     "output_type": "execute_result"
    },
    {
     "data": {
      "image/png": "[encoded data removed]",
      "text/plain": [
       "<Figure size 640x480 with 1 Axes>"
      ]
     },
     "metadata": {},
     "output_type": "display_data"
    }
   ],
   "source": [
    "sns.countplot(df.stops)"
   ]
  },
  {
   "cell_type": "code",
   "execution_count": 34,
   "id": "76c1f285",
   "metadata": {},
   "outputs": [
    {
     "name": "stdout",
     "output_type": "stream",
     "text": [
      "                df        sum_sq       mean_sq            F  PR(>F)\n",
      "stops          2.0  6.397948e+12  3.198974e+12  6482.199357     0.0\n",
      "Residual  300150.0  1.481244e+14  4.935014e+08          NaN     NaN\n"
     ]
    }
   ],
   "source": [
    "model=ols('price~stops',data=df).fit()\n",
    "anova=sm.stats.anova_lm(model,type=2)\n",
    "print(anova)"
   ]
  },
  {
   "cell_type": "code",
   "execution_count": 35,
   "id": "a54c97ff",
   "metadata": {},
   "outputs": [
    {
     "name": "stdout",
     "output_type": "stream",
     "text": [
      "          Multiple Comparison of Means - Tukey HSD, FWER=0.50           \n",
      "========================================================================\n",
      "   group1      group2     meandiff  p-adj    lower       upper    reject\n",
      "------------------------------------------------------------------------\n",
      "        one two_or_more  -8797.7633  -0.0  -9019.8031  -8575.7236   True\n",
      "        one        zero -13523.0018  -0.0 -13663.5639 -13382.4397   True\n",
      "two_or_more        zero  -4725.2385  -0.0   -4978.418   -4472.059   True\n",
      "------------------------------------------------------------------------\n"
     ]
    }
   ],
   "source": [
    "tuk=pairwise_tukeyhsd(df.price,df.stops,alpha=0.5)\n",
    "print(tuk)"
   ]
  },
  {
   "cell_type": "markdown",
   "id": "3324041d",
   "metadata": {},
   "source": [
    "# arrival_time"
   ]
  },
  {
   "cell_type": "code",
   "execution_count": 36,
   "id": "66f9e81e",
   "metadata": {},
   "outputs": [
    {
     "data": {
      "text/plain": [
       "Night            91538\n",
       "Evening          78323\n",
       "Morning          62735\n",
       "Afternoon        38139\n",
       "Early_Morning    15417\n",
       "Late_Night       14001\n",
       "Name: arrival_time, dtype: int64"
      ]
     },
     "execution_count": 36,
     "metadata": {},
     "output_type": "execute_result"
    }
   ],
   "source": [
    "df.arrival_time.value_counts()"
   ]
  },
  {
   "cell_type": "code",
   "execution_count": 37,
   "id": "07de488c",
   "metadata": {},
   "outputs": [
    {
     "name": "stderr",
     "output_type": "stream",
     "text": [
      "C:\\Users\\abhay\\anaconda3\\lib\\site-packages\\seaborn\\_decorators.py:36: FutureWarning: Pass the following variable as a keyword arg: x. From version 0.12, the only valid positional argument will be `data`, and passing other arguments without an explicit keyword will result in an error or misinterpretation.\n",
      "  warnings.warn(\n"
     ]
    },
    {
     "data": {
      "text/plain": [
       "<AxesSubplot:xlabel='arrival_time', ylabel='count'>"
      ]
     },
     "execution_count": 37,
     "metadata": {},
     "output_type": "execute_result"
    },
    {
     "data": {
      "image/png": "[encoded data removed]",
      "text/plain": [
       "<Figure size 640x480 with 1 Axes>"
      ]
     },
     "metadata": {},
     "output_type": "display_data"
    }
   ],
   "source": [
    "sns.countplot(df.arrival_time)"
   ]
  },
  {
   "cell_type": "code",
   "execution_count": 38,
   "id": "f1e9a376",
   "metadata": {},
   "outputs": [
    {
     "name": "stdout",
     "output_type": "stream",
     "text": [
      "                    df        sum_sq       mean_sq            F  PR(>F)\n",
      "arrival_time       5.0  2.566016e+12  5.132032e+11  1013.688328     0.0\n",
      "Residual      300147.0  1.519564e+14  5.062731e+08          NaN     NaN\n"
     ]
    }
   ],
   "source": [
    "model=ols('price~arrival_time',data=df).fit()\n",
    "anova=sm.stats.anova_lm(model,type=2)\n",
    "print(anova)"
   ]
  },
  {
   "cell_type": "code",
   "execution_count": 39,
   "id": "9c9c9911",
   "metadata": {},
   "outputs": [
    {
     "name": "stdout",
     "output_type": "stream",
     "text": [
      "            Multiple Comparison of Means - Tukey HSD, FWER=0.50             \n",
      "============================================================================\n",
      "    group1        group2      meandiff  p-adj    lower       upper    reject\n",
      "----------------------------------------------------------------------------\n",
      "    Afternoon Early_Morning  -3501.0078   0.0  -3876.3126  -3125.7029   True\n",
      "    Afternoon       Evening   4547.6139   0.0   4302.0709   4793.1569   True\n",
      "    Afternoon    Late_Night  -7208.5874   0.0  -7597.1724  -6820.0024   True\n",
      "    Afternoon       Morning    3736.186   0.0   3480.8484   3991.5236   True\n",
      "    Afternoon         Night   3090.1804   0.0    2850.512   3329.8488   True\n",
      "Early_Morning       Evening   8048.6217   0.0   7702.1382   8395.1052   True\n",
      "Early_Morning    Late_Night  -3707.5796   0.0  -4166.6632   -3248.496   True\n",
      "Early_Morning       Morning   7237.1938   0.0   6883.7016    7590.686   True\n",
      "Early_Morning         Night   6591.1882   0.0   6248.8427   6933.5337   True\n",
      "      Evening    Late_Night -11756.2013   0.0 -12117.0273 -11395.3753   True\n",
      "      Evening       Morning   -811.4279   0.0  -1022.1276   -600.7282   True\n",
      "      Evening         Night  -1457.4335   0.0  -1648.8442  -1266.0228   True\n",
      "   Late_Night       Morning  10944.7734   0.0  10577.2121  11312.3347   True\n",
      "   Late_Night         Night  10298.7678   0.0   9941.9135  10655.6221   True\n",
      "      Morning         Night   -646.0056   0.0    -849.829   -442.1822   True\n",
      "----------------------------------------------------------------------------\n"
     ]
    }
   ],
   "source": [
    "tuk=pairwise_tukeyhsd(df.price,df.arrival_time,alpha=0.5)\n",
    "print(tuk)"
   ]
  },
  {
   "cell_type": "markdown",
   "id": "a4343f5d",
   "metadata": {},
   "source": [
    "# destination_city"
   ]
  },
  {
   "cell_type": "code",
   "execution_count": 40,
   "id": "0c9f6be7",
   "metadata": {},
   "outputs": [
    {
     "data": {
      "text/plain": [
       "Mumbai       59097\n",
       "Delhi        57360\n",
       "Bangalore    51068\n",
       "Kolkata      49534\n",
       "Hyderabad    42726\n",
       "Chennai      40368\n",
       "Name: destination_city, dtype: int64"
      ]
     },
     "execution_count": 40,
     "metadata": {},
     "output_type": "execute_result"
    }
   ],
   "source": [
    "df.destination_city.value_counts()"
   ]
  },
  {
   "cell_type": "code",
   "execution_count": 41,
   "id": "99816ea5",
   "metadata": {},
   "outputs": [
    {
     "name": "stderr",
     "output_type": "stream",
     "text": [
      "C:\\Users\\abhay\\anaconda3\\lib\\site-packages\\seaborn\\_decorators.py:36: FutureWarning: Pass the following variable as a keyword arg: x. From version 0.12, the only valid positional argument will be `data`, and passing other arguments without an explicit keyword will result in an error or misinterpretation.\n",
      "  warnings.warn(\n"
     ]
    },
    {
     "data": {
      "text/plain": [
       "<AxesSubplot:xlabel='destination_city', ylabel='count'>"
      ]
     },
     "execution_count": 41,
     "metadata": {},
     "output_type": "execute_result"
    },
    {
     "data": {
      "image/png": "[encoded data removed]",
      "text/plain": [
       "<Figure size 640x480 with 1 Axes>"
      ]
     },
     "metadata": {},
     "output_type": "display_data"
    }
   ],
   "source": [
    "sns.countplot(df.destination_city)"
   ]
  },
  {
   "cell_type": "code",
   "execution_count": 42,
   "id": "b3959b01",
   "metadata": {},
   "outputs": [
    {
     "name": "stdout",
     "output_type": "stream",
     "text": [
      "                        df        sum_sq       mean_sq           F  \\\n",
      "destination_city       5.0  4.956858e+11  9.913716e+10  193.185491   \n",
      "Residual          300147.0  1.540267e+14  5.131709e+08         NaN   \n",
      "\n",
      "                         PR(>F)  \n",
      "destination_city  3.088843e-206  \n",
      "Residual                    NaN  \n"
     ]
    }
   ],
   "source": [
    "model=ols('price~destination_city',data=df).fit()\n",
    "anova=sm.stats.anova_lm(model,type=2)\n",
    "print(anova)"
   ]
  },
  {
   "cell_type": "code",
   "execution_count": 43,
   "id": "4f42dd4a",
   "metadata": {},
   "outputs": [
    {
     "name": "stdout",
     "output_type": "stream",
     "text": [
      "       Multiple Comparison of Means - Tukey HSD, FWER=0.50        \n",
      "==================================================================\n",
      "  group1    group2   meandiff  p-adj    lower      upper    reject\n",
      "------------------------------------------------------------------\n",
      "Bangalore   Chennai   360.3143 0.1602    96.6394   623.9892   True\n",
      "Bangalore     Delhi   -3156.92    0.0 -3397.7968 -2916.0432   True\n",
      "Bangalore Hyderabad -1165.5761    0.0 -1425.1555  -905.9967   True\n",
      "Bangalore   Kolkata   365.4634 0.1078   115.7853   615.1415   True\n",
      "Bangalore    Mumbai  -221.3595  0.587  -460.5632    17.8442  False\n",
      "  Chennai     Delhi -3517.2343    0.0 -3774.4453 -3260.0233   True\n",
      "  Chennai Hyderabad -1525.8905    0.0 -1800.6946 -1251.0863   True\n",
      "  Chennai   Kolkata      5.149    1.0  -260.3223   270.6204  False\n",
      "  Chennai    Mumbai  -581.6739  0.001  -837.3187   -326.029   True\n",
      "    Delhi Hyderabad  1991.3439    0.0   1738.333  2244.3548   True\n",
      "    Delhi   Kolkata  3522.3834    0.0  3279.5415  3765.2253   True\n",
      "    Delhi    Mumbai  2935.5605    0.0  2703.5013  3167.6196   True\n",
      "Hyderabad   Kolkata  1531.0395    0.0  1269.6355  1792.4435   True\n",
      "Hyderabad    Mumbai   944.2166    0.0    692.798  1195.6352   True\n",
      "  Kolkata    Mumbai  -586.8229 0.0003  -828.0054  -345.6405   True\n",
      "------------------------------------------------------------------\n"
     ]
    }
   ],
   "source": [
    "tuk=pairwise_tukeyhsd(df.price,df.destination_city,alpha=0.5)\n",
    "print(tuk)"
   ]
  },
  {
   "cell_type": "code",
   "execution_count": 44,
   "id": "1a1c1c3b",
   "metadata": {},
   "outputs": [],
   "source": [
    "df.destination_city.replace({'Mumbai':'Bangalore','Kolkata':'Chennai'},inplace=True)"
   ]
  },
  {
   "cell_type": "code",
   "execution_count": 45,
   "id": "b9a642b7",
   "metadata": {},
   "outputs": [
    {
     "name": "stdout",
     "output_type": "stream",
     "text": [
      "       Multiple Comparison of Means - Tukey HSD, FWER=0.50       \n",
      "=================================================================\n",
      "  group1    group2   meandiff  p-adj   lower      upper    reject\n",
      "-----------------------------------------------------------------\n",
      "Bangalore   Chennai   481.8976   0.0     339.47   624.3253   True\n",
      "Bangalore     Delhi -3038.1737   0.0 -3201.3385 -2875.0089   True\n",
      "Bangalore Hyderabad -1046.8298   0.0 -1227.4375  -866.2222   True\n",
      "  Chennai     Delhi -3520.0713   0.0 -3689.4151 -3350.7276   True\n",
      "  Chennai Hyderabad -1528.7275   0.0 -1714.9361 -1342.5188   True\n",
      "    Delhi Hyderabad  1991.3439   0.0  1788.8327  2193.8551   True\n",
      "-----------------------------------------------------------------\n"
     ]
    }
   ],
   "source": [
    "tuk=pairwise_tukeyhsd(df.price,df.destination_city,alpha=0.5)\n",
    "print(tuk)"
   ]
  },
  {
   "cell_type": "code",
   "execution_count": null,
   "id": "4c7a790c",
   "metadata": {},
   "outputs": [],
   "source": []
  },
  {
   "cell_type": "markdown",
   "id": "81c73772",
   "metadata": {},
   "source": [
    "# class"
   ]
  },
  {
   "cell_type": "code",
   "execution_count": 46,
   "id": "9adbe932",
   "metadata": {},
   "outputs": [
    {
     "data": {
      "text/plain": [
       "Economy     206666\n",
       "Business     93487\n",
       "Name: class, dtype: int64"
      ]
     },
     "execution_count": 46,
     "metadata": {},
     "output_type": "execute_result"
    }
   ],
   "source": [
    "df['class'].value_counts()"
   ]
  },
  {
   "cell_type": "code",
   "execution_count": 47,
   "id": "4c0be252",
   "metadata": {},
   "outputs": [
    {
     "name": "stderr",
     "output_type": "stream",
     "text": [
      "C:\\Users\\abhay\\anaconda3\\lib\\site-packages\\seaborn\\_decorators.py:36: FutureWarning: Pass the following variable as a keyword arg: x. From version 0.12, the only valid positional argument will be `data`, and passing other arguments without an explicit keyword will result in an error or misinterpretation.\n",
      "  warnings.warn(\n"
     ]
    },
    {
     "data": {
      "text/plain": [
       "<AxesSubplot:xlabel='class', ylabel='count'>"
      ]
     },
     "execution_count": 47,
     "metadata": {},
     "output_type": "execute_result"
    },
    {
     "data": {
      "image/png": "[encoded data removed]",
      "text/plain": [
       "<Figure size 640x480 with 1 Axes>"
      ]
     },
     "metadata": {},
     "output_type": "display_data"
    }
   ],
   "source": [
    "sns.countplot(df['class'])"
   ]
  },
  {
   "cell_type": "code",
   "execution_count": null,
   "id": "cc36bae8",
   "metadata": {},
   "outputs": [],
   "source": []
  },
  {
   "cell_type": "code",
   "execution_count": null,
   "id": "57748b5c",
   "metadata": {},
   "outputs": [],
   "source": []
  },
  {
   "cell_type": "markdown",
   "id": "d52fed6d",
   "metadata": {},
   "source": [
    "# duration"
   ]
  },
  {
   "cell_type": "code",
   "execution_count": 48,
   "id": "51507c87",
   "metadata": {},
   "outputs": [
    {
     "data": {
      "text/plain": [
       "2.17     4242\n",
       "2.25     4036\n",
       "2.75     2879\n",
       "2.08     2755\n",
       "2.83     2323\n",
       "         ... \n",
       "37.17       1\n",
       "38.75       1\n",
       "38.50       1\n",
       "36.25       1\n",
       "41.50       1\n",
       "Name: duration, Length: 476, dtype: int64"
      ]
     },
     "execution_count": 48,
     "metadata": {},
     "output_type": "execute_result"
    }
   ],
   "source": [
    "df.duration.value_counts()"
   ]
  },
  {
   "cell_type": "code",
   "execution_count": 49,
   "id": "2ea969bc",
   "metadata": {},
   "outputs": [
    {
     "name": "stderr",
     "output_type": "stream",
     "text": [
      "C:\\Users\\abhay\\anaconda3\\lib\\site-packages\\seaborn\\distributions.py:2619: FutureWarning: `distplot` is a deprecated function and will be removed in a future version. Please adapt your code to use either `displot` (a figure-level function with similar flexibility) or `histplot` (an axes-level function for histograms).\n",
      "  warnings.warn(msg, FutureWarning)\n"
     ]
    },
    {
     "data": {
      "text/plain": [
       "<AxesSubplot:xlabel='duration', ylabel='Density'>"
      ]
     },
     "execution_count": 49,
     "metadata": {},
     "output_type": "execute_result"
    },
    {
     "data": {
      "image/png": "[encoded data removed]",
      "text/plain": [
       "<Figure size 640x480 with 1 Axes>"
      ]
     },
     "metadata": {},
     "output_type": "display_data"
    }
   ],
   "source": [
    "sns.distplot(df.duration)"
   ]
  },
  {
   "cell_type": "code",
   "execution_count": 50,
   "id": "4c507fd8",
   "metadata": {},
   "outputs": [
    {
     "name": "stderr",
     "output_type": "stream",
     "text": [
      "C:\\Users\\abhay\\anaconda3\\lib\\site-packages\\seaborn\\_decorators.py:36: FutureWarning: Pass the following variable as a keyword arg: x. From version 0.12, the only valid positional argument will be `data`, and passing other arguments without an explicit keyword will result in an error or misinterpretation.\n",
      "  warnings.warn(\n"
     ]
    },
    {
     "data": {
      "text/plain": [
       "<AxesSubplot:xlabel='duration'>"
      ]
     },
     "execution_count": 50,
     "metadata": {},
     "output_type": "execute_result"
    },
    {
     "data": {
      "image/png": "[encoded data removed]",
      "text/plain": [
       "<Figure size 640x480 with 1 Axes>"
      ]
     },
     "metadata": {},
     "output_type": "display_data"
    }
   ],
   "source": [
    "sns.boxplot(df.duration)"
   ]
  },
  {
   "cell_type": "code",
   "execution_count": 51,
   "id": "91e6c717",
   "metadata": {},
   "outputs": [],
   "source": [
    "q3=df.duration.quantile(0.75)\n",
    "q1=df.duration.quantile(0.25)\n",
    "iqr=q3-q1\n",
    "upper=q3+(1.5*iqr)\n",
    "lower=q1-(1.5*iqr)\n",
    "df.duration=np.where(df.duration>upper,upper,df.duration)\n",
    "df.duration=np.where(df.duration<lower,lower,df.duration)\n"
   ]
  },
  {
   "cell_type": "code",
   "execution_count": 52,
   "id": "fea05cfd",
   "metadata": {},
   "outputs": [
    {
     "name": "stderr",
     "output_type": "stream",
     "text": [
      "C:\\Users\\abhay\\anaconda3\\lib\\site-packages\\seaborn\\_decorators.py:36: FutureWarning: Pass the following variable as a keyword arg: x. From version 0.12, the only valid positional argument will be `data`, and passing other arguments without an explicit keyword will result in an error or misinterpretation.\n",
      "  warnings.warn(\n"
     ]
    },
    {
     "data": {
      "text/plain": [
       "<AxesSubplot:xlabel='duration'>"
      ]
     },
     "execution_count": 52,
     "metadata": {},
     "output_type": "execute_result"
    },
    {
     "data": {
      "image/png": "[encoded data removed]",
      "text/plain": [
       "<Figure size 640x480 with 1 Axes>"
      ]
     },
     "metadata": {},
     "output_type": "display_data"
    }
   ],
   "source": [
    "sns.boxplot(df.duration)"
   ]
  },
  {
   "cell_type": "code",
   "execution_count": null,
   "id": "3558d9e6",
   "metadata": {},
   "outputs": [],
   "source": []
  },
  {
   "cell_type": "markdown",
   "id": "74907a2e",
   "metadata": {},
   "source": [
    "# days_left"
   ]
  },
  {
   "cell_type": "code",
   "execution_count": 53,
   "id": "265ba030",
   "metadata": {},
   "outputs": [
    {
     "data": {
      "text/plain": [
       "25    6633\n",
       "18    6602\n",
       "39    6593\n",
       "32    6585\n",
       "26    6573\n",
       "24    6542\n",
       "19    6537\n",
       "31    6534\n",
       "33    6532\n",
       "40    6531\n",
       "41    6525\n",
       "28    6522\n",
       "38    6512\n",
       "20    6502\n",
       "30    6501\n",
       "42    6497\n",
       "22    6494\n",
       "36    6490\n",
       "21    6479\n",
       "37    6476\n",
       "43    6472\n",
       "44    6436\n",
       "17    6419\n",
       "11    6417\n",
       "34    6412\n",
       "13    6404\n",
       "23    6401\n",
       "29    6397\n",
       "12    6381\n",
       "27    6360\n",
       "14    6349\n",
       "15    6340\n",
       "45    6314\n",
       "35    6291\n",
       "16    6272\n",
       "46    6160\n",
       "49    6154\n",
       "48    6078\n",
       "47    6069\n",
       "10    5822\n",
       "8     5767\n",
       "6     5740\n",
       "7     5703\n",
       "9     5665\n",
       "5     5392\n",
       "4     5077\n",
       "3     4248\n",
       "2     4026\n",
       "1     1927\n",
       "Name: days_left, dtype: int64"
      ]
     },
     "execution_count": 53,
     "metadata": {},
     "output_type": "execute_result"
    }
   ],
   "source": [
    "df.days_left.value_counts()"
   ]
  },
  {
   "cell_type": "code",
   "execution_count": 54,
   "id": "d9c6924a",
   "metadata": {},
   "outputs": [
    {
     "data": {
      "text/plain": [
       "49"
      ]
     },
     "execution_count": 54,
     "metadata": {},
     "output_type": "execute_result"
    }
   ],
   "source": [
    "df.days_left.nunique()"
   ]
  },
  {
   "cell_type": "code",
   "execution_count": 55,
   "id": "6b497878",
   "metadata": {},
   "outputs": [
    {
     "name": "stderr",
     "output_type": "stream",
     "text": [
      "C:\\Users\\abhay\\anaconda3\\lib\\site-packages\\seaborn\\distributions.py:2619: FutureWarning: `distplot` is a deprecated function and will be removed in a future version. Please adapt your code to use either `displot` (a figure-level function with similar flexibility) or `histplot` (an axes-level function for histograms).\n",
      "  warnings.warn(msg, FutureWarning)\n"
     ]
    },
    {
     "data": {
      "text/plain": [
       "<AxesSubplot:xlabel='days_left', ylabel='Density'>"
      ]
     },
     "execution_count": 55,
     "metadata": {},
     "output_type": "execute_result"
    },
    {
     "data": {
      "image/png": "[encoded data removed]",
      "text/plain": [
       "<Figure size 640x480 with 1 Axes>"
      ]
     },
     "metadata": {},
     "output_type": "display_data"
    }
   ],
   "source": [
    "sns.distplot(df.days_left)"
   ]
  },
  {
   "cell_type": "code",
   "execution_count": 56,
   "id": "f56c3787",
   "metadata": {},
   "outputs": [
    {
     "name": "stderr",
     "output_type": "stream",
     "text": [
      "C:\\Users\\abhay\\anaconda3\\lib\\site-packages\\seaborn\\_decorators.py:36: FutureWarning: Pass the following variable as a keyword arg: x. From version 0.12, the only valid positional argument will be `data`, and passing other arguments without an explicit keyword will result in an error or misinterpretation.\n",
      "  warnings.warn(\n"
     ]
    },
    {
     "data": {
      "text/plain": [
       "<AxesSubplot:xlabel='days_left'>"
      ]
     },
     "execution_count": 56,
     "metadata": {},
     "output_type": "execute_result"
    },
    {
     "data": {
      "image/png": "[encoded data removed]",
      "text/plain": [
       "<Figure size 640x480 with 1 Axes>"
      ]
     },
     "metadata": {},
     "output_type": "display_data"
    }
   ],
   "source": [
    "sns.boxplot(df.days_left)"
   ]
  },
  {
   "cell_type": "code",
   "execution_count": null,
   "id": "6aaea225",
   "metadata": {},
   "outputs": [],
   "source": []
  },
  {
   "cell_type": "code",
   "execution_count": 57,
   "id": "9789a2d4",
   "metadata": {},
   "outputs": [],
   "source": [
    "numeric=df.select_dtypes('number')"
   ]
  },
  {
   "cell_type": "code",
   "execution_count": 58,
   "id": "b3ebaa01",
   "metadata": {},
   "outputs": [
    {
     "name": "stdout",
     "output_type": "stream",
     "text": [
      "<class 'pandas.core.frame.DataFrame'>\n",
      "RangeIndex: 300153 entries, 0 to 300152\n",
      "Data columns (total 3 columns):\n",
      " #   Column     Non-Null Count   Dtype  \n",
      "---  ------     --------------   -----  \n",
      " 0   duration   300153 non-null  float64\n",
      " 1   days_left  300153 non-null  int64  \n",
      " 2   price      300153 non-null  float64\n",
      "dtypes: float64(2), int64(1)\n",
      "memory usage: 6.9 MB\n"
     ]
    }
   ],
   "source": [
    "numeric.info()"
   ]
  },
  {
   "cell_type": "code",
   "execution_count": 59,
   "id": "c92df183",
   "metadata": {},
   "outputs": [
    {
     "data": {
      "text/plain": [
       "<AxesSubplot:>"
      ]
     },
     "execution_count": 59,
     "metadata": {},
     "output_type": "execute_result"
    },
    {
     "data": {
      "image/png": "[encoded data removed]",
      "text/plain": [
       "<Figure size 600x600 with 2 Axes>"
      ]
     },
     "metadata": {},
     "output_type": "display_data"
    }
   ],
   "source": [
    "plt.figure(figsize=(6,6))\n",
    "\n",
    "sns.heatmap(numeric.corr(),annot=True,vmin=-1,vmax=1)"
   ]
  },
  {
   "cell_type": "code",
   "execution_count": 60,
   "id": "16737b32",
   "metadata": {},
   "outputs": [],
   "source": [
    "\n",
    "from sklearn.preprocessing import LabelEncoder"
   ]
  },
  {
   "cell_type": "code",
   "execution_count": 61,
   "id": "8111c230",
   "metadata": {},
   "outputs": [],
   "source": [
    "le = LabelEncoder()\n",
    "df['class']= le.fit_transform(df['class'])\n"
   ]
  },
  {
   "cell_type": "code",
   "execution_count": 62,
   "id": "60f74f38",
   "metadata": {},
   "outputs": [
    {
     "data": {
      "text/html": [
       "<div>\n",
       "<style scoped>\n",
       "    .dataframe tbody tr th:only-of-type {\n",
       "        vertical-align: middle;\n",
       "    }\n",
       "\n",
       "    .dataframe tbody tr th {\n",
       "        vertical-align: top;\n",
       "    }\n",
       "\n",
       "    .dataframe thead th {\n",
       "        text-align: right;\n",
       "    }\n",
       "</style>\n",
       "<table border=\"1\" class=\"dataframe\">\n",
       "  <thead>\n",
       "    <tr style=\"text-align: right;\">\n",
       "      <th></th>\n",
       "      <th>airline</th>\n",
       "      <th>source_city</th>\n",
       "      <th>departure_time</th>\n",
       "      <th>stops</th>\n",
       "      <th>arrival_time</th>\n",
       "      <th>destination_city</th>\n",
       "      <th>class</th>\n",
       "      <th>duration</th>\n",
       "      <th>days_left</th>\n",
       "      <th>price</th>\n",
       "    </tr>\n",
       "  </thead>\n",
       "  <tbody>\n",
       "    <tr>\n",
       "      <th>0</th>\n",
       "      <td>SpiceJet</td>\n",
       "      <td>Delhi</td>\n",
       "      <td>Evening</td>\n",
       "      <td>zero</td>\n",
       "      <td>Night</td>\n",
       "      <td>Bangalore</td>\n",
       "      <td>1</td>\n",
       "      <td>2.17</td>\n",
       "      <td>1</td>\n",
       "      <td>5953.0</td>\n",
       "    </tr>\n",
       "    <tr>\n",
       "      <th>1</th>\n",
       "      <td>SpiceJet</td>\n",
       "      <td>Delhi</td>\n",
       "      <td>Early_Morning</td>\n",
       "      <td>zero</td>\n",
       "      <td>Morning</td>\n",
       "      <td>Bangalore</td>\n",
       "      <td>1</td>\n",
       "      <td>2.33</td>\n",
       "      <td>1</td>\n",
       "      <td>5953.0</td>\n",
       "    </tr>\n",
       "    <tr>\n",
       "      <th>2</th>\n",
       "      <td>AirAsia</td>\n",
       "      <td>Delhi</td>\n",
       "      <td>Early_Morning</td>\n",
       "      <td>zero</td>\n",
       "      <td>Early_Morning</td>\n",
       "      <td>Bangalore</td>\n",
       "      <td>1</td>\n",
       "      <td>2.17</td>\n",
       "      <td>1</td>\n",
       "      <td>5956.0</td>\n",
       "    </tr>\n",
       "    <tr>\n",
       "      <th>3</th>\n",
       "      <td>Vistara</td>\n",
       "      <td>Delhi</td>\n",
       "      <td>Morning</td>\n",
       "      <td>zero</td>\n",
       "      <td>Afternoon</td>\n",
       "      <td>Bangalore</td>\n",
       "      <td>1</td>\n",
       "      <td>2.25</td>\n",
       "      <td>1</td>\n",
       "      <td>5955.0</td>\n",
       "    </tr>\n",
       "    <tr>\n",
       "      <th>4</th>\n",
       "      <td>Vistara</td>\n",
       "      <td>Delhi</td>\n",
       "      <td>Morning</td>\n",
       "      <td>zero</td>\n",
       "      <td>Morning</td>\n",
       "      <td>Bangalore</td>\n",
       "      <td>1</td>\n",
       "      <td>2.33</td>\n",
       "      <td>1</td>\n",
       "      <td>5955.0</td>\n",
       "    </tr>\n",
       "  </tbody>\n",
       "</table>\n",
       "</div>"
      ],
      "text/plain": [
       "    airline source_city departure_time stops   arrival_time destination_city  \\\n",
       "0  SpiceJet       Delhi        Evening  zero          Night        Bangalore   \n",
       "1  SpiceJet       Delhi  Early_Morning  zero        Morning        Bangalore   \n",
       "2   AirAsia       Delhi  Early_Morning  zero  Early_Morning        Bangalore   \n",
       "3   Vistara       Delhi        Morning  zero      Afternoon        Bangalore   \n",
       "4   Vistara       Delhi        Morning  zero        Morning        Bangalore   \n",
       "\n",
       "   class  duration  days_left   price  \n",
       "0      1      2.17          1  5953.0  \n",
       "1      1      2.33          1  5953.0  \n",
       "2      1      2.17          1  5956.0  \n",
       "3      1      2.25          1  5955.0  \n",
       "4      1      2.33          1  5955.0  "
      ]
     },
     "execution_count": 62,
     "metadata": {},
     "output_type": "execute_result"
    }
   ],
   "source": [
    "df.head()"
   ]
  },
  {
   "cell_type": "code",
   "execution_count": null,
   "id": "e5fc837a",
   "metadata": {},
   "outputs": [],
   "source": []
  },
  {
   "cell_type": "code",
   "execution_count": 63,
   "id": "bec17590",
   "metadata": {},
   "outputs": [],
   "source": [
    "x=df.drop('price',axis=1)"
   ]
  },
  {
   "cell_type": "code",
   "execution_count": 64,
   "id": "23f04825",
   "metadata": {},
   "outputs": [],
   "source": [
    "y=df['price']"
   ]
  },
  {
   "cell_type": "code",
   "execution_count": 65,
   "id": "6b25b601",
   "metadata": {},
   "outputs": [],
   "source": [
    "from sklearn.model_selection import train_test_split\n",
    "from sklearn.linear_model import LinearRegression\n"
   ]
  },
  {
   "cell_type": "code",
   "execution_count": 66,
   "id": "af6692b5",
   "metadata": {},
   "outputs": [],
   "source": [
    "xdum=pd.get_dummies(x.airline,drop_first=True)\n",
    "q=pd.get_dummies(x.source_city,drop_first=True)\n",
    "w=pd.get_dummies(x.departure_time,drop_first=True)\n",
    "e=pd.get_dummies(x.stops,drop_first=True)\n",
    "r=pd.get_dummies(x.arrival_time,drop_first=True)\n",
    "t=pd.get_dummies(x.destination_city,drop_first=True)"
   ]
  },
  {
   "cell_type": "code",
   "execution_count": 67,
   "id": "e6f184a7",
   "metadata": {},
   "outputs": [],
   "source": [
    "x=pd.concat([x,xdum,q,w,e,r,t],axis=1)"
   ]
  },
  {
   "cell_type": "code",
   "execution_count": 68,
   "id": "b76c6aa8",
   "metadata": {},
   "outputs": [
    {
     "data": {
      "text/html": [
       "<div>\n",
       "<style scoped>\n",
       "    .dataframe tbody tr th:only-of-type {\n",
       "        vertical-align: middle;\n",
       "    }\n",
       "\n",
       "    .dataframe tbody tr th {\n",
       "        vertical-align: top;\n",
       "    }\n",
       "\n",
       "    .dataframe thead th {\n",
       "        text-align: right;\n",
       "    }\n",
       "</style>\n",
       "<table border=\"1\" class=\"dataframe\">\n",
       "  <thead>\n",
       "    <tr style=\"text-align: right;\">\n",
       "      <th></th>\n",
       "      <th>airline</th>\n",
       "      <th>source_city</th>\n",
       "      <th>departure_time</th>\n",
       "      <th>stops</th>\n",
       "      <th>arrival_time</th>\n",
       "      <th>destination_city</th>\n",
       "      <th>class</th>\n",
       "      <th>duration</th>\n",
       "      <th>days_left</th>\n",
       "      <th>Air_India</th>\n",
       "      <th>...</th>\n",
       "      <th>two_or_more</th>\n",
       "      <th>zero</th>\n",
       "      <th>Early_Morning</th>\n",
       "      <th>Evening</th>\n",
       "      <th>Late_Night</th>\n",
       "      <th>Morning</th>\n",
       "      <th>Night</th>\n",
       "      <th>Chennai</th>\n",
       "      <th>Delhi</th>\n",
       "      <th>Hyderabad</th>\n",
       "    </tr>\n",
       "  </thead>\n",
       "  <tbody>\n",
       "    <tr>\n",
       "      <th>0</th>\n",
       "      <td>SpiceJet</td>\n",
       "      <td>Delhi</td>\n",
       "      <td>Evening</td>\n",
       "      <td>zero</td>\n",
       "      <td>Night</td>\n",
       "      <td>Bangalore</td>\n",
       "      <td>1</td>\n",
       "      <td>2.17</td>\n",
       "      <td>1</td>\n",
       "      <td>0</td>\n",
       "      <td>...</td>\n",
       "      <td>0</td>\n",
       "      <td>1</td>\n",
       "      <td>0</td>\n",
       "      <td>0</td>\n",
       "      <td>0</td>\n",
       "      <td>0</td>\n",
       "      <td>1</td>\n",
       "      <td>0</td>\n",
       "      <td>0</td>\n",
       "      <td>0</td>\n",
       "    </tr>\n",
       "    <tr>\n",
       "      <th>1</th>\n",
       "      <td>SpiceJet</td>\n",
       "      <td>Delhi</td>\n",
       "      <td>Early_Morning</td>\n",
       "      <td>zero</td>\n",
       "      <td>Morning</td>\n",
       "      <td>Bangalore</td>\n",
       "      <td>1</td>\n",
       "      <td>2.33</td>\n",
       "      <td>1</td>\n",
       "      <td>0</td>\n",
       "      <td>...</td>\n",
       "      <td>0</td>\n",
       "      <td>1</td>\n",
       "      <td>0</td>\n",
       "      <td>0</td>\n",
       "      <td>0</td>\n",
       "      <td>1</td>\n",
       "      <td>0</td>\n",
       "      <td>0</td>\n",
       "      <td>0</td>\n",
       "      <td>0</td>\n",
       "    </tr>\n",
       "    <tr>\n",
       "      <th>2</th>\n",
       "      <td>AirAsia</td>\n",
       "      <td>Delhi</td>\n",
       "      <td>Early_Morning</td>\n",
       "      <td>zero</td>\n",
       "      <td>Early_Morning</td>\n",
       "      <td>Bangalore</td>\n",
       "      <td>1</td>\n",
       "      <td>2.17</td>\n",
       "      <td>1</td>\n",
       "      <td>0</td>\n",
       "      <td>...</td>\n",
       "      <td>0</td>\n",
       "      <td>1</td>\n",
       "      <td>1</td>\n",
       "      <td>0</td>\n",
       "      <td>0</td>\n",
       "      <td>0</td>\n",
       "      <td>0</td>\n",
       "      <td>0</td>\n",
       "      <td>0</td>\n",
       "      <td>0</td>\n",
       "    </tr>\n",
       "    <tr>\n",
       "      <th>3</th>\n",
       "      <td>Vistara</td>\n",
       "      <td>Delhi</td>\n",
       "      <td>Morning</td>\n",
       "      <td>zero</td>\n",
       "      <td>Afternoon</td>\n",
       "      <td>Bangalore</td>\n",
       "      <td>1</td>\n",
       "      <td>2.25</td>\n",
       "      <td>1</td>\n",
       "      <td>0</td>\n",
       "      <td>...</td>\n",
       "      <td>0</td>\n",
       "      <td>1</td>\n",
       "      <td>0</td>\n",
       "      <td>0</td>\n",
       "      <td>0</td>\n",
       "      <td>0</td>\n",
       "      <td>0</td>\n",
       "      <td>0</td>\n",
       "      <td>0</td>\n",
       "      <td>0</td>\n",
       "    </tr>\n",
       "    <tr>\n",
       "      <th>4</th>\n",
       "      <td>Vistara</td>\n",
       "      <td>Delhi</td>\n",
       "      <td>Morning</td>\n",
       "      <td>zero</td>\n",
       "      <td>Morning</td>\n",
       "      <td>Bangalore</td>\n",
       "      <td>1</td>\n",
       "      <td>2.33</td>\n",
       "      <td>1</td>\n",
       "      <td>0</td>\n",
       "      <td>...</td>\n",
       "      <td>0</td>\n",
       "      <td>1</td>\n",
       "      <td>0</td>\n",
       "      <td>0</td>\n",
       "      <td>0</td>\n",
       "      <td>1</td>\n",
       "      <td>0</td>\n",
       "      <td>0</td>\n",
       "      <td>0</td>\n",
       "      <td>0</td>\n",
       "    </tr>\n",
       "  </tbody>\n",
       "</table>\n",
       "<p>5 rows × 33 columns</p>\n",
       "</div>"
      ],
      "text/plain": [
       "    airline source_city departure_time stops   arrival_time destination_city  \\\n",
       "0  SpiceJet       Delhi        Evening  zero          Night        Bangalore   \n",
       "1  SpiceJet       Delhi  Early_Morning  zero        Morning        Bangalore   \n",
       "2   AirAsia       Delhi  Early_Morning  zero  Early_Morning        Bangalore   \n",
       "3   Vistara       Delhi        Morning  zero      Afternoon        Bangalore   \n",
       "4   Vistara       Delhi        Morning  zero        Morning        Bangalore   \n",
       "\n",
       "   class  duration  days_left  Air_India  ...  two_or_more  zero  \\\n",
       "0      1      2.17          1          0  ...            0     1   \n",
       "1      1      2.33          1          0  ...            0     1   \n",
       "2      1      2.17          1          0  ...            0     1   \n",
       "3      1      2.25          1          0  ...            0     1   \n",
       "4      1      2.33          1          0  ...            0     1   \n",
       "\n",
       "   Early_Morning  Evening  Late_Night  Morning  Night  Chennai  Delhi  \\\n",
       "0              0        0           0        0      1        0      0   \n",
       "1              0        0           0        1      0        0      0   \n",
       "2              1        0           0        0      0        0      0   \n",
       "3              0        0           0        0      0        0      0   \n",
       "4              0        0           0        1      0        0      0   \n",
       "\n",
       "   Hyderabad  \n",
       "0          0  \n",
       "1          0  \n",
       "2          0  \n",
       "3          0  \n",
       "4          0  \n",
       "\n",
       "[5 rows x 33 columns]"
      ]
     },
     "execution_count": 68,
     "metadata": {},
     "output_type": "execute_result"
    }
   ],
   "source": [
    "x.head()"
   ]
  },
  {
   "cell_type": "code",
   "execution_count": 69,
   "id": "dea5f5ec",
   "metadata": {},
   "outputs": [],
   "source": [
    "dr=['airline', 'source_city', 'departure_time', 'stops', 'arrival_time',\n",
    "       'destination_city']\n"
   ]
  },
  {
   "cell_type": "code",
   "execution_count": 70,
   "id": "e8881b60",
   "metadata": {},
   "outputs": [],
   "source": [
    "x.drop(dr,axis=1,inplace=True)"
   ]
  },
  {
   "cell_type": "code",
   "execution_count": 71,
   "id": "60e7eea3",
   "metadata": {},
   "outputs": [
    {
     "data": {
      "text/html": [
       "<div>\n",
       "<style scoped>\n",
       "    .dataframe tbody tr th:only-of-type {\n",
       "        vertical-align: middle;\n",
       "    }\n",
       "\n",
       "    .dataframe tbody tr th {\n",
       "        vertical-align: top;\n",
       "    }\n",
       "\n",
       "    .dataframe thead th {\n",
       "        text-align: right;\n",
       "    }\n",
       "</style>\n",
       "<table border=\"1\" class=\"dataframe\">\n",
       "  <thead>\n",
       "    <tr style=\"text-align: right;\">\n",
       "      <th></th>\n",
       "      <th>class</th>\n",
       "      <th>duration</th>\n",
       "      <th>days_left</th>\n",
       "      <th>Air_India</th>\n",
       "      <th>GO_FIRST</th>\n",
       "      <th>Indigo</th>\n",
       "      <th>SpiceJet</th>\n",
       "      <th>Vistara</th>\n",
       "      <th>Chennai</th>\n",
       "      <th>Delhi</th>\n",
       "      <th>...</th>\n",
       "      <th>two_or_more</th>\n",
       "      <th>zero</th>\n",
       "      <th>Early_Morning</th>\n",
       "      <th>Evening</th>\n",
       "      <th>Late_Night</th>\n",
       "      <th>Morning</th>\n",
       "      <th>Night</th>\n",
       "      <th>Chennai</th>\n",
       "      <th>Delhi</th>\n",
       "      <th>Hyderabad</th>\n",
       "    </tr>\n",
       "  </thead>\n",
       "  <tbody>\n",
       "    <tr>\n",
       "      <th>0</th>\n",
       "      <td>1</td>\n",
       "      <td>2.17</td>\n",
       "      <td>1</td>\n",
       "      <td>0</td>\n",
       "      <td>0</td>\n",
       "      <td>0</td>\n",
       "      <td>1</td>\n",
       "      <td>0</td>\n",
       "      <td>0</td>\n",
       "      <td>1</td>\n",
       "      <td>...</td>\n",
       "      <td>0</td>\n",
       "      <td>1</td>\n",
       "      <td>0</td>\n",
       "      <td>0</td>\n",
       "      <td>0</td>\n",
       "      <td>0</td>\n",
       "      <td>1</td>\n",
       "      <td>0</td>\n",
       "      <td>0</td>\n",
       "      <td>0</td>\n",
       "    </tr>\n",
       "    <tr>\n",
       "      <th>1</th>\n",
       "      <td>1</td>\n",
       "      <td>2.33</td>\n",
       "      <td>1</td>\n",
       "      <td>0</td>\n",
       "      <td>0</td>\n",
       "      <td>0</td>\n",
       "      <td>1</td>\n",
       "      <td>0</td>\n",
       "      <td>0</td>\n",
       "      <td>1</td>\n",
       "      <td>...</td>\n",
       "      <td>0</td>\n",
       "      <td>1</td>\n",
       "      <td>0</td>\n",
       "      <td>0</td>\n",
       "      <td>0</td>\n",
       "      <td>1</td>\n",
       "      <td>0</td>\n",
       "      <td>0</td>\n",
       "      <td>0</td>\n",
       "      <td>0</td>\n",
       "    </tr>\n",
       "    <tr>\n",
       "      <th>2</th>\n",
       "      <td>1</td>\n",
       "      <td>2.17</td>\n",
       "      <td>1</td>\n",
       "      <td>0</td>\n",
       "      <td>0</td>\n",
       "      <td>0</td>\n",
       "      <td>0</td>\n",
       "      <td>0</td>\n",
       "      <td>0</td>\n",
       "      <td>1</td>\n",
       "      <td>...</td>\n",
       "      <td>0</td>\n",
       "      <td>1</td>\n",
       "      <td>1</td>\n",
       "      <td>0</td>\n",
       "      <td>0</td>\n",
       "      <td>0</td>\n",
       "      <td>0</td>\n",
       "      <td>0</td>\n",
       "      <td>0</td>\n",
       "      <td>0</td>\n",
       "    </tr>\n",
       "    <tr>\n",
       "      <th>3</th>\n",
       "      <td>1</td>\n",
       "      <td>2.25</td>\n",
       "      <td>1</td>\n",
       "      <td>0</td>\n",
       "      <td>0</td>\n",
       "      <td>0</td>\n",
       "      <td>0</td>\n",
       "      <td>1</td>\n",
       "      <td>0</td>\n",
       "      <td>1</td>\n",
       "      <td>...</td>\n",
       "      <td>0</td>\n",
       "      <td>1</td>\n",
       "      <td>0</td>\n",
       "      <td>0</td>\n",
       "      <td>0</td>\n",
       "      <td>0</td>\n",
       "      <td>0</td>\n",
       "      <td>0</td>\n",
       "      <td>0</td>\n",
       "      <td>0</td>\n",
       "    </tr>\n",
       "    <tr>\n",
       "      <th>4</th>\n",
       "      <td>1</td>\n",
       "      <td>2.33</td>\n",
       "      <td>1</td>\n",
       "      <td>0</td>\n",
       "      <td>0</td>\n",
       "      <td>0</td>\n",
       "      <td>0</td>\n",
       "      <td>1</td>\n",
       "      <td>0</td>\n",
       "      <td>1</td>\n",
       "      <td>...</td>\n",
       "      <td>0</td>\n",
       "      <td>1</td>\n",
       "      <td>0</td>\n",
       "      <td>0</td>\n",
       "      <td>0</td>\n",
       "      <td>1</td>\n",
       "      <td>0</td>\n",
       "      <td>0</td>\n",
       "      <td>0</td>\n",
       "      <td>0</td>\n",
       "    </tr>\n",
       "  </tbody>\n",
       "</table>\n",
       "<p>5 rows × 27 columns</p>\n",
       "</div>"
      ],
      "text/plain": [
       "   class  duration  days_left  Air_India  GO_FIRST  Indigo  SpiceJet  Vistara  \\\n",
       "0      1      2.17          1          0         0       0         1        0   \n",
       "1      1      2.33          1          0         0       0         1        0   \n",
       "2      1      2.17          1          0         0       0         0        0   \n",
       "3      1      2.25          1          0         0       0         0        1   \n",
       "4      1      2.33          1          0         0       0         0        1   \n",
       "\n",
       "   Chennai  Delhi  ...  two_or_more  zero  Early_Morning  Evening  Late_Night  \\\n",
       "0        0      1  ...            0     1              0        0           0   \n",
       "1        0      1  ...            0     1              0        0           0   \n",
       "2        0      1  ...            0     1              1        0           0   \n",
       "3        0      1  ...            0     1              0        0           0   \n",
       "4        0      1  ...            0     1              0        0           0   \n",
       "\n",
       "   Morning  Night  Chennai  Delhi  Hyderabad  \n",
       "0        0      1        0      0          0  \n",
       "1        1      0        0      0          0  \n",
       "2        0      0        0      0          0  \n",
       "3        0      0        0      0          0  \n",
       "4        1      0        0      0          0  \n",
       "\n",
       "[5 rows x 27 columns]"
      ]
     },
     "execution_count": 71,
     "metadata": {},
     "output_type": "execute_result"
    }
   ],
   "source": [
    "x.head()"
   ]
  },
  {
   "cell_type": "code",
   "execution_count": null,
   "id": "8e61bab4",
   "metadata": {},
   "outputs": [],
   "source": []
  },
  {
   "cell_type": "code",
   "execution_count": 72,
   "id": "78d8fa84",
   "metadata": {},
   "outputs": [],
   "source": [
    "xtrain,xtest,ytrain,ytest=train_test_split(x,y,test_size=0.2)"
   ]
  },
  {
   "cell_type": "code",
   "execution_count": 73,
   "id": "cd524399",
   "metadata": {},
   "outputs": [
    {
     "data": {
      "text/html": [
       "<style>#sk-container-id-1 {color: black;background-color: white;}#sk-container-id-1 pre{padding: 0;}#sk-container-id-1 div.sk-toggleable {background-color: white;}#sk-container-id-1 label.sk-toggleable__label {cursor: pointer;display: block;width: 100%;margin-bottom: 0;padding: 0.3em;box-sizing: border-box;text-align: center;}#sk-container-id-1 label.sk-toggleable__label-arrow:before {content: \"▸\";float: left;margin-right: 0.25em;color: #696969;}#sk-container-id-1 label.sk-toggleable__label-arrow:hover:before {color: black;}#sk-container-id-1 div.sk-estimator:hover label.sk-toggleable__label-arrow:before {color: black;}#sk-container-id-1 div.sk-toggleable__content {max-height: 0;max-width: 0;overflow: hidden;text-align: left;background-color: #f0f8ff;}#sk-container-id-1 div.sk-toggleable__content pre {margin: 0.2em;color: black;border-radius: 0.25em;background-color: #f0f8ff;}#sk-container-id-1 input.sk-toggleable__control:checked~div.sk-toggleable__content {max-height: 200px;max-width: 100%;overflow: auto;}#sk-container-id-1 input.sk-toggleable__control:checked~label.sk-toggleable__label-arrow:before {content: \"▾\";}#sk-container-id-1 div.sk-estimator input.sk-toggleable__control:checked~label.sk-toggleable__label {background-color: #d4ebff;}#sk-container-id-1 div.sk-label input.sk-toggleable__control:checked~label.sk-toggleable__label {background-color: #d4ebff;}#sk-container-id-1 input.sk-hidden--visually {border: 0;clip: rect(1px 1px 1px 1px);clip: rect(1px, 1px, 1px, 1px);height: 1px;margin: -1px;overflow: hidden;padding: 0;position: absolute;width: 1px;}#sk-container-id-1 div.sk-estimator {font-family: monospace;background-color: #f0f8ff;border: 1px dotted black;border-radius: 0.25em;box-sizing: border-box;margin-bottom: 0.5em;}#sk-container-id-1 div.sk-estimator:hover {background-color: #d4ebff;}#sk-container-id-1 div.sk-parallel-item::after {content: \"\";width: 100%;border-bottom: 1px solid gray;flex-grow: 1;}#sk-container-id-1 div.sk-label:hover label.sk-toggleable__label {background-color: #d4ebff;}#sk-container-id-1 div.sk-serial::before {content: \"\";position: absolute;border-left: 1px solid gray;box-sizing: border-box;top: 0;bottom: 0;left: 50%;z-index: 0;}#sk-container-id-1 div.sk-serial {display: flex;flex-direction: column;align-items: center;background-color: white;padding-right: 0.2em;padding-left: 0.2em;position: relative;}#sk-container-id-1 div.sk-item {position: relative;z-index: 1;}#sk-container-id-1 div.sk-parallel {display: flex;align-items: stretch;justify-content: center;background-color: white;position: relative;}#sk-container-id-1 div.sk-item::before, #sk-container-id-1 div.sk-parallel-item::before {content: \"\";position: absolute;border-left: 1px solid gray;box-sizing: border-box;top: 0;bottom: 0;left: 50%;z-index: -1;}#sk-container-id-1 div.sk-parallel-item {display: flex;flex-direction: column;z-index: 1;position: relative;background-color: white;}#sk-container-id-1 div.sk-parallel-item:first-child::after {align-self: flex-end;width: 50%;}#sk-container-id-1 div.sk-parallel-item:last-child::after {align-self: flex-start;width: 50%;}#sk-container-id-1 div.sk-parallel-item:only-child::after {width: 0;}#sk-container-id-1 div.sk-dashed-wrapped {border: 1px dashed gray;margin: 0 0.4em 0.5em 0.4em;box-sizing: border-box;padding-bottom: 0.4em;background-color: white;}#sk-container-id-1 div.sk-label label {font-family: monospace;font-weight: bold;display: inline-block;line-height: 1.2em;}#sk-container-id-1 div.sk-label-container {text-align: center;}#sk-container-id-1 div.sk-container {/* jupyter's `normalize.less` sets `[hidden] { display: none; }` but bootstrap.min.css set `[hidden] { display: none !important; }` so we also need the `!important` here to be able to override the default hidden behavior on the sphinx rendered scikit-learn.org. See: https://github.com/scikit-learn/scikit-learn/issues/21755 */display: inline-block !important;position: relative;}#sk-container-id-1 div.sk-text-repr-fallback {display: none;}</style><div id=\"sk-container-id-1\" class=\"sk-top-container\"><div class=\"sk-text-repr-fallback\"><pre>LinearRegression()</pre><b>In a Jupyter environment, please rerun this cell to show the HTML representation or trust the notebook. <br />On GitHub, the HTML representation is unable to render, please try loading this page with nbviewer.org.</b></div><div class=\"sk-container\" hidden><div class=\"sk-item\"><div class=\"sk-estimator sk-toggleable\"><input class=\"sk-toggleable__control sk-hidden--visually\" id=\"sk-estimator-id-1\" type=\"checkbox\" checked><label for=\"sk-estimator-id-1\" class=\"sk-toggleable__label sk-toggleable__label-arrow\">LinearRegression</label><div class=\"sk-toggleable__content\"><pre>LinearRegression()</pre></div></div></div></div></div>"
      ],
      "text/plain": [
       "LinearRegression()"
      ]
     },
     "execution_count": 73,
     "metadata": {},
     "output_type": "execute_result"
    }
   ],
   "source": [
    "lr=LinearRegression()\n",
    "lr.fit(xtrain,ytrain)"
   ]
  },
  {
   "cell_type": "code",
   "execution_count": 74,
   "id": "f5ac1918",
   "metadata": {},
   "outputs": [],
   "source": [
    "pred=lr.predict(xtest)"
   ]
  },
  {
   "cell_type": "code",
   "execution_count": 75,
   "id": "a2ae0d26",
   "metadata": {},
   "outputs": [
    {
     "name": "stdout",
     "output_type": "stream",
     "text": [
      "52491.619372221845\n"
     ]
    }
   ],
   "source": [
    "print(lr.intercept_)"
   ]
  },
  {
   "cell_type": "code",
   "execution_count": 76,
   "id": "1c73562f",
   "metadata": {},
   "outputs": [
    {
     "name": "stdout",
     "output_type": "stream",
     "text": [
      "R-square 0.911\n"
     ]
    }
   ],
   "source": [
    "print('R-square',round(lr.score(x,y),3))"
   ]
  },
  {
   "cell_type": "code",
   "execution_count": 77,
   "id": "5b6deecf",
   "metadata": {},
   "outputs": [
    {
     "data": {
      "text/plain": [
       "0.9125071322775633"
      ]
     },
     "execution_count": 77,
     "metadata": {},
     "output_type": "execute_result"
    }
   ],
   "source": [
    "r2_score(ytest,pred)"
   ]
  },
  {
   "cell_type": "code",
   "execution_count": 78,
   "id": "6b5d082a",
   "metadata": {},
   "outputs": [],
   "source": [
    "from sklearn import metrics"
   ]
  },
  {
   "cell_type": "code",
   "execution_count": 79,
   "id": "474432ae",
   "metadata": {},
   "outputs": [
    {
     "name": "stdout",
     "output_type": "stream",
     "text": [
      "MAE: 4544.78084537023\n",
      "MSE: 45032015.6816818\n",
      "RMSE: 6710.589816229405\n"
     ]
    }
   ],
   "source": [
    "print(\"MAE:\", metrics.mean_absolute_error(ytest, pred))\n",
    "print('MSE:', metrics.mean_squared_error(ytest, pred))\n",
    "print('RMSE:', np.sqrt(metrics.mean_squared_error(ytest, pred)))"
   ]
  },
  {
   "cell_type": "code",
   "execution_count": null,
   "id": "503bdafb",
   "metadata": {},
   "outputs": [],
   "source": []
  },
  {
   "cell_type": "code",
   "execution_count": 80,
   "id": "fe8f44ae",
   "metadata": {},
   "outputs": [
    {
     "name": "stderr",
     "output_type": "stream",
     "text": [
      "C:\\Users\\abhay\\anaconda3\\lib\\site-packages\\seaborn\\distributions.py:2619: FutureWarning: `distplot` is a deprecated function and will be removed in a future version. Please adapt your code to use either `displot` (a figure-level function with similar flexibility) or `histplot` (an axes-level function for histograms).\n",
      "  warnings.warn(msg, FutureWarning)\n"
     ]
    },
    {
     "data": {
      "text/plain": [
       "<AxesSubplot:xlabel='price', ylabel='Density'>"
      ]
     },
     "execution_count": 80,
     "metadata": {},
     "output_type": "execute_result"
    },
    {
     "data": {
      "image/png": "[encoded data removed]",
      "text/plain": [
       "<Figure size 640x480 with 1 Axes>"
      ]
     },
     "metadata": {},
     "output_type": "display_data"
    }
   ],
   "source": [
    "sns.distplot(ytest-pred)"
   ]
  },
  {
   "cell_type": "code",
   "execution_count": 81,
   "id": "75510b88",
   "metadata": {},
   "outputs": [
    {
     "name": "stderr",
     "output_type": "stream",
     "text": [
      "C:\\Users\\abhay\\AppData\\Local\\Temp\\ipykernel_15824\\2277819080.py:2: UserWarning: color is redundantly defined by the 'color' keyword argument and the fmt string \"k--\" (-> color='k'). The keyword argument will take precedence.\n",
      "  plt.plot([ytrain.min(),ytrain.max()],[ytrain.min(),ytrain.max()],'k--',c='blue',lw=3)\n"
     ]
    },
    {
     "data": {
      "text/plain": [
       "Text(0, 0.5, 'Predicted')"
      ]
     },
     "execution_count": 81,
     "metadata": {},
     "output_type": "execute_result"
    },
    {
     "data": {
      "image/png": "[encoded data removed]",
      "text/plain": [
       "<Figure size 640x480 with 1 Axes>"
      ]
     },
     "metadata": {},
     "output_type": "display_data"
    }
   ],
   "source": [
    "plt.scatter(ytest,pred,c='green')\n",
    "plt.plot([ytrain.min(),ytrain.max()],[ytrain.min(),ytrain.max()],'k--',c='blue',lw=3)\n",
    "plt.xlabel('Actual')\n",
    "plt.ylabel('Predicted')"
   ]
  },
  {
   "cell_type": "code",
   "execution_count": null,
   "id": "bf6f2316",
   "metadata": {},
   "outputs": [],
   "source": []
  },
  {
   "cell_type": "code",
   "execution_count": 82,
   "id": "e7924603",
   "metadata": {},
   "outputs": [],
   "source": [
    "from sklearn.tree import DecisionTreeRegressor\n",
    "from sklearn import tree\n",
    "from sklearn.metrics import classification_report,confusion_matrix,roc_auc_score,roc_curve"
   ]
  },
  {
   "cell_type": "code",
   "execution_count": 83,
   "id": "8085e14d",
   "metadata": {},
   "outputs": [
    {
     "data": {
      "text/html": [
       "<style>#sk-container-id-2 {color: black;background-color: white;}#sk-container-id-2 pre{padding: 0;}#sk-container-id-2 div.sk-toggleable {background-color: white;}#sk-container-id-2 label.sk-toggleable__label {cursor: pointer;display: block;width: 100%;margin-bottom: 0;padding: 0.3em;box-sizing: border-box;text-align: center;}#sk-container-id-2 label.sk-toggleable__label-arrow:before {content: \"▸\";float: left;margin-right: 0.25em;color: #696969;}#sk-container-id-2 label.sk-toggleable__label-arrow:hover:before {color: black;}#sk-container-id-2 div.sk-estimator:hover label.sk-toggleable__label-arrow:before {color: black;}#sk-container-id-2 div.sk-toggleable__content {max-height: 0;max-width: 0;overflow: hidden;text-align: left;background-color: #f0f8ff;}#sk-container-id-2 div.sk-toggleable__content pre {margin: 0.2em;color: black;border-radius: 0.25em;background-color: #f0f8ff;}#sk-container-id-2 input.sk-toggleable__control:checked~div.sk-toggleable__content {max-height: 200px;max-width: 100%;overflow: auto;}#sk-container-id-2 input.sk-toggleable__control:checked~label.sk-toggleable__label-arrow:before {content: \"▾\";}#sk-container-id-2 div.sk-estimator input.sk-toggleable__control:checked~label.sk-toggleable__label {background-color: #d4ebff;}#sk-container-id-2 div.sk-label input.sk-toggleable__control:checked~label.sk-toggleable__label {background-color: #d4ebff;}#sk-container-id-2 input.sk-hidden--visually {border: 0;clip: rect(1px 1px 1px 1px);clip: rect(1px, 1px, 1px, 1px);height: 1px;margin: -1px;overflow: hidden;padding: 0;position: absolute;width: 1px;}#sk-container-id-2 div.sk-estimator {font-family: monospace;background-color: #f0f8ff;border: 1px dotted black;border-radius: 0.25em;box-sizing: border-box;margin-bottom: 0.5em;}#sk-container-id-2 div.sk-estimator:hover {background-color: #d4ebff;}#sk-container-id-2 div.sk-parallel-item::after {content: \"\";width: 100%;border-bottom: 1px solid gray;flex-grow: 1;}#sk-container-id-2 div.sk-label:hover label.sk-toggleable__label {background-color: #d4ebff;}#sk-container-id-2 div.sk-serial::before {content: \"\";position: absolute;border-left: 1px solid gray;box-sizing: border-box;top: 0;bottom: 0;left: 50%;z-index: 0;}#sk-container-id-2 div.sk-serial {display: flex;flex-direction: column;align-items: center;background-color: white;padding-right: 0.2em;padding-left: 0.2em;position: relative;}#sk-container-id-2 div.sk-item {position: relative;z-index: 1;}#sk-container-id-2 div.sk-parallel {display: flex;align-items: stretch;justify-content: center;background-color: white;position: relative;}#sk-container-id-2 div.sk-item::before, #sk-container-id-2 div.sk-parallel-item::before {content: \"\";position: absolute;border-left: 1px solid gray;box-sizing: border-box;top: 0;bottom: 0;left: 50%;z-index: -1;}#sk-container-id-2 div.sk-parallel-item {display: flex;flex-direction: column;z-index: 1;position: relative;background-color: white;}#sk-container-id-2 div.sk-parallel-item:first-child::after {align-self: flex-end;width: 50%;}#sk-container-id-2 div.sk-parallel-item:last-child::after {align-self: flex-start;width: 50%;}#sk-container-id-2 div.sk-parallel-item:only-child::after {width: 0;}#sk-container-id-2 div.sk-dashed-wrapped {border: 1px dashed gray;margin: 0 0.4em 0.5em 0.4em;box-sizing: border-box;padding-bottom: 0.4em;background-color: white;}#sk-container-id-2 div.sk-label label {font-family: monospace;font-weight: bold;display: inline-block;line-height: 1.2em;}#sk-container-id-2 div.sk-label-container {text-align: center;}#sk-container-id-2 div.sk-container {/* jupyter's `normalize.less` sets `[hidden] { display: none; }` but bootstrap.min.css set `[hidden] { display: none !important; }` so we also need the `!important` here to be able to override the default hidden behavior on the sphinx rendered scikit-learn.org. See: https://github.com/scikit-learn/scikit-learn/issues/21755 */display: inline-block !important;position: relative;}#sk-container-id-2 div.sk-text-repr-fallback {display: none;}</style><div id=\"sk-container-id-2\" class=\"sk-top-container\"><div class=\"sk-text-repr-fallback\"><pre>DecisionTreeRegressor(max_depth=9)</pre><b>In a Jupyter environment, please rerun this cell to show the HTML representation or trust the notebook. <br />On GitHub, the HTML representation is unable to render, please try loading this page with nbviewer.org.</b></div><div class=\"sk-container\" hidden><div class=\"sk-item\"><div class=\"sk-estimator sk-toggleable\"><input class=\"sk-toggleable__control sk-hidden--visually\" id=\"sk-estimator-id-2\" type=\"checkbox\" checked><label for=\"sk-estimator-id-2\" class=\"sk-toggleable__label sk-toggleable__label-arrow\">DecisionTreeRegressor</label><div class=\"sk-toggleable__content\"><pre>DecisionTreeRegressor(max_depth=9)</pre></div></div></div></div></div>"
      ],
      "text/plain": [
       "DecisionTreeRegressor(max_depth=9)"
      ]
     },
     "execution_count": 83,
     "metadata": {},
     "output_type": "execute_result"
    }
   ],
   "source": [
    "dt=DecisionTreeRegressor(max_depth=9)\n",
    "dt.fit(xtrain,ytrain)"
   ]
  },
  {
   "cell_type": "code",
   "execution_count": 84,
   "id": "11927c62",
   "metadata": {},
   "outputs": [
    {
     "data": {
      "text/plain": [
       "0.9125071322775633"
      ]
     },
     "execution_count": 84,
     "metadata": {},
     "output_type": "execute_result"
    }
   ],
   "source": [
    "r2_score(ytest,pred)"
   ]
  },
  {
   "cell_type": "code",
   "execution_count": 85,
   "id": "d4e0903a",
   "metadata": {},
   "outputs": [],
   "source": [
    "y_pred=dt.predict(xtest)"
   ]
  },
  {
   "cell_type": "code",
   "execution_count": 86,
   "id": "56156da2",
   "metadata": {},
   "outputs": [
    {
     "data": {
      "text/plain": [
       "0.9546764821859567"
      ]
     },
     "execution_count": 86,
     "metadata": {},
     "output_type": "execute_result"
    }
   ],
   "source": [
    "dt.score(xtest,ytest)"
   ]
  },
  {
   "cell_type": "code",
   "execution_count": null,
   "id": "3f8d12c4",
   "metadata": {},
   "outputs": [],
   "source": []
  },
  {
   "cell_type": "code",
   "execution_count": 87,
   "id": "2577afd3",
   "metadata": {},
   "outputs": [
    {
     "data": {
      "text/plain": [
       "23327722.797084443"
      ]
     },
     "execution_count": 87,
     "metadata": {},
     "output_type": "execute_result"
    }
   ],
   "source": [
    "mse=mean_squared_error(ytest,y_pred)\n",
    "mse"
   ]
  },
  {
   "cell_type": "code",
   "execution_count": 88,
   "id": "b1cdc621",
   "metadata": {},
   "outputs": [
    {
     "data": {
      "text/plain": [
       "4829.878134806761"
      ]
     },
     "execution_count": 88,
     "metadata": {},
     "output_type": "execute_result"
    }
   ],
   "source": [
    "np.sqrt(mean_squared_error(ytest,y_pred))"
   ]
  },
  {
   "cell_type": "code",
   "execution_count": 89,
   "id": "5ced4a9a",
   "metadata": {},
   "outputs": [],
   "source": [
    "dept=[8,9,10,11]\n",
    "mse_train,mse_test=[],[]\n",
    "\n",
    "for i in dept:\n",
    "    prdct=DecisionTreeRegressor(max_depth=i)\n",
    "    prdct.fit(xtrain,ytrain)\n",
    "    y_train_pred=prdct.predict(xtrain)\n",
    "    y_test_pred=prdct.predict(xtest)\n",
    "    mse_train.append(mean_squared_error(ytrain,y_train_pred))\n",
    "    mse_test.append(mean_squared_error(ytest, y_test_pred))"
   ]
  },
  {
   "cell_type": "code",
   "execution_count": 90,
   "id": "cdbe079a",
   "metadata": {},
   "outputs": [
    {
     "data": {
      "image/png": "[encoded data removed]",
      "text/plain": [
       "<Figure size 1400x700 with 1 Axes>"
      ]
     },
     "metadata": {},
     "output_type": "display_data"
    }
   ],
   "source": [
    "sns.set()\n",
    "plt.figure(figsize=(14,7))\n",
    "sns.lineplot(y=mse_train,x=dept,label='Train_mse')\n",
    "sns.lineplot(y=mse_test,x=dept,label='Test_mse')\n",
    "plt.xticks(ticks=np.arange(4,12,1))\n",
    "plt.show()"
   ]
  },
  {
   "cell_type": "code",
   "execution_count": null,
   "id": "60bca3c6",
   "metadata": {},
   "outputs": [],
   "source": []
  },
  {
   "cell_type": "code",
   "execution_count": 91,
   "id": "00c4647a",
   "metadata": {},
   "outputs": [],
   "source": [
    "x = sm.add_constant(xtrain) # Add a constant term to the independent variables\n"
   ]
  },
  {
   "cell_type": "code",
   "execution_count": 92,
   "id": "e49e7307",
   "metadata": {},
   "outputs": [],
   "source": [
    "model = sm.OLS(ytrain, x).fit()"
   ]
  },
  {
   "cell_type": "code",
   "execution_count": 93,
   "id": "c43c16df",
   "metadata": {},
   "outputs": [
    {
     "data": {
      "text/html": [
       "<table class=\"simpletable\">\n",
       "<caption>OLS Regression Results</caption>\n",
       "<tr>\n",
       "  <th>Dep. Variable:</th>          <td>price</td>      <th>  R-squared:         </th>  <td>   0.911</td>  \n",
       "</tr>\n",
       "<tr>\n",
       "  <th>Model:</th>                   <td>OLS</td>       <th>  Adj. R-squared:    </th>  <td>   0.911</td>  \n",
       "</tr>\n",
       "<tr>\n",
       "  <th>Method:</th>             <td>Least Squares</td>  <th>  F-statistic:       </th>  <td>9.119e+04</td> \n",
       "</tr>\n",
       "<tr>\n",
       "  <th>Date:</th>             <td>Wed, 15 Feb 2023</td> <th>  Prob (F-statistic):</th>   <td>  0.00</td>   \n",
       "</tr>\n",
       "<tr>\n",
       "  <th>Time:</th>                 <td>22:28:19</td>     <th>  Log-Likelihood:    </th> <td>-2.4584e+06</td>\n",
       "</tr>\n",
       "<tr>\n",
       "  <th>No. Observations:</th>      <td>240122</td>      <th>  AIC:               </th>  <td>4.917e+06</td> \n",
       "</tr>\n",
       "<tr>\n",
       "  <th>Df Residuals:</th>          <td>240094</td>      <th>  BIC:               </th>  <td>4.917e+06</td> \n",
       "</tr>\n",
       "<tr>\n",
       "  <th>Df Model:</th>              <td>    27</td>      <th>                     </th>      <td> </td>     \n",
       "</tr>\n",
       "<tr>\n",
       "  <th>Covariance Type:</th>      <td>nonrobust</td>    <th>                     </th>      <td> </td>     \n",
       "</tr>\n",
       "</table>\n",
       "<table class=\"simpletable\">\n",
       "<tr>\n",
       "        <td></td>           <th>coef</th>     <th>std err</th>      <th>t</th>      <th>P>|t|</th>  <th>[0.025</th>    <th>0.975]</th>  \n",
       "</tr>\n",
       "<tr>\n",
       "  <th>const</th>         <td> 5.249e+04</td> <td>   98.336</td> <td>  533.799</td> <td> 0.000</td> <td> 5.23e+04</td> <td> 5.27e+04</td>\n",
       "</tr>\n",
       "<tr>\n",
       "  <th>class</th>         <td>-4.489e+04</td> <td>   33.672</td> <td>-1333.066</td> <td> 0.000</td> <td> -4.5e+04</td> <td>-4.48e+04</td>\n",
       "</tr>\n",
       "<tr>\n",
       "  <th>duration</th>      <td>   41.2467</td> <td>    2.658</td> <td>   15.518</td> <td> 0.000</td> <td>   36.037</td> <td>   46.456</td>\n",
       "</tr>\n",
       "<tr>\n",
       "  <th>days_left</th>     <td> -131.3191</td> <td>    1.021</td> <td> -128.674</td> <td> 0.000</td> <td> -133.319</td> <td> -129.319</td>\n",
       "</tr>\n",
       "<tr>\n",
       "  <th>Air_India</th>     <td>   42.0244</td> <td>   70.333</td> <td>    0.598</td> <td> 0.550</td> <td>  -95.826</td> <td>  179.875</td>\n",
       "</tr>\n",
       "<tr>\n",
       "  <th>GO_FIRST</th>      <td> 1715.0053</td> <td>   78.694</td> <td>   21.793</td> <td> 0.000</td> <td> 1560.767</td> <td> 1869.244</td>\n",
       "</tr>\n",
       "<tr>\n",
       "  <th>Indigo</th>        <td> 2045.1753</td> <td>   72.082</td> <td>   28.373</td> <td> 0.000</td> <td> 1903.896</td> <td> 2186.454</td>\n",
       "</tr>\n",
       "<tr>\n",
       "  <th>SpiceJet</th>      <td> 2324.4842</td> <td>  102.112</td> <td>   22.764</td> <td> 0.000</td> <td> 2124.348</td> <td> 2524.620</td>\n",
       "</tr>\n",
       "<tr>\n",
       "  <th>Vistara</th>       <td> 3980.8586</td> <td>   68.246</td> <td>   58.331</td> <td> 0.000</td> <td> 3847.098</td> <td> 4114.619</td>\n",
       "</tr>\n",
       "<tr>\n",
       "  <th>Chennai</th>       <td>  184.0837</td> <td>   45.479</td> <td>    4.048</td> <td> 0.000</td> <td>   94.947</td> <td>  273.221</td>\n",
       "</tr>\n",
       "<tr>\n",
       "  <th>Delhi</th>         <td>-1332.4195</td> <td>   39.646</td> <td>  -33.608</td> <td> 0.000</td> <td>-1410.124</td> <td>-1254.715</td>\n",
       "</tr>\n",
       "<tr>\n",
       "  <th>Hyderabad</th>     <td>-1533.4462</td> <td>   44.803</td> <td>  -34.226</td> <td> 0.000</td> <td>-1621.260</td> <td>-1445.633</td>\n",
       "</tr>\n",
       "<tr>\n",
       "  <th>Kolkata</th>       <td> 1553.8295</td> <td>   42.873</td> <td>   36.243</td> <td> 0.000</td> <td> 1469.800</td> <td> 1637.859</td>\n",
       "</tr>\n",
       "<tr>\n",
       "  <th>Early_Morning</th> <td>  847.8449</td> <td>   46.227</td> <td>   18.341</td> <td> 0.000</td> <td>  757.240</td> <td>  938.450</td>\n",
       "</tr>\n",
       "<tr>\n",
       "  <th>Evening</th>       <td>  748.3947</td> <td>   47.021</td> <td>   15.916</td> <td> 0.000</td> <td>  656.236</td> <td>  840.554</td>\n",
       "</tr>\n",
       "<tr>\n",
       "  <th>Late_Night</th>    <td> 1898.2017</td> <td>  214.263</td> <td>    8.859</td> <td> 0.000</td> <td> 1478.252</td> <td> 2318.151</td>\n",
       "</tr>\n",
       "<tr>\n",
       "  <th>Morning</th>       <td>  866.9884</td> <td>   45.239</td> <td>   19.165</td> <td> 0.000</td> <td>  778.322</td> <td>  955.655</td>\n",
       "</tr>\n",
       "<tr>\n",
       "  <th>Night</th>         <td>  693.3142</td> <td>   51.019</td> <td>   13.589</td> <td> 0.000</td> <td>  593.318</td> <td>  793.310</td>\n",
       "</tr>\n",
       "<tr>\n",
       "  <th>two_or_more</th>   <td> 2057.6058</td> <td>   69.289</td> <td>   29.696</td> <td> 0.000</td> <td> 1921.800</td> <td> 2193.411</td>\n",
       "</tr>\n",
       "<tr>\n",
       "  <th>zero</th>          <td>-7651.7826</td> <td>   51.662</td> <td> -148.111</td> <td> 0.000</td> <td>-7753.039</td> <td>-7550.526</td>\n",
       "</tr>\n",
       "<tr>\n",
       "  <th>Early_Morning</th> <td> -856.6455</td> <td>   74.060</td> <td>  -11.567</td> <td> 0.000</td> <td>-1001.802</td> <td> -711.489</td>\n",
       "</tr>\n",
       "<tr>\n",
       "  <th>Evening</th>       <td>  991.0510</td> <td>   47.929</td> <td>   20.677</td> <td> 0.000</td> <td>  897.111</td> <td> 1084.991</td>\n",
       "</tr>\n",
       "<tr>\n",
       "  <th>Late_Night</th>    <td>  940.2477</td> <td>   77.906</td> <td>   12.069</td> <td> 0.000</td> <td>  787.554</td> <td> 1092.942</td>\n",
       "</tr>\n",
       "<tr>\n",
       "  <th>Morning</th>       <td>  472.0647</td> <td>   50.348</td> <td>    9.376</td> <td> 0.000</td> <td>  373.383</td> <td>  570.746</td>\n",
       "</tr>\n",
       "<tr>\n",
       "  <th>Night</th>         <td> 1097.2478</td> <td>   46.922</td> <td>   23.384</td> <td> 0.000</td> <td> 1005.281</td> <td> 1189.215</td>\n",
       "</tr>\n",
       "<tr>\n",
       "  <th>Chennai</th>       <td>  686.8121</td> <td>   35.301</td> <td>   19.456</td> <td> 0.000</td> <td>  617.623</td> <td>  756.001</td>\n",
       "</tr>\n",
       "<tr>\n",
       "  <th>Delhi</th>         <td>-1542.6762</td> <td>   40.912</td> <td>  -37.707</td> <td> 0.000</td> <td>-1622.862</td> <td>-1462.490</td>\n",
       "</tr>\n",
       "<tr>\n",
       "  <th>Hyderabad</th>     <td>-1643.2566</td> <td>   44.352</td> <td>  -37.050</td> <td> 0.000</td> <td>-1730.186</td> <td>-1556.327</td>\n",
       "</tr>\n",
       "</table>\n",
       "<table class=\"simpletable\">\n",
       "<tr>\n",
       "  <th>Omnibus:</th>       <td>28961.610</td> <th>  Durbin-Watson:     </th>  <td>   2.004</td> \n",
       "</tr>\n",
       "<tr>\n",
       "  <th>Prob(Omnibus):</th>  <td> 0.000</td>   <th>  Jarque-Bera (JB):  </th> <td>228506.730</td>\n",
       "</tr>\n",
       "<tr>\n",
       "  <th>Skew:</th>           <td> 0.314</td>   <th>  Prob(JB):          </th>  <td>    0.00</td> \n",
       "</tr>\n",
       "<tr>\n",
       "  <th>Kurtosis:</th>       <td> 7.738</td>   <th>  Cond. No.          </th>  <td>    489.</td> \n",
       "</tr>\n",
       "</table><br/><br/>Notes:<br/>[1] Standard Errors assume that the covariance matrix of the errors is correctly specified."
      ],
      "text/plain": [
       "<class 'statsmodels.iolib.summary.Summary'>\n",
       "\"\"\"\n",
       "                            OLS Regression Results                            \n",
       "==============================================================================\n",
       "Dep. Variable:                  price   R-squared:                       0.911\n",
       "Model:                            OLS   Adj. R-squared:                  0.911\n",
       "Method:                 Least Squares   F-statistic:                 9.119e+04\n",
       "Date:                Wed, 15 Feb 2023   Prob (F-statistic):               0.00\n",
       "Time:                        22:28:19   Log-Likelihood:            -2.4584e+06\n",
       "No. Observations:              240122   AIC:                         4.917e+06\n",
       "Df Residuals:                  240094   BIC:                         4.917e+06\n",
       "Df Model:                          27                                         \n",
       "Covariance Type:            nonrobust                                         \n",
       "=================================================================================\n",
       "                    coef    std err          t      P>|t|      [0.025      0.975]\n",
       "---------------------------------------------------------------------------------\n",
       "const          5.249e+04     98.336    533.799      0.000    5.23e+04    5.27e+04\n",
       "class         -4.489e+04     33.672  -1333.066      0.000    -4.5e+04   -4.48e+04\n",
       "duration         41.2467      2.658     15.518      0.000      36.037      46.456\n",
       "days_left      -131.3191      1.021   -128.674      0.000    -133.319    -129.319\n",
       "Air_India        42.0244     70.333      0.598      0.550     -95.826     179.875\n",
       "GO_FIRST       1715.0053     78.694     21.793      0.000    1560.767    1869.244\n",
       "Indigo         2045.1753     72.082     28.373      0.000    1903.896    2186.454\n",
       "SpiceJet       2324.4842    102.112     22.764      0.000    2124.348    2524.620\n",
       "Vistara        3980.8586     68.246     58.331      0.000    3847.098    4114.619\n",
       "Chennai         184.0837     45.479      4.048      0.000      94.947     273.221\n",
       "Delhi         -1332.4195     39.646    -33.608      0.000   -1410.124   -1254.715\n",
       "Hyderabad     -1533.4462     44.803    -34.226      0.000   -1621.260   -1445.633\n",
       "Kolkata        1553.8295     42.873     36.243      0.000    1469.800    1637.859\n",
       "Early_Morning   847.8449     46.227     18.341      0.000     757.240     938.450\n",
       "Evening         748.3947     47.021     15.916      0.000     656.236     840.554\n",
       "Late_Night     1898.2017    214.263      8.859      0.000    1478.252    2318.151\n",
       "Morning         866.9884     45.239     19.165      0.000     778.322     955.655\n",
       "Night           693.3142     51.019     13.589      0.000     593.318     793.310\n",
       "two_or_more    2057.6058     69.289     29.696      0.000    1921.800    2193.411\n",
       "zero          -7651.7826     51.662   -148.111      0.000   -7753.039   -7550.526\n",
       "Early_Morning  -856.6455     74.060    -11.567      0.000   -1001.802    -711.489\n",
       "Evening         991.0510     47.929     20.677      0.000     897.111    1084.991\n",
       "Late_Night      940.2477     77.906     12.069      0.000     787.554    1092.942\n",
       "Morning         472.0647     50.348      9.376      0.000     373.383     570.746\n",
       "Night          1097.2478     46.922     23.384      0.000    1005.281    1189.215\n",
       "Chennai         686.8121     35.301     19.456      0.000     617.623     756.001\n",
       "Delhi         -1542.6762     40.912    -37.707      0.000   -1622.862   -1462.490\n",
       "Hyderabad     -1643.2566     44.352    -37.050      0.000   -1730.186   -1556.327\n",
       "==============================================================================\n",
       "Omnibus:                    28961.610   Durbin-Watson:                   2.004\n",
       "Prob(Omnibus):                  0.000   Jarque-Bera (JB):           228506.730\n",
       "Skew:                           0.314   Prob(JB):                         0.00\n",
       "Kurtosis:                       7.738   Cond. No.                         489.\n",
       "==============================================================================\n",
       "\n",
       "Notes:\n",
       "[1] Standard Errors assume that the covariance matrix of the errors is correctly specified.\n",
       "\"\"\""
      ]
     },
     "execution_count": 93,
     "metadata": {},
     "output_type": "execute_result"
    }
   ],
   "source": [
    "model.summary()"
   ]
  },
  {
   "cell_type": "code",
   "execution_count": null,
   "id": "315e4685",
   "metadata": {},
   "outputs": [],
   "source": []
  },
  {
   "cell_type": "code",
   "execution_count": 94,
   "id": "afe70efb",
   "metadata": {},
   "outputs": [],
   "source": [
    "xtrain.drop(columns=['Air_India'],axis=1,inplace=True)"
   ]
  },
  {
   "cell_type": "code",
   "execution_count": null,
   "id": "c0b93259",
   "metadata": {},
   "outputs": [],
   "source": []
  },
  {
   "cell_type": "code",
   "execution_count": 95,
   "id": "6a314b68",
   "metadata": {},
   "outputs": [],
   "source": [
    "x = sm.add_constant(xtrain) # Add a constant term to the independent variables\n"
   ]
  },
  {
   "cell_type": "code",
   "execution_count": 96,
   "id": "33210276",
   "metadata": {},
   "outputs": [],
   "source": [
    "model = sm.OLS(ytrain, x).fit()"
   ]
  },
  {
   "cell_type": "code",
   "execution_count": 97,
   "id": "d10b42fe",
   "metadata": {},
   "outputs": [
    {
     "data": {
      "text/html": [
       "<table class=\"simpletable\">\n",
       "<caption>OLS Regression Results</caption>\n",
       "<tr>\n",
       "  <th>Dep. Variable:</th>          <td>price</td>      <th>  R-squared:         </th>  <td>   0.911</td>  \n",
       "</tr>\n",
       "<tr>\n",
       "  <th>Model:</th>                   <td>OLS</td>       <th>  Adj. R-squared:    </th>  <td>   0.911</td>  \n",
       "</tr>\n",
       "<tr>\n",
       "  <th>Method:</th>             <td>Least Squares</td>  <th>  F-statistic:       </th>  <td>9.470e+04</td> \n",
       "</tr>\n",
       "<tr>\n",
       "  <th>Date:</th>             <td>Wed, 15 Feb 2023</td> <th>  Prob (F-statistic):</th>   <td>  0.00</td>   \n",
       "</tr>\n",
       "<tr>\n",
       "  <th>Time:</th>                 <td>22:28:20</td>     <th>  Log-Likelihood:    </th> <td>-2.4584e+06</td>\n",
       "</tr>\n",
       "<tr>\n",
       "  <th>No. Observations:</th>      <td>240122</td>      <th>  AIC:               </th>  <td>4.917e+06</td> \n",
       "</tr>\n",
       "<tr>\n",
       "  <th>Df Residuals:</th>          <td>240095</td>      <th>  BIC:               </th>  <td>4.917e+06</td> \n",
       "</tr>\n",
       "<tr>\n",
       "  <th>Df Model:</th>              <td>    26</td>      <th>                     </th>      <td> </td>     \n",
       "</tr>\n",
       "<tr>\n",
       "  <th>Covariance Type:</th>      <td>nonrobust</td>    <th>                     </th>      <td> </td>     \n",
       "</tr>\n",
       "</table>\n",
       "<table class=\"simpletable\">\n",
       "<tr>\n",
       "        <td></td>           <th>coef</th>     <th>std err</th>      <th>t</th>      <th>P>|t|</th>  <th>[0.025</th>    <th>0.975]</th>  \n",
       "</tr>\n",
       "<tr>\n",
       "  <th>const</th>         <td> 5.253e+04</td> <td>   80.794</td> <td>  650.112</td> <td> 0.000</td> <td> 5.24e+04</td> <td> 5.27e+04</td>\n",
       "</tr>\n",
       "<tr>\n",
       "  <th>class</th>         <td>-4.489e+04</td> <td>   33.043</td> <td>-1358.557</td> <td> 0.000</td> <td> -4.5e+04</td> <td>-4.48e+04</td>\n",
       "</tr>\n",
       "<tr>\n",
       "  <th>duration</th>      <td>   41.5928</td> <td>    2.594</td> <td>   16.033</td> <td> 0.000</td> <td>   36.508</td> <td>   46.677</td>\n",
       "</tr>\n",
       "<tr>\n",
       "  <th>days_left</th>     <td> -131.3331</td> <td>    1.020</td> <td> -128.722</td> <td> 0.000</td> <td> -133.333</td> <td> -129.333</td>\n",
       "</tr>\n",
       "<tr>\n",
       "  <th>GO_FIRST</th>      <td> 1683.5341</td> <td>   58.469</td> <td>   28.794</td> <td> 0.000</td> <td> 1568.937</td> <td> 1798.131</td>\n",
       "</tr>\n",
       "<tr>\n",
       "  <th>Indigo</th>        <td> 2013.9558</td> <td>   49.657</td> <td>   40.557</td> <td> 0.000</td> <td> 1916.630</td> <td> 2111.282</td>\n",
       "</tr>\n",
       "<tr>\n",
       "  <th>SpiceJet</th>      <td> 2290.8759</td> <td>   85.223</td> <td>   26.881</td> <td> 0.000</td> <td> 2123.841</td> <td> 2457.911</td>\n",
       "</tr>\n",
       "<tr>\n",
       "  <th>Vistara</th>       <td> 3945.1718</td> <td>   33.020</td> <td>  119.479</td> <td> 0.000</td> <td> 3880.454</td> <td> 4009.890</td>\n",
       "</tr>\n",
       "<tr>\n",
       "  <th>Chennai</th>       <td>  184.1075</td> <td>   45.479</td> <td>    4.048</td> <td> 0.000</td> <td>   94.971</td> <td>  273.244</td>\n",
       "</tr>\n",
       "<tr>\n",
       "  <th>Delhi</th>         <td>-1333.2090</td> <td>   39.624</td> <td>  -33.647</td> <td> 0.000</td> <td>-1410.870</td> <td>-1255.548</td>\n",
       "</tr>\n",
       "<tr>\n",
       "  <th>Hyderabad</th>     <td>-1533.2359</td> <td>   44.802</td> <td>  -34.223</td> <td> 0.000</td> <td>-1621.046</td> <td>-1445.425</td>\n",
       "</tr>\n",
       "<tr>\n",
       "  <th>Kolkata</th>       <td> 1553.0845</td> <td>   42.855</td> <td>   36.241</td> <td> 0.000</td> <td> 1469.090</td> <td> 1637.079</td>\n",
       "</tr>\n",
       "<tr>\n",
       "  <th>Early_Morning</th> <td>  848.2959</td> <td>   46.221</td> <td>   18.353</td> <td> 0.000</td> <td>  757.703</td> <td>  938.888</td>\n",
       "</tr>\n",
       "<tr>\n",
       "  <th>Evening</th>       <td>  748.5183</td> <td>   47.020</td> <td>   15.919</td> <td> 0.000</td> <td>  656.360</td> <td>  840.676</td>\n",
       "</tr>\n",
       "<tr>\n",
       "  <th>Late_Night</th>    <td> 1897.6081</td> <td>  214.260</td> <td>    8.857</td> <td> 0.000</td> <td> 1477.663</td> <td> 2317.553</td>\n",
       "</tr>\n",
       "<tr>\n",
       "  <th>Morning</th>       <td>  868.0599</td> <td>   45.203</td> <td>   19.204</td> <td> 0.000</td> <td>  779.463</td> <td>  956.656</td>\n",
       "</tr>\n",
       "<tr>\n",
       "  <th>Night</th>         <td>  692.6355</td> <td>   51.006</td> <td>   13.579</td> <td> 0.000</td> <td>  592.664</td> <td>  792.607</td>\n",
       "</tr>\n",
       "<tr>\n",
       "  <th>two_or_more</th>   <td> 2053.8318</td> <td>   69.001</td> <td>   29.765</td> <td> 0.000</td> <td> 1918.592</td> <td> 2189.072</td>\n",
       "</tr>\n",
       "<tr>\n",
       "  <th>zero</th>          <td>-7649.5607</td> <td>   51.528</td> <td> -148.454</td> <td> 0.000</td> <td>-7750.555</td> <td>-7548.567</td>\n",
       "</tr>\n",
       "<tr>\n",
       "  <th>Early_Morning</th> <td> -858.5301</td> <td>   73.993</td> <td>  -11.603</td> <td> 0.000</td> <td>-1003.555</td> <td> -713.506</td>\n",
       "</tr>\n",
       "<tr>\n",
       "  <th>Evening</th>       <td>  991.2287</td> <td>   47.928</td> <td>   20.682</td> <td> 0.000</td> <td>  897.291</td> <td> 1085.167</td>\n",
       "</tr>\n",
       "<tr>\n",
       "  <th>Late_Night</th>    <td>  933.5323</td> <td>   77.091</td> <td>   12.109</td> <td> 0.000</td> <td>  782.436</td> <td> 1084.629</td>\n",
       "</tr>\n",
       "<tr>\n",
       "  <th>Morning</th>       <td>  472.2362</td> <td>   50.347</td> <td>    9.380</td> <td> 0.000</td> <td>  373.556</td> <td>  570.916</td>\n",
       "</tr>\n",
       "<tr>\n",
       "  <th>Night</th>         <td> 1097.8423</td> <td>   46.912</td> <td>   23.402</td> <td> 0.000</td> <td> 1005.896</td> <td> 1189.788</td>\n",
       "</tr>\n",
       "<tr>\n",
       "  <th>Chennai</th>       <td>  686.4504</td> <td>   35.296</td> <td>   19.449</td> <td> 0.000</td> <td>  617.272</td> <td>  755.629</td>\n",
       "</tr>\n",
       "<tr>\n",
       "  <th>Delhi</th>         <td>-1543.2947</td> <td>   40.899</td> <td>  -37.735</td> <td> 0.000</td> <td>-1623.455</td> <td>-1463.134</td>\n",
       "</tr>\n",
       "<tr>\n",
       "  <th>Hyderabad</th>     <td>-1643.0985</td> <td>   44.352</td> <td>  -37.047</td> <td> 0.000</td> <td>-1730.026</td> <td>-1556.171</td>\n",
       "</tr>\n",
       "</table>\n",
       "<table class=\"simpletable\">\n",
       "<tr>\n",
       "  <th>Omnibus:</th>       <td>28951.447</td> <th>  Durbin-Watson:     </th>  <td>   2.004</td> \n",
       "</tr>\n",
       "<tr>\n",
       "  <th>Prob(Omnibus):</th>  <td> 0.000</td>   <th>  Jarque-Bera (JB):  </th> <td>228319.944</td>\n",
       "</tr>\n",
       "<tr>\n",
       "  <th>Skew:</th>           <td> 0.314</td>   <th>  Prob(JB):          </th>  <td>    0.00</td> \n",
       "</tr>\n",
       "<tr>\n",
       "  <th>Kurtosis:</th>       <td> 7.736</td>   <th>  Cond. No.          </th>  <td>    489.</td> \n",
       "</tr>\n",
       "</table><br/><br/>Notes:<br/>[1] Standard Errors assume that the covariance matrix of the errors is correctly specified."
      ],
      "text/plain": [
       "<class 'statsmodels.iolib.summary.Summary'>\n",
       "\"\"\"\n",
       "                            OLS Regression Results                            \n",
       "==============================================================================\n",
       "Dep. Variable:                  price   R-squared:                       0.911\n",
       "Model:                            OLS   Adj. R-squared:                  0.911\n",
       "Method:                 Least Squares   F-statistic:                 9.470e+04\n",
       "Date:                Wed, 15 Feb 2023   Prob (F-statistic):               0.00\n",
       "Time:                        22:28:20   Log-Likelihood:            -2.4584e+06\n",
       "No. Observations:              240122   AIC:                         4.917e+06\n",
       "Df Residuals:                  240095   BIC:                         4.917e+06\n",
       "Df Model:                          26                                         \n",
       "Covariance Type:            nonrobust                                         \n",
       "=================================================================================\n",
       "                    coef    std err          t      P>|t|      [0.025      0.975]\n",
       "---------------------------------------------------------------------------------\n",
       "const          5.253e+04     80.794    650.112      0.000    5.24e+04    5.27e+04\n",
       "class         -4.489e+04     33.043  -1358.557      0.000    -4.5e+04   -4.48e+04\n",
       "duration         41.5928      2.594     16.033      0.000      36.508      46.677\n",
       "days_left      -131.3331      1.020   -128.722      0.000    -133.333    -129.333\n",
       "GO_FIRST       1683.5341     58.469     28.794      0.000    1568.937    1798.131\n",
       "Indigo         2013.9558     49.657     40.557      0.000    1916.630    2111.282\n",
       "SpiceJet       2290.8759     85.223     26.881      0.000    2123.841    2457.911\n",
       "Vistara        3945.1718     33.020    119.479      0.000    3880.454    4009.890\n",
       "Chennai         184.1075     45.479      4.048      0.000      94.971     273.244\n",
       "Delhi         -1333.2090     39.624    -33.647      0.000   -1410.870   -1255.548\n",
       "Hyderabad     -1533.2359     44.802    -34.223      0.000   -1621.046   -1445.425\n",
       "Kolkata        1553.0845     42.855     36.241      0.000    1469.090    1637.079\n",
       "Early_Morning   848.2959     46.221     18.353      0.000     757.703     938.888\n",
       "Evening         748.5183     47.020     15.919      0.000     656.360     840.676\n",
       "Late_Night     1897.6081    214.260      8.857      0.000    1477.663    2317.553\n",
       "Morning         868.0599     45.203     19.204      0.000     779.463     956.656\n",
       "Night           692.6355     51.006     13.579      0.000     592.664     792.607\n",
       "two_or_more    2053.8318     69.001     29.765      0.000    1918.592    2189.072\n",
       "zero          -7649.5607     51.528   -148.454      0.000   -7750.555   -7548.567\n",
       "Early_Morning  -858.5301     73.993    -11.603      0.000   -1003.555    -713.506\n",
       "Evening         991.2287     47.928     20.682      0.000     897.291    1085.167\n",
       "Late_Night      933.5323     77.091     12.109      0.000     782.436    1084.629\n",
       "Morning         472.2362     50.347      9.380      0.000     373.556     570.916\n",
       "Night          1097.8423     46.912     23.402      0.000    1005.896    1189.788\n",
       "Chennai         686.4504     35.296     19.449      0.000     617.272     755.629\n",
       "Delhi         -1543.2947     40.899    -37.735      0.000   -1623.455   -1463.134\n",
       "Hyderabad     -1643.0985     44.352    -37.047      0.000   -1730.026   -1556.171\n",
       "==============================================================================\n",
       "Omnibus:                    28951.447   Durbin-Watson:                   2.004\n",
       "Prob(Omnibus):                  0.000   Jarque-Bera (JB):           228319.944\n",
       "Skew:                           0.314   Prob(JB):                         0.00\n",
       "Kurtosis:                       7.736   Cond. No.                         489.\n",
       "==============================================================================\n",
       "\n",
       "Notes:\n",
       "[1] Standard Errors assume that the covariance matrix of the errors is correctly specified.\n",
       "\"\"\""
      ]
     },
     "execution_count": 97,
     "metadata": {},
     "output_type": "execute_result"
    }
   ],
   "source": [
    "model.summary()"
   ]
  },
  {
   "cell_type": "code",
   "execution_count": null,
   "id": "5a544bc8",
   "metadata": {},
   "outputs": [],
   "source": []
  },
  {
   "cell_type": "code",
   "execution_count": null,
   "id": "50b92ad3",
   "metadata": {},
   "outputs": [],
   "source": []
  },
  {
   "cell_type": "code",
   "execution_count": 98,
   "id": "289a8d24",
   "metadata": {},
   "outputs": [],
   "source": [
    "res=ytest-y_pred"
   ]
  },
  {
   "cell_type": "code",
   "execution_count": 99,
   "id": "615c6298",
   "metadata": {},
   "outputs": [
    {
     "name": "stderr",
     "output_type": "stream",
     "text": [
      "C:\\Users\\abhay\\anaconda3\\lib\\site-packages\\seaborn\\distributions.py:2619: FutureWarning: `distplot` is a deprecated function and will be removed in a future version. Please adapt your code to use either `displot` (a figure-level function with similar flexibility) or `histplot` (an axes-level function for histograms).\n",
      "  warnings.warn(msg, FutureWarning)\n"
     ]
    },
    {
     "data": {
      "text/plain": [
       "<AxesSubplot:xlabel='price', ylabel='Density'>"
      ]
     },
     "execution_count": 99,
     "metadata": {},
     "output_type": "execute_result"
    },
    {
     "data": {
      "image/png": "[encoded data removed]",
      "text/plain": [
       "<Figure size 640x480 with 1 Axes>"
      ]
     },
     "metadata": {},
     "output_type": "display_data"
    }
   ],
   "source": [
    "sns.distplot(res)"
   ]
  },
  {
   "cell_type": "code",
   "execution_count": null,
   "id": "facbc558",
   "metadata": {},
   "outputs": [],
   "source": []
  },
  {
   "cell_type": "code",
   "execution_count": null,
   "id": "0c7b96a0",
   "metadata": {},
   "outputs": [],
   "source": []
  },
  {
   "cell_type": "markdown",
   "id": "3062a327",
   "metadata": {},
   "source": [
    "# ALL MODEL ARE GETTING 91% R-SQUARED"
   ]
  },
  {
   "cell_type": "code",
   "execution_count": null,
   "id": "00415a2f",
   "metadata": {},
   "outputs": [],
   "source": []
  },
  {
   "cell_type": "code",
   "execution_count": null,
   "id": "b0b7b2c2",
   "metadata": {},
   "outputs": [],
   "source": []
  },
  {
   "cell_type": "code",
   "execution_count": null,
   "id": "36e5e305",
   "metadata": {},
   "outputs": [],
   "source": []
  }
 ],
 "metadata": {
  "kernelspec": {
   "display_name": "Python 3 (ipykernel)",
   "language": "python",
   "name": "python3"
  },
  "language_info": {
   "codemirror_mode": {
    "name": "ipython",
    "version": 3
   },
   "file_extension": ".py",
   "mimetype": "text/x-python",
   "name": "python",
   "nbconvert_exporter": "python",
   "pygments_lexer": "ipython3",
   "version": "3.9.12"
  }
 },
 "nbformat": 4,
 "nbformat_minor": 5
}
