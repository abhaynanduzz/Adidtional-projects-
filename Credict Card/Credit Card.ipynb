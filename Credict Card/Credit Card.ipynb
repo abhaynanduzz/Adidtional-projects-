{
 "cells": [
  {
   "cell_type": "raw",
   "id": "bff451c4",
   "metadata": {},
   "source": [
    "About Dataset\n",
    "A Credit Card Dataset for Machine Learning!\n",
    "Context\n",
    "Credit score cards are a common risk control method in the financial industry. It uses personal information and\n",
    "data submitted by credit card applicants to predict the probability of future defaults and credit card borrowings. \n",
    "The bank is able to decide whether to issue a credit card to the applicant. Credit scores can objectively quantify\n",
    "the magnitude of risk.\n",
    " \n",
    "Generally speaking, credit score cards are based on historical data. Once encountering large economic fluctuations.\n",
    "Past models may lose their original predictive power. Logistic model is a common method for credit scoring. Because\n",
    "Logistic is suitable for binary classification tasks and can calculate the coefficients of each feature. In order to\n",
    "facilitate understanding and operation, the score card will multiply the logistic regression coefficient by a certain\n",
    "value (such as 100) and round it.\n",
    " \n",
    "At present, with the development of machine learning algorithms. More predictive methods such as Boosting, Random Forest,\n",
    "and Support Vector Machines have been introduced into credit card scoring. However, these methods often do not have good \n",
    "transparency. It may be difficult to provide customers and regulators with a reason for rejection or acceptance.\n",
    "\n",
    "Task\n",
    "Build a machine learning model to predict if an applicant is 'good' or 'bad' client, different from other tasks, \n",
    "the definition of 'good' or 'bad' is not given. You should use some techique, such as vintage analysis to construct\n",
    "you label. Also, unbalance data problem is a big problem in this task.\n",
    "\n",
    "Content & Explanation\n",
    "There're two tables could be merged by ID:\n",
    "\n",
    "application_record.csv\t\t\n",
    "Feature name\tExplanation\tRemarks\n",
    "ID\tClient number\t\n",
    "CODE_GENDER\tGender\t\n",
    "FLAG_OWN_CAR\tIs there a car\t\n",
    "FLAG_OWN_REALTY\tIs there a property\t\n",
    "CNT_CHILDREN\tNumber of children\t\n",
    "AMT_INCOME_TOTAL\tAnnual income\t\n",
    "NAME_INCOME_TYPE\tIncome category\t\n",
    "NAME_EDUCATION_TYPE\tEducation level\t\n",
    "NAME_FAMILY_STATUS\tMarital status\t\n",
    "NAME_HOUSING_TYPE\tWay of living\t\n",
    "DAYS_BIRTH\tBirthday\tCount backwards from current day (0), -1 means yesterday\n",
    "DAYS_EMPLOYED\tStart date of employment\tCount backwards from current day(0). If positive, it means the person currently unemployed.\n",
    "FLAG_MOBIL\tIs there a mobile phone\t\n",
    "FLAG_WORK_PHONE\tIs there a work phone\t\n",
    "FLAG_PHONE\tIs there a phone\t\n",
    "FLAG_EMAIL\tIs there an email\t\n",
    "OCCUPATION_TYPE\tOccupation\t\n",
    "CNT_FAM_MEMBERS\tFamily size\t\n",
    "credit_record.csv\t\t\n",
    "Feature name\tExplanation\tRemarks\n",
    "ID\tClient number\t\n",
    "MONTHS_BALANCE\tRecord month\tThe month of the extracted data is the starting point, backwards, 0 is the current month, -1 is the previous month, and so on\n",
    "STATUS\tStatus\t0: 1-29 days past due 1: 30-59 days past due 2: 60-89 days overdue 3: 90-119 days overdue 4: 120-149 days overdue 5: Overdue or bad debts, write-offs for more than 150 days C: paid off that month X: No loan for the month"
   ]
  },
  {
   "cell_type": "code",
   "execution_count": 1,
   "id": "066bd46b",
   "metadata": {},
   "outputs": [],
   "source": [
    "import numpy  as np\n",
    "import pandas as pd\n",
    "import matplotlib.pyplot as plt\n",
    "import seaborn as sns\n",
    "from scipy.stats import chi2_contingency\n",
    "from statsmodels.formula.api import ols\n",
    "import statsmodels.api as sm"
   ]
  },
  {
   "cell_type": "code",
   "execution_count": 2,
   "id": "57e50815",
   "metadata": {},
   "outputs": [],
   "source": [
    "app=pd.read_csv('application_record.csv')"
   ]
  },
  {
   "cell_type": "code",
   "execution_count": 3,
   "id": "c9cdf22f",
   "metadata": {},
   "outputs": [],
   "source": [
    "cd=pd.read_csv('credit_record.csv')"
   ]
  },
  {
   "cell_type": "code",
   "execution_count": 4,
   "id": "0bc550bb",
   "metadata": {},
   "outputs": [
    {
     "name": "stdout",
     "output_type": "stream",
     "text": [
      "<class 'pandas.core.frame.DataFrame'>\n",
      "RangeIndex: 438557 entries, 0 to 438556\n",
      "Data columns (total 18 columns):\n",
      " #   Column               Non-Null Count   Dtype  \n",
      "---  ------               --------------   -----  \n",
      " 0   ID                   438557 non-null  int64  \n",
      " 1   CODE_GENDER          438557 non-null  object \n",
      " 2   FLAG_OWN_CAR         438557 non-null  object \n",
      " 3   FLAG_OWN_REALTY      438557 non-null  object \n",
      " 4   CNT_CHILDREN         438557 non-null  int64  \n",
      " 5   AMT_INCOME_TOTAL     438557 non-null  float64\n",
      " 6   NAME_INCOME_TYPE     438557 non-null  object \n",
      " 7   NAME_EDUCATION_TYPE  438557 non-null  object \n",
      " 8   NAME_FAMILY_STATUS   438557 non-null  object \n",
      " 9   NAME_HOUSING_TYPE    438557 non-null  object \n",
      " 10  DAYS_BIRTH           438557 non-null  int64  \n",
      " 11  DAYS_EMPLOYED        438557 non-null  int64  \n",
      " 12  FLAG_MOBIL           438557 non-null  int64  \n",
      " 13  FLAG_WORK_PHONE      438557 non-null  int64  \n",
      " 14  FLAG_PHONE           438557 non-null  int64  \n",
      " 15  FLAG_EMAIL           438557 non-null  int64  \n",
      " 16  OCCUPATION_TYPE      304354 non-null  object \n",
      " 17  CNT_FAM_MEMBERS      438557 non-null  float64\n",
      "dtypes: float64(2), int64(8), object(8)\n",
      "memory usage: 60.2+ MB\n"
     ]
    }
   ],
   "source": [
    "app.info()"
   ]
  },
  {
   "cell_type": "code",
   "execution_count": 5,
   "id": "a2640d68",
   "metadata": {},
   "outputs": [
    {
     "data": {
      "text/html": [
       "<div>\n",
       "<style scoped>\n",
       "    .dataframe tbody tr th:only-of-type {\n",
       "        vertical-align: middle;\n",
       "    }\n",
       "\n",
       "    .dataframe tbody tr th {\n",
       "        vertical-align: top;\n",
       "    }\n",
       "\n",
       "    .dataframe thead th {\n",
       "        text-align: right;\n",
       "    }\n",
       "</style>\n",
       "<table border=\"1\" class=\"dataframe\">\n",
       "  <thead>\n",
       "    <tr style=\"text-align: right;\">\n",
       "      <th></th>\n",
       "      <th>ID</th>\n",
       "      <th>CODE_GENDER</th>\n",
       "      <th>FLAG_OWN_CAR</th>\n",
       "      <th>FLAG_OWN_REALTY</th>\n",
       "      <th>CNT_CHILDREN</th>\n",
       "      <th>AMT_INCOME_TOTAL</th>\n",
       "      <th>NAME_INCOME_TYPE</th>\n",
       "      <th>NAME_EDUCATION_TYPE</th>\n",
       "      <th>NAME_FAMILY_STATUS</th>\n",
       "      <th>NAME_HOUSING_TYPE</th>\n",
       "      <th>DAYS_BIRTH</th>\n",
       "      <th>DAYS_EMPLOYED</th>\n",
       "      <th>FLAG_MOBIL</th>\n",
       "      <th>FLAG_WORK_PHONE</th>\n",
       "      <th>FLAG_PHONE</th>\n",
       "      <th>FLAG_EMAIL</th>\n",
       "      <th>OCCUPATION_TYPE</th>\n",
       "      <th>CNT_FAM_MEMBERS</th>\n",
       "    </tr>\n",
       "  </thead>\n",
       "  <tbody>\n",
       "    <tr>\n",
       "      <th>0</th>\n",
       "      <td>5008804</td>\n",
       "      <td>M</td>\n",
       "      <td>Y</td>\n",
       "      <td>Y</td>\n",
       "      <td>0</td>\n",
       "      <td>427500.0</td>\n",
       "      <td>Working</td>\n",
       "      <td>Higher education</td>\n",
       "      <td>Civil marriage</td>\n",
       "      <td>Rented apartment</td>\n",
       "      <td>-12005</td>\n",
       "      <td>-4542</td>\n",
       "      <td>1</td>\n",
       "      <td>1</td>\n",
       "      <td>0</td>\n",
       "      <td>0</td>\n",
       "      <td>NaN</td>\n",
       "      <td>2.0</td>\n",
       "    </tr>\n",
       "    <tr>\n",
       "      <th>1</th>\n",
       "      <td>5008805</td>\n",
       "      <td>M</td>\n",
       "      <td>Y</td>\n",
       "      <td>Y</td>\n",
       "      <td>0</td>\n",
       "      <td>427500.0</td>\n",
       "      <td>Working</td>\n",
       "      <td>Higher education</td>\n",
       "      <td>Civil marriage</td>\n",
       "      <td>Rented apartment</td>\n",
       "      <td>-12005</td>\n",
       "      <td>-4542</td>\n",
       "      <td>1</td>\n",
       "      <td>1</td>\n",
       "      <td>0</td>\n",
       "      <td>0</td>\n",
       "      <td>NaN</td>\n",
       "      <td>2.0</td>\n",
       "    </tr>\n",
       "    <tr>\n",
       "      <th>2</th>\n",
       "      <td>5008806</td>\n",
       "      <td>M</td>\n",
       "      <td>Y</td>\n",
       "      <td>Y</td>\n",
       "      <td>0</td>\n",
       "      <td>112500.0</td>\n",
       "      <td>Working</td>\n",
       "      <td>Secondary / secondary special</td>\n",
       "      <td>Married</td>\n",
       "      <td>House / apartment</td>\n",
       "      <td>-21474</td>\n",
       "      <td>-1134</td>\n",
       "      <td>1</td>\n",
       "      <td>0</td>\n",
       "      <td>0</td>\n",
       "      <td>0</td>\n",
       "      <td>Security staff</td>\n",
       "      <td>2.0</td>\n",
       "    </tr>\n",
       "    <tr>\n",
       "      <th>3</th>\n",
       "      <td>5008808</td>\n",
       "      <td>F</td>\n",
       "      <td>N</td>\n",
       "      <td>Y</td>\n",
       "      <td>0</td>\n",
       "      <td>270000.0</td>\n",
       "      <td>Commercial associate</td>\n",
       "      <td>Secondary / secondary special</td>\n",
       "      <td>Single / not married</td>\n",
       "      <td>House / apartment</td>\n",
       "      <td>-19110</td>\n",
       "      <td>-3051</td>\n",
       "      <td>1</td>\n",
       "      <td>0</td>\n",
       "      <td>1</td>\n",
       "      <td>1</td>\n",
       "      <td>Sales staff</td>\n",
       "      <td>1.0</td>\n",
       "    </tr>\n",
       "    <tr>\n",
       "      <th>4</th>\n",
       "      <td>5008809</td>\n",
       "      <td>F</td>\n",
       "      <td>N</td>\n",
       "      <td>Y</td>\n",
       "      <td>0</td>\n",
       "      <td>270000.0</td>\n",
       "      <td>Commercial associate</td>\n",
       "      <td>Secondary / secondary special</td>\n",
       "      <td>Single / not married</td>\n",
       "      <td>House / apartment</td>\n",
       "      <td>-19110</td>\n",
       "      <td>-3051</td>\n",
       "      <td>1</td>\n",
       "      <td>0</td>\n",
       "      <td>1</td>\n",
       "      <td>1</td>\n",
       "      <td>Sales staff</td>\n",
       "      <td>1.0</td>\n",
       "    </tr>\n",
       "  </tbody>\n",
       "</table>\n",
       "</div>"
      ],
      "text/plain": [
       "        ID CODE_GENDER FLAG_OWN_CAR FLAG_OWN_REALTY  CNT_CHILDREN  \\\n",
       "0  5008804           M            Y               Y             0   \n",
       "1  5008805           M            Y               Y             0   \n",
       "2  5008806           M            Y               Y             0   \n",
       "3  5008808           F            N               Y             0   \n",
       "4  5008809           F            N               Y             0   \n",
       "\n",
       "   AMT_INCOME_TOTAL      NAME_INCOME_TYPE            NAME_EDUCATION_TYPE  \\\n",
       "0          427500.0               Working               Higher education   \n",
       "1          427500.0               Working               Higher education   \n",
       "2          112500.0               Working  Secondary / secondary special   \n",
       "3          270000.0  Commercial associate  Secondary / secondary special   \n",
       "4          270000.0  Commercial associate  Secondary / secondary special   \n",
       "\n",
       "     NAME_FAMILY_STATUS  NAME_HOUSING_TYPE  DAYS_BIRTH  DAYS_EMPLOYED  \\\n",
       "0        Civil marriage   Rented apartment      -12005          -4542   \n",
       "1        Civil marriage   Rented apartment      -12005          -4542   \n",
       "2               Married  House / apartment      -21474          -1134   \n",
       "3  Single / not married  House / apartment      -19110          -3051   \n",
       "4  Single / not married  House / apartment      -19110          -3051   \n",
       "\n",
       "   FLAG_MOBIL  FLAG_WORK_PHONE  FLAG_PHONE  FLAG_EMAIL OCCUPATION_TYPE  \\\n",
       "0           1                1           0           0             NaN   \n",
       "1           1                1           0           0             NaN   \n",
       "2           1                0           0           0  Security staff   \n",
       "3           1                0           1           1     Sales staff   \n",
       "4           1                0           1           1     Sales staff   \n",
       "\n",
       "   CNT_FAM_MEMBERS  \n",
       "0              2.0  \n",
       "1              2.0  \n",
       "2              2.0  \n",
       "3              1.0  \n",
       "4              1.0  "
      ]
     },
     "execution_count": 5,
     "metadata": {},
     "output_type": "execute_result"
    }
   ],
   "source": [
    "app.head()"
   ]
  },
  {
   "cell_type": "code",
   "execution_count": 6,
   "id": "0bccfa4b",
   "metadata": {},
   "outputs": [
    {
     "data": {
      "text/html": [
       "<div>\n",
       "<style scoped>\n",
       "    .dataframe tbody tr th:only-of-type {\n",
       "        vertical-align: middle;\n",
       "    }\n",
       "\n",
       "    .dataframe tbody tr th {\n",
       "        vertical-align: top;\n",
       "    }\n",
       "\n",
       "    .dataframe thead th {\n",
       "        text-align: right;\n",
       "    }\n",
       "</style>\n",
       "<table border=\"1\" class=\"dataframe\">\n",
       "  <thead>\n",
       "    <tr style=\"text-align: right;\">\n",
       "      <th></th>\n",
       "      <th>ID</th>\n",
       "      <th>CNT_CHILDREN</th>\n",
       "      <th>AMT_INCOME_TOTAL</th>\n",
       "      <th>DAYS_BIRTH</th>\n",
       "      <th>DAYS_EMPLOYED</th>\n",
       "      <th>FLAG_MOBIL</th>\n",
       "      <th>FLAG_WORK_PHONE</th>\n",
       "      <th>FLAG_PHONE</th>\n",
       "      <th>FLAG_EMAIL</th>\n",
       "      <th>CNT_FAM_MEMBERS</th>\n",
       "    </tr>\n",
       "  </thead>\n",
       "  <tbody>\n",
       "    <tr>\n",
       "      <th>count</th>\n",
       "      <td>4.385570e+05</td>\n",
       "      <td>438557.000000</td>\n",
       "      <td>4.385570e+05</td>\n",
       "      <td>438557.000000</td>\n",
       "      <td>438557.000000</td>\n",
       "      <td>438557.0</td>\n",
       "      <td>438557.000000</td>\n",
       "      <td>438557.000000</td>\n",
       "      <td>438557.000000</td>\n",
       "      <td>438557.000000</td>\n",
       "    </tr>\n",
       "    <tr>\n",
       "      <th>mean</th>\n",
       "      <td>6.022176e+06</td>\n",
       "      <td>0.427390</td>\n",
       "      <td>1.875243e+05</td>\n",
       "      <td>-15997.904649</td>\n",
       "      <td>60563.675328</td>\n",
       "      <td>1.0</td>\n",
       "      <td>0.206133</td>\n",
       "      <td>0.287771</td>\n",
       "      <td>0.108207</td>\n",
       "      <td>2.194465</td>\n",
       "    </tr>\n",
       "    <tr>\n",
       "      <th>std</th>\n",
       "      <td>5.716370e+05</td>\n",
       "      <td>0.724882</td>\n",
       "      <td>1.100869e+05</td>\n",
       "      <td>4185.030007</td>\n",
       "      <td>138767.799647</td>\n",
       "      <td>0.0</td>\n",
       "      <td>0.404527</td>\n",
       "      <td>0.452724</td>\n",
       "      <td>0.310642</td>\n",
       "      <td>0.897207</td>\n",
       "    </tr>\n",
       "    <tr>\n",
       "      <th>min</th>\n",
       "      <td>5.008804e+06</td>\n",
       "      <td>0.000000</td>\n",
       "      <td>2.610000e+04</td>\n",
       "      <td>-25201.000000</td>\n",
       "      <td>-17531.000000</td>\n",
       "      <td>1.0</td>\n",
       "      <td>0.000000</td>\n",
       "      <td>0.000000</td>\n",
       "      <td>0.000000</td>\n",
       "      <td>1.000000</td>\n",
       "    </tr>\n",
       "    <tr>\n",
       "      <th>25%</th>\n",
       "      <td>5.609375e+06</td>\n",
       "      <td>0.000000</td>\n",
       "      <td>1.215000e+05</td>\n",
       "      <td>-19483.000000</td>\n",
       "      <td>-3103.000000</td>\n",
       "      <td>1.0</td>\n",
       "      <td>0.000000</td>\n",
       "      <td>0.000000</td>\n",
       "      <td>0.000000</td>\n",
       "      <td>2.000000</td>\n",
       "    </tr>\n",
       "    <tr>\n",
       "      <th>50%</th>\n",
       "      <td>6.047745e+06</td>\n",
       "      <td>0.000000</td>\n",
       "      <td>1.607805e+05</td>\n",
       "      <td>-15630.000000</td>\n",
       "      <td>-1467.000000</td>\n",
       "      <td>1.0</td>\n",
       "      <td>0.000000</td>\n",
       "      <td>0.000000</td>\n",
       "      <td>0.000000</td>\n",
       "      <td>2.000000</td>\n",
       "    </tr>\n",
       "    <tr>\n",
       "      <th>75%</th>\n",
       "      <td>6.456971e+06</td>\n",
       "      <td>1.000000</td>\n",
       "      <td>2.250000e+05</td>\n",
       "      <td>-12514.000000</td>\n",
       "      <td>-371.000000</td>\n",
       "      <td>1.0</td>\n",
       "      <td>0.000000</td>\n",
       "      <td>1.000000</td>\n",
       "      <td>0.000000</td>\n",
       "      <td>3.000000</td>\n",
       "    </tr>\n",
       "    <tr>\n",
       "      <th>max</th>\n",
       "      <td>7.999952e+06</td>\n",
       "      <td>19.000000</td>\n",
       "      <td>6.750000e+06</td>\n",
       "      <td>-7489.000000</td>\n",
       "      <td>365243.000000</td>\n",
       "      <td>1.0</td>\n",
       "      <td>1.000000</td>\n",
       "      <td>1.000000</td>\n",
       "      <td>1.000000</td>\n",
       "      <td>20.000000</td>\n",
       "    </tr>\n",
       "  </tbody>\n",
       "</table>\n",
       "</div>"
      ],
      "text/plain": [
       "                 ID   CNT_CHILDREN  AMT_INCOME_TOTAL     DAYS_BIRTH  \\\n",
       "count  4.385570e+05  438557.000000      4.385570e+05  438557.000000   \n",
       "mean   6.022176e+06       0.427390      1.875243e+05  -15997.904649   \n",
       "std    5.716370e+05       0.724882      1.100869e+05    4185.030007   \n",
       "min    5.008804e+06       0.000000      2.610000e+04  -25201.000000   \n",
       "25%    5.609375e+06       0.000000      1.215000e+05  -19483.000000   \n",
       "50%    6.047745e+06       0.000000      1.607805e+05  -15630.000000   \n",
       "75%    6.456971e+06       1.000000      2.250000e+05  -12514.000000   \n",
       "max    7.999952e+06      19.000000      6.750000e+06   -7489.000000   \n",
       "\n",
       "       DAYS_EMPLOYED  FLAG_MOBIL  FLAG_WORK_PHONE     FLAG_PHONE  \\\n",
       "count  438557.000000    438557.0    438557.000000  438557.000000   \n",
       "mean    60563.675328         1.0         0.206133       0.287771   \n",
       "std    138767.799647         0.0         0.404527       0.452724   \n",
       "min    -17531.000000         1.0         0.000000       0.000000   \n",
       "25%     -3103.000000         1.0         0.000000       0.000000   \n",
       "50%     -1467.000000         1.0         0.000000       0.000000   \n",
       "75%      -371.000000         1.0         0.000000       1.000000   \n",
       "max    365243.000000         1.0         1.000000       1.000000   \n",
       "\n",
       "          FLAG_EMAIL  CNT_FAM_MEMBERS  \n",
       "count  438557.000000    438557.000000  \n",
       "mean        0.108207         2.194465  \n",
       "std         0.310642         0.897207  \n",
       "min         0.000000         1.000000  \n",
       "25%         0.000000         2.000000  \n",
       "50%         0.000000         2.000000  \n",
       "75%         0.000000         3.000000  \n",
       "max         1.000000        20.000000  "
      ]
     },
     "execution_count": 6,
     "metadata": {},
     "output_type": "execute_result"
    }
   ],
   "source": [
    "app.describe()"
   ]
  },
  {
   "cell_type": "code",
   "execution_count": 7,
   "id": "fd960589",
   "metadata": {},
   "outputs": [
    {
     "data": {
      "text/plain": [
       "(438557, 18)"
      ]
     },
     "execution_count": 7,
     "metadata": {},
     "output_type": "execute_result"
    }
   ],
   "source": [
    "app.shape"
   ]
  },
  {
   "cell_type": "code",
   "execution_count": null,
   "id": "8cf921bf",
   "metadata": {},
   "outputs": [],
   "source": []
  },
  {
   "cell_type": "code",
   "execution_count": null,
   "id": "cfd3a7e2",
   "metadata": {},
   "outputs": [],
   "source": []
  },
  {
   "cell_type": "code",
   "execution_count": 8,
   "id": "1ecc138e",
   "metadata": {},
   "outputs": [
    {
     "name": "stdout",
     "output_type": "stream",
     "text": [
      "<class 'pandas.core.frame.DataFrame'>\n",
      "RangeIndex: 1048575 entries, 0 to 1048574\n",
      "Data columns (total 3 columns):\n",
      " #   Column          Non-Null Count    Dtype \n",
      "---  ------          --------------    ----- \n",
      " 0   ID              1048575 non-null  int64 \n",
      " 1   MONTHS_BALANCE  1048575 non-null  int64 \n",
      " 2   STATUS          1048575 non-null  object\n",
      "dtypes: int64(2), object(1)\n",
      "memory usage: 24.0+ MB\n"
     ]
    }
   ],
   "source": [
    "cd.info()"
   ]
  },
  {
   "cell_type": "code",
   "execution_count": 9,
   "id": "ded519da",
   "metadata": {},
   "outputs": [
    {
     "data": {
      "text/html": [
       "<div>\n",
       "<style scoped>\n",
       "    .dataframe tbody tr th:only-of-type {\n",
       "        vertical-align: middle;\n",
       "    }\n",
       "\n",
       "    .dataframe tbody tr th {\n",
       "        vertical-align: top;\n",
       "    }\n",
       "\n",
       "    .dataframe thead th {\n",
       "        text-align: right;\n",
       "    }\n",
       "</style>\n",
       "<table border=\"1\" class=\"dataframe\">\n",
       "  <thead>\n",
       "    <tr style=\"text-align: right;\">\n",
       "      <th></th>\n",
       "      <th>ID</th>\n",
       "      <th>MONTHS_BALANCE</th>\n",
       "      <th>STATUS</th>\n",
       "    </tr>\n",
       "  </thead>\n",
       "  <tbody>\n",
       "    <tr>\n",
       "      <th>0</th>\n",
       "      <td>5001711</td>\n",
       "      <td>0</td>\n",
       "      <td>X</td>\n",
       "    </tr>\n",
       "    <tr>\n",
       "      <th>1</th>\n",
       "      <td>5001711</td>\n",
       "      <td>-1</td>\n",
       "      <td>0</td>\n",
       "    </tr>\n",
       "    <tr>\n",
       "      <th>2</th>\n",
       "      <td>5001711</td>\n",
       "      <td>-2</td>\n",
       "      <td>0</td>\n",
       "    </tr>\n",
       "    <tr>\n",
       "      <th>3</th>\n",
       "      <td>5001711</td>\n",
       "      <td>-3</td>\n",
       "      <td>0</td>\n",
       "    </tr>\n",
       "    <tr>\n",
       "      <th>4</th>\n",
       "      <td>5001712</td>\n",
       "      <td>0</td>\n",
       "      <td>C</td>\n",
       "    </tr>\n",
       "  </tbody>\n",
       "</table>\n",
       "</div>"
      ],
      "text/plain": [
       "        ID  MONTHS_BALANCE STATUS\n",
       "0  5001711               0      X\n",
       "1  5001711              -1      0\n",
       "2  5001711              -2      0\n",
       "3  5001711              -3      0\n",
       "4  5001712               0      C"
      ]
     },
     "execution_count": 9,
     "metadata": {},
     "output_type": "execute_result"
    }
   ],
   "source": [
    "cd.head()"
   ]
  },
  {
   "cell_type": "code",
   "execution_count": 10,
   "id": "23e25a73",
   "metadata": {},
   "outputs": [
    {
     "data": {
      "text/plain": [
       "(1048575, 3)"
      ]
     },
     "execution_count": 10,
     "metadata": {},
     "output_type": "execute_result"
    }
   ],
   "source": [
    "cd.shape"
   ]
  },
  {
   "cell_type": "code",
   "execution_count": null,
   "id": "f594926a",
   "metadata": {},
   "outputs": [],
   "source": []
  },
  {
   "cell_type": "code",
   "execution_count": 11,
   "id": "d5a6911a",
   "metadata": {},
   "outputs": [],
   "source": [
    "#here we can connect the two data set using the Id\n"
   ]
  },
  {
   "cell_type": "code",
   "execution_count": 12,
   "id": "23a940ae",
   "metadata": {},
   "outputs": [
    {
     "data": {
      "text/plain": [
       "438510"
      ]
     },
     "execution_count": 12,
     "metadata": {},
     "output_type": "execute_result"
    }
   ],
   "source": [
    "app.ID.nunique() # the total rows are 438,557. This means it has duplicates"
   ]
  },
  {
   "cell_type": "code",
   "execution_count": 13,
   "id": "81c69fe3",
   "metadata": {},
   "outputs": [
    {
     "data": {
      "text/plain": [
       "45985"
      ]
     },
     "execution_count": 13,
     "metadata": {},
     "output_type": "execute_result"
    }
   ],
   "source": [
    "cd.ID.nunique()# this has around 43,000 unique rows as there are repeating entries for different monthly values and status"
   ]
  },
  {
   "cell_type": "code",
   "execution_count": 14,
   "id": "83934880",
   "metadata": {},
   "outputs": [
    {
     "data": {
      "text/plain": [
       "36457"
      ]
     },
     "execution_count": 14,
     "metadata": {},
     "output_type": "execute_result"
    }
   ],
   "source": [
    "# checking to see how many records match in two datasets\n",
    "\n",
    "len(set(cd.ID).intersection(set(app.ID)))"
   ]
  },
  {
   "cell_type": "code",
   "execution_count": null,
   "id": "4eb33355",
   "metadata": {},
   "outputs": [],
   "source": []
  },
  {
   "cell_type": "code",
   "execution_count": 15,
   "id": "d9a4127c",
   "metadata": {
    "scrolled": false
   },
   "outputs": [
    {
     "data": {
      "text/plain": [
       "ID                          0\n",
       "CODE_GENDER                 0\n",
       "FLAG_OWN_CAR                0\n",
       "FLAG_OWN_REALTY             0\n",
       "CNT_CHILDREN                0\n",
       "AMT_INCOME_TOTAL            0\n",
       "NAME_INCOME_TYPE            0\n",
       "NAME_EDUCATION_TYPE         0\n",
       "NAME_FAMILY_STATUS          0\n",
       "NAME_HOUSING_TYPE           0\n",
       "DAYS_BIRTH                  0\n",
       "DAYS_EMPLOYED               0\n",
       "FLAG_MOBIL                  0\n",
       "FLAG_WORK_PHONE             0\n",
       "FLAG_PHONE                  0\n",
       "FLAG_EMAIL                  0\n",
       "OCCUPATION_TYPE        134203\n",
       "CNT_FAM_MEMBERS             0\n",
       "dtype: int64"
      ]
     },
     "execution_count": 15,
     "metadata": {},
     "output_type": "execute_result"
    }
   ],
   "source": [
    " # checking for null values\n",
    "app.isnull().sum()"
   ]
  },
  {
   "cell_type": "code",
   "execution_count": 16,
   "id": "b76c2d50",
   "metadata": {},
   "outputs": [
    {
     "data": {
      "text/plain": [
       "ID                0\n",
       "MONTHS_BALANCE    0\n",
       "STATUS            0\n",
       "dtype: int64"
      ]
     },
     "execution_count": 16,
     "metadata": {},
     "output_type": "execute_result"
    }
   ],
   "source": [
    "cd.isnull().sum()"
   ]
  },
  {
   "cell_type": "code",
   "execution_count": null,
   "id": "7c9900bf",
   "metadata": {},
   "outputs": [],
   "source": []
  },
  {
   "cell_type": "code",
   "execution_count": 17,
   "id": "6692b121",
   "metadata": {},
   "outputs": [],
   "source": [
    "#we delete the duplicates\n",
    "app=app.drop_duplicates('ID',keep='last')"
   ]
  },
  {
   "cell_type": "code",
   "execution_count": 18,
   "id": "03e69fa3",
   "metadata": {},
   "outputs": [],
   "source": [
    "app.drop('OCCUPATION_TYPE',axis=1,inplace=True)"
   ]
  },
  {
   "cell_type": "code",
   "execution_count": null,
   "id": "3d5a7513",
   "metadata": {},
   "outputs": [],
   "source": []
  },
  {
   "cell_type": "code",
   "execution_count": 19,
   "id": "3a5127e0",
   "metadata": {},
   "outputs": [
    {
     "data": {
      "text/plain": [
       "1            CODE_GENDER\n",
       "2           FLAG_OWN_CAR\n",
       "3        FLAG_OWN_REALTY\n",
       "6       NAME_INCOME_TYPE\n",
       "7    NAME_EDUCATION_TYPE\n",
       "8     NAME_FAMILY_STATUS\n",
       "9      NAME_HOUSING_TYPE\n",
       "Name: index, dtype: object"
      ]
     },
     "execution_count": 19,
     "metadata": {},
     "output_type": "execute_result"
    }
   ],
   "source": [
    "ot=pd.DataFrame(app.dtypes=='object').reset_index()\n",
    "object_type=ot[ot[0]==True]['index']\n",
    "object_type"
   ]
  },
  {
   "cell_type": "code",
   "execution_count": null,
   "id": "677ff704",
   "metadata": {},
   "outputs": [],
   "source": []
  },
  {
   "cell_type": "code",
   "execution_count": 20,
   "id": "c34207f1",
   "metadata": {},
   "outputs": [
    {
     "data": {
      "text/plain": [
       "\"num_type = pd.DataFrame(app.dtypes != 'object').reset_index().rename(columns =  {0:'yes/no'})\\nnum_type = num_type[num_type['yes/no'] ==True]['index']\\n#HAVE CREATED SEPARATE LIST FOR NUMERIC TYPE INCASE IT WILL BE NEEDED IN FURTHER ANALYSIS\\n# IT IS NEEDED IN FURTHER ANALYSIS\""
      ]
     },
     "execution_count": 20,
     "metadata": {},
     "output_type": "execute_result"
    }
   ],
   "source": [
    "'''num_type = pd.DataFrame(app.dtypes != 'object').reset_index().rename(columns =  {0:'yes/no'})\n",
    "num_type = num_type[num_type['yes/no'] ==True]['index']\n",
    "#HAVE CREATED SEPARATE LIST FOR NUMERIC TYPE INCASE IT WILL BE NEEDED IN FURTHER ANALYSIS\n",
    "# IT IS NEEDED IN FURTHER ANALYSIS'''"
   ]
  },
  {
   "cell_type": "code",
   "execution_count": null,
   "id": "2daf16ed",
   "metadata": {},
   "outputs": [],
   "source": []
  },
  {
   "cell_type": "code",
   "execution_count": null,
   "id": "d44294ce",
   "metadata": {},
   "outputs": [],
   "source": []
  },
  {
   "cell_type": "code",
   "execution_count": 21,
   "id": "89f1b519",
   "metadata": {},
   "outputs": [],
   "source": [
    "#joining the two dataset"
   ]
  },
  {
   "cell_type": "code",
   "execution_count": 22,
   "id": "ec2c4d3c",
   "metadata": {},
   "outputs": [],
   "source": [
    "df=app.join(cd.set_index('ID'),on='ID',how='inner')"
   ]
  },
  {
   "cell_type": "code",
   "execution_count": 23,
   "id": "289e97b9",
   "metadata": {},
   "outputs": [],
   "source": [
    "df.drop([ 'MONTHS_BALANCE'], axis=1, inplace=True)"
   ]
  },
  {
   "cell_type": "code",
   "execution_count": 24,
   "id": "840accdb",
   "metadata": {},
   "outputs": [
    {
     "data": {
      "text/html": [
       "<div>\n",
       "<style scoped>\n",
       "    .dataframe tbody tr th:only-of-type {\n",
       "        vertical-align: middle;\n",
       "    }\n",
       "\n",
       "    .dataframe tbody tr th {\n",
       "        vertical-align: top;\n",
       "    }\n",
       "\n",
       "    .dataframe thead th {\n",
       "        text-align: right;\n",
       "    }\n",
       "</style>\n",
       "<table border=\"1\" class=\"dataframe\">\n",
       "  <thead>\n",
       "    <tr style=\"text-align: right;\">\n",
       "      <th></th>\n",
       "      <th>ID</th>\n",
       "      <th>CODE_GENDER</th>\n",
       "      <th>FLAG_OWN_CAR</th>\n",
       "      <th>FLAG_OWN_REALTY</th>\n",
       "      <th>CNT_CHILDREN</th>\n",
       "      <th>AMT_INCOME_TOTAL</th>\n",
       "      <th>NAME_INCOME_TYPE</th>\n",
       "      <th>NAME_EDUCATION_TYPE</th>\n",
       "      <th>NAME_FAMILY_STATUS</th>\n",
       "      <th>NAME_HOUSING_TYPE</th>\n",
       "      <th>DAYS_BIRTH</th>\n",
       "      <th>DAYS_EMPLOYED</th>\n",
       "      <th>FLAG_MOBIL</th>\n",
       "      <th>FLAG_WORK_PHONE</th>\n",
       "      <th>FLAG_PHONE</th>\n",
       "      <th>FLAG_EMAIL</th>\n",
       "      <th>CNT_FAM_MEMBERS</th>\n",
       "      <th>STATUS</th>\n",
       "    </tr>\n",
       "  </thead>\n",
       "  <tbody>\n",
       "    <tr>\n",
       "      <th>0</th>\n",
       "      <td>5008804</td>\n",
       "      <td>M</td>\n",
       "      <td>Y</td>\n",
       "      <td>Y</td>\n",
       "      <td>0</td>\n",
       "      <td>427500.0</td>\n",
       "      <td>Working</td>\n",
       "      <td>Higher education</td>\n",
       "      <td>Civil marriage</td>\n",
       "      <td>Rented apartment</td>\n",
       "      <td>-12005</td>\n",
       "      <td>-4542</td>\n",
       "      <td>1</td>\n",
       "      <td>1</td>\n",
       "      <td>0</td>\n",
       "      <td>0</td>\n",
       "      <td>2.0</td>\n",
       "      <td>C</td>\n",
       "    </tr>\n",
       "    <tr>\n",
       "      <th>0</th>\n",
       "      <td>5008804</td>\n",
       "      <td>M</td>\n",
       "      <td>Y</td>\n",
       "      <td>Y</td>\n",
       "      <td>0</td>\n",
       "      <td>427500.0</td>\n",
       "      <td>Working</td>\n",
       "      <td>Higher education</td>\n",
       "      <td>Civil marriage</td>\n",
       "      <td>Rented apartment</td>\n",
       "      <td>-12005</td>\n",
       "      <td>-4542</td>\n",
       "      <td>1</td>\n",
       "      <td>1</td>\n",
       "      <td>0</td>\n",
       "      <td>0</td>\n",
       "      <td>2.0</td>\n",
       "      <td>C</td>\n",
       "    </tr>\n",
       "    <tr>\n",
       "      <th>0</th>\n",
       "      <td>5008804</td>\n",
       "      <td>M</td>\n",
       "      <td>Y</td>\n",
       "      <td>Y</td>\n",
       "      <td>0</td>\n",
       "      <td>427500.0</td>\n",
       "      <td>Working</td>\n",
       "      <td>Higher education</td>\n",
       "      <td>Civil marriage</td>\n",
       "      <td>Rented apartment</td>\n",
       "      <td>-12005</td>\n",
       "      <td>-4542</td>\n",
       "      <td>1</td>\n",
       "      <td>1</td>\n",
       "      <td>0</td>\n",
       "      <td>0</td>\n",
       "      <td>2.0</td>\n",
       "      <td>C</td>\n",
       "    </tr>\n",
       "    <tr>\n",
       "      <th>0</th>\n",
       "      <td>5008804</td>\n",
       "      <td>M</td>\n",
       "      <td>Y</td>\n",
       "      <td>Y</td>\n",
       "      <td>0</td>\n",
       "      <td>427500.0</td>\n",
       "      <td>Working</td>\n",
       "      <td>Higher education</td>\n",
       "      <td>Civil marriage</td>\n",
       "      <td>Rented apartment</td>\n",
       "      <td>-12005</td>\n",
       "      <td>-4542</td>\n",
       "      <td>1</td>\n",
       "      <td>1</td>\n",
       "      <td>0</td>\n",
       "      <td>0</td>\n",
       "      <td>2.0</td>\n",
       "      <td>C</td>\n",
       "    </tr>\n",
       "    <tr>\n",
       "      <th>0</th>\n",
       "      <td>5008804</td>\n",
       "      <td>M</td>\n",
       "      <td>Y</td>\n",
       "      <td>Y</td>\n",
       "      <td>0</td>\n",
       "      <td>427500.0</td>\n",
       "      <td>Working</td>\n",
       "      <td>Higher education</td>\n",
       "      <td>Civil marriage</td>\n",
       "      <td>Rented apartment</td>\n",
       "      <td>-12005</td>\n",
       "      <td>-4542</td>\n",
       "      <td>1</td>\n",
       "      <td>1</td>\n",
       "      <td>0</td>\n",
       "      <td>0</td>\n",
       "      <td>2.0</td>\n",
       "      <td>C</td>\n",
       "    </tr>\n",
       "  </tbody>\n",
       "</table>\n",
       "</div>"
      ],
      "text/plain": [
       "        ID CODE_GENDER FLAG_OWN_CAR FLAG_OWN_REALTY  CNT_CHILDREN  \\\n",
       "0  5008804           M            Y               Y             0   \n",
       "0  5008804           M            Y               Y             0   \n",
       "0  5008804           M            Y               Y             0   \n",
       "0  5008804           M            Y               Y             0   \n",
       "0  5008804           M            Y               Y             0   \n",
       "\n",
       "   AMT_INCOME_TOTAL NAME_INCOME_TYPE NAME_EDUCATION_TYPE NAME_FAMILY_STATUS  \\\n",
       "0          427500.0          Working    Higher education     Civil marriage   \n",
       "0          427500.0          Working    Higher education     Civil marriage   \n",
       "0          427500.0          Working    Higher education     Civil marriage   \n",
       "0          427500.0          Working    Higher education     Civil marriage   \n",
       "0          427500.0          Working    Higher education     Civil marriage   \n",
       "\n",
       "  NAME_HOUSING_TYPE  DAYS_BIRTH  DAYS_EMPLOYED  FLAG_MOBIL  FLAG_WORK_PHONE  \\\n",
       "0  Rented apartment      -12005          -4542           1                1   \n",
       "0  Rented apartment      -12005          -4542           1                1   \n",
       "0  Rented apartment      -12005          -4542           1                1   \n",
       "0  Rented apartment      -12005          -4542           1                1   \n",
       "0  Rented apartment      -12005          -4542           1                1   \n",
       "\n",
       "   FLAG_PHONE  FLAG_EMAIL  CNT_FAM_MEMBERS STATUS  \n",
       "0           0           0              2.0      C  \n",
       "0           0           0              2.0      C  \n",
       "0           0           0              2.0      C  \n",
       "0           0           0              2.0      C  \n",
       "0           0           0              2.0      C  "
      ]
     },
     "execution_count": 24,
     "metadata": {},
     "output_type": "execute_result"
    }
   ],
   "source": [
    "df.head()"
   ]
  },
  {
   "cell_type": "code",
   "execution_count": null,
   "id": "21377a67",
   "metadata": {},
   "outputs": [],
   "source": []
  },
  {
   "cell_type": "markdown",
   "id": "65bf8f54",
   "metadata": {},
   "source": [
    "# CODE_GENDER"
   ]
  },
  {
   "cell_type": "code",
   "execution_count": 25,
   "id": "05fc66e0",
   "metadata": {},
   "outputs": [
    {
     "data": {
      "text/plain": [
       "F    518851\n",
       "M    258864\n",
       "Name: CODE_GENDER, dtype: int64"
      ]
     },
     "execution_count": 25,
     "metadata": {},
     "output_type": "execute_result"
    }
   ],
   "source": [
    "df.CODE_GENDER.value_counts()"
   ]
  },
  {
   "cell_type": "code",
   "execution_count": 26,
   "id": "92c92993",
   "metadata": {},
   "outputs": [
    {
     "name": "stderr",
     "output_type": "stream",
     "text": [
      "C:\\Users\\abhay\\anaconda3\\lib\\site-packages\\seaborn\\_decorators.py:36: FutureWarning: Pass the following variable as a keyword arg: x. From version 0.12, the only valid positional argument will be `data`, and passing other arguments without an explicit keyword will result in an error or misinterpretation.\n",
      "  warnings.warn(\n"
     ]
    },
    {
     "data": {
      "text/plain": [
       "<AxesSubplot:xlabel='CODE_GENDER', ylabel='count'>"
      ]
     },
     "execution_count": 26,
     "metadata": {},
     "output_type": "execute_result"
    },
    {
     "data": {
      "image/png": "[encoded data removed]",
      "text/plain": [
       "<Figure size 640x480 with 1 Axes>"
      ]
     },
     "metadata": {},
     "output_type": "display_data"
    }
   ],
   "source": [
    "sns.countplot(df.CODE_GENDER)"
   ]
  },
  {
   "cell_type": "code",
   "execution_count": 27,
   "id": "31ba9610",
   "metadata": {},
   "outputs": [
    {
     "data": {
      "text/plain": [
       "3.634048908463986e-77"
      ]
     },
     "execution_count": 27,
     "metadata": {},
     "output_type": "execute_result"
    }
   ],
   "source": [
    "a=pd.crosstab(df.CODE_GENDER,df.STATUS)\n",
    "chi2_contingency(a)[1]"
   ]
  },
  {
   "cell_type": "code",
   "execution_count": null,
   "id": "e08a5b73",
   "metadata": {},
   "outputs": [],
   "source": []
  },
  {
   "cell_type": "markdown",
   "id": "0df608cd",
   "metadata": {},
   "source": [
    "# FLAG_OWN_CAR"
   ]
  },
  {
   "cell_type": "code",
   "execution_count": 28,
   "id": "86e7c5ff",
   "metadata": {},
   "outputs": [
    {
     "data": {
      "text/plain": [
       "N    473355\n",
       "Y    304360\n",
       "Name: FLAG_OWN_CAR, dtype: int64"
      ]
     },
     "execution_count": 28,
     "metadata": {},
     "output_type": "execute_result"
    }
   ],
   "source": [
    "df.FLAG_OWN_CAR.value_counts()"
   ]
  },
  {
   "cell_type": "code",
   "execution_count": 29,
   "id": "a18dfc53",
   "metadata": {},
   "outputs": [
    {
     "name": "stderr",
     "output_type": "stream",
     "text": [
      "C:\\Users\\abhay\\anaconda3\\lib\\site-packages\\seaborn\\_decorators.py:36: FutureWarning: Pass the following variable as a keyword arg: x. From version 0.12, the only valid positional argument will be `data`, and passing other arguments without an explicit keyword will result in an error or misinterpretation.\n",
      "  warnings.warn(\n"
     ]
    },
    {
     "data": {
      "text/plain": [
       "<AxesSubplot:xlabel='FLAG_OWN_CAR', ylabel='count'>"
      ]
     },
     "execution_count": 29,
     "metadata": {},
     "output_type": "execute_result"
    },
    {
     "data": {
      "image/png": "[encoded data removed]",
      "text/plain": [
       "<Figure size 640x480 with 1 Axes>"
      ]
     },
     "metadata": {},
     "output_type": "display_data"
    }
   ],
   "source": [
    "sns.countplot(df.FLAG_OWN_CAR)"
   ]
  },
  {
   "cell_type": "code",
   "execution_count": 30,
   "id": "fd4749d0",
   "metadata": {},
   "outputs": [
    {
     "data": {
      "text/plain": [
       "4.0451520808913785e-25"
      ]
     },
     "execution_count": 30,
     "metadata": {},
     "output_type": "execute_result"
    }
   ],
   "source": [
    "a=pd.crosstab(df.FLAG_OWN_CAR,df.STATUS)\n",
    "chi2_contingency(a)[1]"
   ]
  },
  {
   "cell_type": "code",
   "execution_count": 31,
   "id": "3541ebf2",
   "metadata": {},
   "outputs": [],
   "source": [
    "df.drop('FLAG_OWN_CAR',axis=1,inplace=True)"
   ]
  },
  {
   "cell_type": "code",
   "execution_count": null,
   "id": "1b884001",
   "metadata": {},
   "outputs": [],
   "source": []
  },
  {
   "cell_type": "code",
   "execution_count": null,
   "id": "85822ff2",
   "metadata": {},
   "outputs": [],
   "source": []
  },
  {
   "cell_type": "markdown",
   "id": "0fd67b03",
   "metadata": {},
   "source": [
    "# FLAG_OWN_REALTY"
   ]
  },
  {
   "cell_type": "code",
   "execution_count": 32,
   "id": "51347022",
   "metadata": {},
   "outputs": [
    {
     "data": {
      "text/plain": [
       "Y    512948\n",
       "N    264767\n",
       "Name: FLAG_OWN_REALTY, dtype: int64"
      ]
     },
     "execution_count": 32,
     "metadata": {},
     "output_type": "execute_result"
    }
   ],
   "source": [
    "df.FLAG_OWN_REALTY.value_counts()"
   ]
  },
  {
   "cell_type": "code",
   "execution_count": 33,
   "id": "7670005b",
   "metadata": {},
   "outputs": [
    {
     "name": "stderr",
     "output_type": "stream",
     "text": [
      "C:\\Users\\abhay\\anaconda3\\lib\\site-packages\\seaborn\\_decorators.py:36: FutureWarning: Pass the following variable as a keyword arg: x. From version 0.12, the only valid positional argument will be `data`, and passing other arguments without an explicit keyword will result in an error or misinterpretation.\n",
      "  warnings.warn(\n"
     ]
    },
    {
     "data": {
      "text/plain": [
       "<AxesSubplot:xlabel='FLAG_OWN_REALTY', ylabel='count'>"
      ]
     },
     "execution_count": 33,
     "metadata": {},
     "output_type": "execute_result"
    },
    {
     "data": {
      "image/png": "[encoded data removed]",
      "text/plain": [
       "<Figure size 640x480 with 1 Axes>"
      ]
     },
     "metadata": {},
     "output_type": "display_data"
    }
   ],
   "source": [
    "sns.countplot(df.FLAG_OWN_REALTY)"
   ]
  },
  {
   "cell_type": "code",
   "execution_count": 34,
   "id": "a2a5a0d8",
   "metadata": {},
   "outputs": [
    {
     "data": {
      "text/plain": [
       "4.518711527623754e-31"
      ]
     },
     "execution_count": 34,
     "metadata": {},
     "output_type": "execute_result"
    }
   ],
   "source": [
    "a=pd.crosstab(df.FLAG_OWN_REALTY,df.STATUS)\n",
    "chi2_contingency(a)[1]"
   ]
  },
  {
   "cell_type": "code",
   "execution_count": null,
   "id": "35e66fec",
   "metadata": {},
   "outputs": [],
   "source": []
  },
  {
   "cell_type": "code",
   "execution_count": null,
   "id": "12642dcd",
   "metadata": {},
   "outputs": [],
   "source": []
  },
  {
   "cell_type": "markdown",
   "id": "a2e0b95c",
   "metadata": {},
   "source": [
    "# NAME_INCOME_TYPE"
   ]
  },
  {
   "cell_type": "code",
   "execution_count": 35,
   "id": "0583ee18",
   "metadata": {},
   "outputs": [
    {
     "data": {
      "text/plain": [
       "Working                 400164\n",
       "Commercial associate    183385\n",
       "Pensioner               128392\n",
       "State servant            65437\n",
       "Student                    337\n",
       "Name: NAME_INCOME_TYPE, dtype: int64"
      ]
     },
     "execution_count": 35,
     "metadata": {},
     "output_type": "execute_result"
    }
   ],
   "source": [
    "df.NAME_INCOME_TYPE.value_counts()"
   ]
  },
  {
   "cell_type": "code",
   "execution_count": 36,
   "id": "84dbb72c",
   "metadata": {},
   "outputs": [
    {
     "name": "stderr",
     "output_type": "stream",
     "text": [
      "C:\\Users\\abhay\\anaconda3\\lib\\site-packages\\seaborn\\_decorators.py:36: FutureWarning: Pass the following variable as a keyword arg: x. From version 0.12, the only valid positional argument will be `data`, and passing other arguments without an explicit keyword will result in an error or misinterpretation.\n",
      "  warnings.warn(\n"
     ]
    },
    {
     "data": {
      "text/plain": [
       "<AxesSubplot:xlabel='NAME_INCOME_TYPE', ylabel='count'>"
      ]
     },
     "execution_count": 36,
     "metadata": {},
     "output_type": "execute_result"
    },
    {
     "data": {
      "image/png": "[encoded data removed]",
      "text/plain": [
       "<Figure size 900x600 with 1 Axes>"
      ]
     },
     "metadata": {},
     "output_type": "display_data"
    }
   ],
   "source": [
    "plt.figure(figsize=(9,6))\n",
    "sns.countplot(df.NAME_INCOME_TYPE)"
   ]
  },
  {
   "cell_type": "code",
   "execution_count": 37,
   "id": "b66d3285",
   "metadata": {},
   "outputs": [
    {
     "data": {
      "text/plain": [
       "4.361362749105315e-93"
      ]
     },
     "execution_count": 37,
     "metadata": {},
     "output_type": "execute_result"
    }
   ],
   "source": [
    "a=pd.crosstab(df.NAME_INCOME_TYPE,df.STATUS)\n",
    "chi2_contingency(a)[1]"
   ]
  },
  {
   "cell_type": "code",
   "execution_count": null,
   "id": "9f19508f",
   "metadata": {},
   "outputs": [],
   "source": []
  },
  {
   "cell_type": "code",
   "execution_count": null,
   "id": "c20d3e67",
   "metadata": {},
   "outputs": [],
   "source": []
  },
  {
   "cell_type": "markdown",
   "id": "72767cf3",
   "metadata": {},
   "source": [
    "# NAME_EDUCATION_TYPE"
   ]
  },
  {
   "cell_type": "code",
   "execution_count": 38,
   "id": "59002afe",
   "metadata": {},
   "outputs": [
    {
     "data": {
      "text/plain": [
       "Secondary / secondary special    524261\n",
       "Higher education                 213633\n",
       "Incomplete higher                 30329\n",
       "Lower secondary                    8655\n",
       "Academic degree                     837\n",
       "Name: NAME_EDUCATION_TYPE, dtype: int64"
      ]
     },
     "execution_count": 38,
     "metadata": {},
     "output_type": "execute_result"
    }
   ],
   "source": [
    "df.NAME_EDUCATION_TYPE.value_counts()"
   ]
  },
  {
   "cell_type": "code",
   "execution_count": 39,
   "id": "33f117c6",
   "metadata": {},
   "outputs": [
    {
     "name": "stderr",
     "output_type": "stream",
     "text": [
      "C:\\Users\\abhay\\anaconda3\\lib\\site-packages\\seaborn\\_decorators.py:36: FutureWarning: Pass the following variable as a keyword arg: x. From version 0.12, the only valid positional argument will be `data`, and passing other arguments without an explicit keyword will result in an error or misinterpretation.\n",
      "  warnings.warn(\n"
     ]
    },
    {
     "data": {
      "text/plain": [
       "<AxesSubplot:xlabel='NAME_EDUCATION_TYPE', ylabel='count'>"
      ]
     },
     "execution_count": 39,
     "metadata": {},
     "output_type": "execute_result"
    },
    {
     "data": {
      "image/png": "[encoded data removed]",
      "text/plain": [
       "<Figure size 1200x700 with 1 Axes>"
      ]
     },
     "metadata": {},
     "output_type": "display_data"
    }
   ],
   "source": [
    "plt.figure(figsize=(12,7))\n",
    "sns.countplot(df.NAME_EDUCATION_TYPE)"
   ]
  },
  {
   "cell_type": "code",
   "execution_count": 40,
   "id": "fe162dc2",
   "metadata": {},
   "outputs": [
    {
     "data": {
      "text/plain": [
       "9.217749865814039e-205"
      ]
     },
     "execution_count": 40,
     "metadata": {},
     "output_type": "execute_result"
    }
   ],
   "source": [
    "a=pd.crosstab(df.NAME_EDUCATION_TYPE,df.STATUS)\n",
    "chi2_contingency(a)[1]"
   ]
  },
  {
   "cell_type": "code",
   "execution_count": null,
   "id": "1325a923",
   "metadata": {},
   "outputs": [],
   "source": []
  },
  {
   "cell_type": "code",
   "execution_count": null,
   "id": "8ba70eba",
   "metadata": {},
   "outputs": [],
   "source": []
  },
  {
   "cell_type": "markdown",
   "id": "bae6ff7f",
   "metadata": {},
   "source": [
    "# NAME_FAMILY_STATUS"
   ]
  },
  {
   "cell_type": "code",
   "execution_count": 41,
   "id": "53bd2296",
   "metadata": {},
   "outputs": [
    {
     "data": {
      "text/plain": [
       "Married                 546619\n",
       "Single / not married     94335\n",
       "Civil marriage           60342\n",
       "Separated                45255\n",
       "Widow                    31164\n",
       "Name: NAME_FAMILY_STATUS, dtype: int64"
      ]
     },
     "execution_count": 41,
     "metadata": {},
     "output_type": "execute_result"
    }
   ],
   "source": [
    "df.NAME_FAMILY_STATUS.value_counts()"
   ]
  },
  {
   "cell_type": "code",
   "execution_count": 42,
   "id": "2d456144",
   "metadata": {},
   "outputs": [
    {
     "name": "stderr",
     "output_type": "stream",
     "text": [
      "C:\\Users\\abhay\\anaconda3\\lib\\site-packages\\seaborn\\_decorators.py:36: FutureWarning: Pass the following variable as a keyword arg: x. From version 0.12, the only valid positional argument will be `data`, and passing other arguments without an explicit keyword will result in an error or misinterpretation.\n",
      "  warnings.warn(\n"
     ]
    },
    {
     "data": {
      "text/plain": [
       "<AxesSubplot:xlabel='NAME_FAMILY_STATUS', ylabel='count'>"
      ]
     },
     "execution_count": 42,
     "metadata": {},
     "output_type": "execute_result"
    },
    {
     "data": {
      "image/png": "[encoded data removed]",
      "text/plain": [
       "<Figure size 1200x600 with 1 Axes>"
      ]
     },
     "metadata": {},
     "output_type": "display_data"
    }
   ],
   "source": [
    "plt.figure(figsize=(12,6))\n",
    "sns.countplot(df.NAME_FAMILY_STATUS)"
   ]
  },
  {
   "cell_type": "code",
   "execution_count": 43,
   "id": "ef122711",
   "metadata": {},
   "outputs": [
    {
     "data": {
      "text/plain": [
       "6.313775798482449e-116"
      ]
     },
     "execution_count": 43,
     "metadata": {},
     "output_type": "execute_result"
    }
   ],
   "source": [
    "a=pd.crosstab(df.NAME_FAMILY_STATUS,df.STATUS)\n",
    "chi2_contingency(a)[1]"
   ]
  },
  {
   "cell_type": "code",
   "execution_count": null,
   "id": "99bd91da",
   "metadata": {},
   "outputs": [],
   "source": []
  },
  {
   "cell_type": "code",
   "execution_count": null,
   "id": "008af6a8",
   "metadata": {},
   "outputs": [],
   "source": []
  },
  {
   "cell_type": "markdown",
   "id": "e028dbec",
   "metadata": {},
   "source": [
    "\n",
    "# NAME_HOUSING_TYPE"
   ]
  },
  {
   "cell_type": "code",
   "execution_count": 44,
   "id": "8ad22786",
   "metadata": {},
   "outputs": [
    {
     "data": {
      "text/plain": [
       "House / apartment      697151\n",
       "With parents            35735\n",
       "Municipal apartment     24640\n",
       "Rented apartment        10898\n",
       "Office apartment         5636\n",
       "Co-op apartment          3655\n",
       "Name: NAME_HOUSING_TYPE, dtype: int64"
      ]
     },
     "execution_count": 44,
     "metadata": {},
     "output_type": "execute_result"
    }
   ],
   "source": [
    "df.NAME_HOUSING_TYPE.value_counts()"
   ]
  },
  {
   "cell_type": "code",
   "execution_count": 45,
   "id": "57607a69",
   "metadata": {},
   "outputs": [
    {
     "name": "stderr",
     "output_type": "stream",
     "text": [
      "C:\\Users\\abhay\\anaconda3\\lib\\site-packages\\seaborn\\_decorators.py:36: FutureWarning: Pass the following variable as a keyword arg: x. From version 0.12, the only valid positional argument will be `data`, and passing other arguments without an explicit keyword will result in an error or misinterpretation.\n",
      "  warnings.warn(\n"
     ]
    },
    {
     "data": {
      "text/plain": [
       "<AxesSubplot:xlabel='NAME_HOUSING_TYPE', ylabel='count'>"
      ]
     },
     "execution_count": 45,
     "metadata": {},
     "output_type": "execute_result"
    },
    {
     "data": {
      "image/png": "[encoded data removed]",
      "text/plain": [
       "<Figure size 1200x600 with 1 Axes>"
      ]
     },
     "metadata": {},
     "output_type": "display_data"
    }
   ],
   "source": [
    "plt.figure(figsize=(12,6))\n",
    "sns.countplot(df.NAME_HOUSING_TYPE)"
   ]
  },
  {
   "cell_type": "code",
   "execution_count": 46,
   "id": "d9053530",
   "metadata": {},
   "outputs": [
    {
     "data": {
      "text/plain": [
       "5.329895935440666e-97"
      ]
     },
     "execution_count": 46,
     "metadata": {},
     "output_type": "execute_result"
    }
   ],
   "source": [
    "a=pd.crosstab(df.NAME_HOUSING_TYPE,df.STATUS)\n",
    "chi2_contingency(a)[1]"
   ]
  },
  {
   "cell_type": "code",
   "execution_count": null,
   "id": "ba67d3cf",
   "metadata": {},
   "outputs": [],
   "source": []
  },
  {
   "cell_type": "code",
   "execution_count": null,
   "id": "025f7480",
   "metadata": {},
   "outputs": [],
   "source": []
  },
  {
   "cell_type": "markdown",
   "id": "4e744e3c",
   "metadata": {},
   "source": [
    "# CNT_CHILDREN"
   ]
  },
  {
   "cell_type": "code",
   "execution_count": 47,
   "id": "3bce56c9",
   "metadata": {},
   "outputs": [
    {
     "name": "stderr",
     "output_type": "stream",
     "text": [
      "C:\\Users\\abhay\\anaconda3\\lib\\site-packages\\seaborn\\distributions.py:2619: FutureWarning: `distplot` is a deprecated function and will be removed in a future version. Please adapt your code to use either `displot` (a figure-level function with similar flexibility) or `histplot` (an axes-level function for histograms).\n",
      "  warnings.warn(msg, FutureWarning)\n"
     ]
    },
    {
     "data": {
      "text/plain": [
       "<AxesSubplot:xlabel='CNT_CHILDREN', ylabel='Density'>"
      ]
     },
     "execution_count": 47,
     "metadata": {},
     "output_type": "execute_result"
    },
    {
     "data": {
      "image/png": "[encoded data removed]",
      "text/plain": [
       "<Figure size 640x480 with 1 Axes>"
      ]
     },
     "metadata": {},
     "output_type": "display_data"
    }
   ],
   "source": [
    "sns.distplot(df.CNT_CHILDREN)"
   ]
  },
  {
   "cell_type": "code",
   "execution_count": 48,
   "id": "6a60577a",
   "metadata": {},
   "outputs": [
    {
     "name": "stderr",
     "output_type": "stream",
     "text": [
      "C:\\Users\\abhay\\anaconda3\\lib\\site-packages\\seaborn\\_decorators.py:36: FutureWarning: Pass the following variable as a keyword arg: x. From version 0.12, the only valid positional argument will be `data`, and passing other arguments without an explicit keyword will result in an error or misinterpretation.\n",
      "  warnings.warn(\n"
     ]
    },
    {
     "data": {
      "text/plain": [
       "<AxesSubplot:xlabel='CNT_CHILDREN'>"
      ]
     },
     "execution_count": 48,
     "metadata": {},
     "output_type": "execute_result"
    },
    {
     "data": {
      "image/png": "[encoded data removed]",
      "text/plain": [
       "<Figure size 640x480 with 1 Axes>"
      ]
     },
     "metadata": {},
     "output_type": "display_data"
    }
   ],
   "source": [
    "sns.boxplot(df.CNT_CHILDREN,color='green')"
   ]
  },
  {
   "cell_type": "code",
   "execution_count": 49,
   "id": "b2a7f640",
   "metadata": {},
   "outputs": [],
   "source": [
    "q1=df.CNT_CHILDREN.quantile(0.25)\n",
    "q3=df.CNT_CHILDREN.quantile(0.75)\n",
    "iqr=q3-q1\n",
    "upper=q3+(1.5*iqr)"
   ]
  },
  {
   "cell_type": "code",
   "execution_count": 50,
   "id": "6db7b1d5",
   "metadata": {},
   "outputs": [],
   "source": [
    "df.CNT_CHILDREN=np.where(df.CNT_CHILDREN>upper,upper,df.CNT_CHILDREN)"
   ]
  },
  {
   "cell_type": "code",
   "execution_count": 51,
   "id": "3fe6f5ce",
   "metadata": {},
   "outputs": [
    {
     "name": "stderr",
     "output_type": "stream",
     "text": [
      "C:\\Users\\abhay\\anaconda3\\lib\\site-packages\\seaborn\\_decorators.py:36: FutureWarning: Pass the following variable as a keyword arg: x. From version 0.12, the only valid positional argument will be `data`, and passing other arguments without an explicit keyword will result in an error or misinterpretation.\n",
      "  warnings.warn(\n"
     ]
    },
    {
     "data": {
      "text/plain": [
       "<AxesSubplot:xlabel='CNT_CHILDREN'>"
      ]
     },
     "execution_count": 51,
     "metadata": {},
     "output_type": "execute_result"
    },
    {
     "data": {
      "image/png": "[encoded data removed]",
      "text/plain": [
       "<Figure size 640x480 with 1 Axes>"
      ]
     },
     "metadata": {},
     "output_type": "display_data"
    }
   ],
   "source": [
    "sns.boxplot(df.CNT_CHILDREN,color='green')"
   ]
  },
  {
   "cell_type": "code",
   "execution_count": 52,
   "id": "16440fe0",
   "metadata": {},
   "outputs": [
    {
     "name": "stdout",
     "output_type": "stream",
     "text": [
      "                df        sum_sq  mean_sq        F   PR(>F)\n",
      "STATUS         7.0      13.60322  1.94332  4.07141  0.00018\n",
      "Residual  777707.0  371206.19513  0.47731      NaN      NaN\n"
     ]
    }
   ],
   "source": [
    "model = ols(\"CNT_CHILDREN~STATUS\", data=df).fit()\n",
    "anova = sm.stats.anova_lm(model,type=2)\n",
    "ano = anova.round(decimals=5)\n",
    "print(ano)"
   ]
  },
  {
   "cell_type": "code",
   "execution_count": null,
   "id": "602924cf",
   "metadata": {},
   "outputs": [],
   "source": []
  },
  {
   "cell_type": "code",
   "execution_count": null,
   "id": "0b2bff03",
   "metadata": {},
   "outputs": [],
   "source": []
  },
  {
   "cell_type": "markdown",
   "id": "2fe56b3a",
   "metadata": {},
   "source": [
    "# AMT_INCOME_TOTAL"
   ]
  },
  {
   "cell_type": "code",
   "execution_count": 53,
   "id": "26eae792",
   "metadata": {},
   "outputs": [
    {
     "name": "stderr",
     "output_type": "stream",
     "text": [
      "C:\\Users\\abhay\\anaconda3\\lib\\site-packages\\seaborn\\distributions.py:2619: FutureWarning: `distplot` is a deprecated function and will be removed in a future version. Please adapt your code to use either `displot` (a figure-level function with similar flexibility) or `histplot` (an axes-level function for histograms).\n",
      "  warnings.warn(msg, FutureWarning)\n"
     ]
    },
    {
     "data": {
      "text/plain": [
       "<AxesSubplot:xlabel='AMT_INCOME_TOTAL', ylabel='Density'>"
      ]
     },
     "execution_count": 53,
     "metadata": {},
     "output_type": "execute_result"
    },
    {
     "data": {
      "image/png": "[encoded data removed]",
      "text/plain": [
       "<Figure size 640x480 with 1 Axes>"
      ]
     },
     "metadata": {},
     "output_type": "display_data"
    }
   ],
   "source": [
    "sns.distplot(df.AMT_INCOME_TOTAL)"
   ]
  },
  {
   "cell_type": "code",
   "execution_count": 54,
   "id": "c9f5fb83",
   "metadata": {},
   "outputs": [
    {
     "name": "stderr",
     "output_type": "stream",
     "text": [
      "C:\\Users\\abhay\\anaconda3\\lib\\site-packages\\seaborn\\_decorators.py:36: FutureWarning: Pass the following variable as a keyword arg: x. From version 0.12, the only valid positional argument will be `data`, and passing other arguments without an explicit keyword will result in an error or misinterpretation.\n",
      "  warnings.warn(\n"
     ]
    },
    {
     "data": {
      "text/plain": [
       "<AxesSubplot:xlabel='AMT_INCOME_TOTAL'>"
      ]
     },
     "execution_count": 54,
     "metadata": {},
     "output_type": "execute_result"
    },
    {
     "data": {
      "image/png": "[encoded data removed]",
      "text/plain": [
       "<Figure size 640x480 with 1 Axes>"
      ]
     },
     "metadata": {},
     "output_type": "display_data"
    }
   ],
   "source": [
    "sns.boxplot(df.AMT_INCOME_TOTAL)"
   ]
  },
  {
   "cell_type": "code",
   "execution_count": 55,
   "id": "cecc23ed",
   "metadata": {},
   "outputs": [],
   "source": [
    "q1=df.AMT_INCOME_TOTAL.quantile(0.25)\n",
    "q3=df.AMT_INCOME_TOTAL.quantile(0.75)\n",
    "iqr=q3-q1\n",
    "upper=q3+(1.5*iqr)"
   ]
  },
  {
   "cell_type": "code",
   "execution_count": 56,
   "id": "08cf9056",
   "metadata": {},
   "outputs": [],
   "source": [
    "df.AMT_INCOME_TOTAL=np.where(df.AMT_INCOME_TOTAL>upper,upper,df.AMT_INCOME_TOTAL)"
   ]
  },
  {
   "cell_type": "code",
   "execution_count": 57,
   "id": "6cac247c",
   "metadata": {},
   "outputs": [
    {
     "name": "stderr",
     "output_type": "stream",
     "text": [
      "C:\\Users\\abhay\\anaconda3\\lib\\site-packages\\seaborn\\_decorators.py:36: FutureWarning: Pass the following variable as a keyword arg: x. From version 0.12, the only valid positional argument will be `data`, and passing other arguments without an explicit keyword will result in an error or misinterpretation.\n",
      "  warnings.warn(\n"
     ]
    },
    {
     "data": {
      "text/plain": [
       "<AxesSubplot:xlabel='AMT_INCOME_TOTAL'>"
      ]
     },
     "execution_count": 57,
     "metadata": {},
     "output_type": "execute_result"
    },
    {
     "data": {
      "image/png": "[encoded data removed]",
      "text/plain": [
       "<Figure size 640x480 with 1 Axes>"
      ]
     },
     "metadata": {},
     "output_type": "display_data"
    }
   ],
   "source": [
    "sns.boxplot(df.AMT_INCOME_TOTAL)"
   ]
  },
  {
   "cell_type": "code",
   "execution_count": 58,
   "id": "84a314f2",
   "metadata": {},
   "outputs": [
    {
     "name": "stdout",
     "output_type": "stream",
     "text": [
      "                df        sum_sq       mean_sq          F  PR(>F)\n",
      "STATUS         7.0  5.825074e+12  8.321534e+11  124.13659     0.0\n",
      "Residual  777707.0  5.213383e+15  6.703530e+09        NaN     NaN\n"
     ]
    }
   ],
   "source": [
    "model = ols(\"AMT_INCOME_TOTAL~STATUS\", data=df).fit()\n",
    "anova = sm.stats.anova_lm(model,type=2)\n",
    "ano = anova.round(decimals=5)\n",
    "print(ano)"
   ]
  },
  {
   "cell_type": "code",
   "execution_count": null,
   "id": "5f9021c1",
   "metadata": {},
   "outputs": [],
   "source": []
  },
  {
   "cell_type": "markdown",
   "id": "0e080962",
   "metadata": {},
   "source": [
    "# DAYS_BIRTH"
   ]
  },
  {
   "cell_type": "code",
   "execution_count": 59,
   "id": "67aacc1e",
   "metadata": {},
   "outputs": [
    {
     "name": "stderr",
     "output_type": "stream",
     "text": [
      "C:\\Users\\abhay\\anaconda3\\lib\\site-packages\\seaborn\\distributions.py:2619: FutureWarning: `distplot` is a deprecated function and will be removed in a future version. Please adapt your code to use either `displot` (a figure-level function with similar flexibility) or `histplot` (an axes-level function for histograms).\n",
      "  warnings.warn(msg, FutureWarning)\n"
     ]
    },
    {
     "data": {
      "text/plain": [
       "<AxesSubplot:xlabel='DAYS_BIRTH', ylabel='Density'>"
      ]
     },
     "execution_count": 59,
     "metadata": {},
     "output_type": "execute_result"
    },
    {
     "data": {
      "image/png": "[encoded data removed]",
      "text/plain": [
       "<Figure size 640x480 with 1 Axes>"
      ]
     },
     "metadata": {},
     "output_type": "display_data"
    }
   ],
   "source": [
    "sns.distplot(df.DAYS_BIRTH)"
   ]
  },
  {
   "cell_type": "code",
   "execution_count": 60,
   "id": "4481a2ee",
   "metadata": {},
   "outputs": [
    {
     "name": "stderr",
     "output_type": "stream",
     "text": [
      "C:\\Users\\abhay\\anaconda3\\lib\\site-packages\\seaborn\\_decorators.py:36: FutureWarning: Pass the following variable as a keyword arg: x. From version 0.12, the only valid positional argument will be `data`, and passing other arguments without an explicit keyword will result in an error or misinterpretation.\n",
      "  warnings.warn(\n"
     ]
    },
    {
     "data": {
      "text/plain": [
       "<AxesSubplot:xlabel='DAYS_BIRTH'>"
      ]
     },
     "execution_count": 60,
     "metadata": {},
     "output_type": "execute_result"
    },
    {
     "data": {
      "image/png": "[encoded data removed]",
      "text/plain": [
       "<Figure size 640x480 with 1 Axes>"
      ]
     },
     "metadata": {},
     "output_type": "display_data"
    }
   ],
   "source": [
    "sns.boxplot(df.DAYS_BIRTH)"
   ]
  },
  {
   "cell_type": "code",
   "execution_count": 61,
   "id": "47c40589",
   "metadata": {},
   "outputs": [
    {
     "name": "stdout",
     "output_type": "stream",
     "text": [
      "                df        sum_sq       mean_sq         F  PR(>F)\n",
      "STATUS         7.0  8.522446e+09  1.217492e+09  72.32124     0.0\n",
      "Residual  777707.0  1.309231e+13  1.683450e+07       NaN     NaN\n"
     ]
    }
   ],
   "source": [
    "model = ols(\"DAYS_BIRTH~STATUS\", data=df).fit()\n",
    "anova = sm.stats.anova_lm(model,type=2)\n",
    "ano = anova.round(decimals=5)\n",
    "print(ano)"
   ]
  },
  {
   "cell_type": "code",
   "execution_count": null,
   "id": "68f1f1d5",
   "metadata": {},
   "outputs": [],
   "source": []
  },
  {
   "cell_type": "markdown",
   "id": "e5922ad5",
   "metadata": {},
   "source": [
    "# DAYS_EMPLOYED"
   ]
  },
  {
   "cell_type": "code",
   "execution_count": 62,
   "id": "58567402",
   "metadata": {},
   "outputs": [
    {
     "name": "stderr",
     "output_type": "stream",
     "text": [
      "C:\\Users\\abhay\\anaconda3\\lib\\site-packages\\seaborn\\distributions.py:2619: FutureWarning: `distplot` is a deprecated function and will be removed in a future version. Please adapt your code to use either `displot` (a figure-level function with similar flexibility) or `histplot` (an axes-level function for histograms).\n",
      "  warnings.warn(msg, FutureWarning)\n"
     ]
    },
    {
     "data": {
      "text/plain": [
       "<AxesSubplot:xlabel='DAYS_EMPLOYED', ylabel='Density'>"
      ]
     },
     "execution_count": 62,
     "metadata": {},
     "output_type": "execute_result"
    },
    {
     "data": {
      "image/png": "[encoded data removed]",
      "text/plain": [
       "<Figure size 640x480 with 1 Axes>"
      ]
     },
     "metadata": {},
     "output_type": "display_data"
    }
   ],
   "source": [
    "sns.distplot(df.DAYS_EMPLOYED)"
   ]
  },
  {
   "cell_type": "code",
   "execution_count": 63,
   "id": "c80dc664",
   "metadata": {},
   "outputs": [
    {
     "name": "stderr",
     "output_type": "stream",
     "text": [
      "C:\\Users\\abhay\\anaconda3\\lib\\site-packages\\seaborn\\_decorators.py:36: FutureWarning: Pass the following variable as a keyword arg: x. From version 0.12, the only valid positional argument will be `data`, and passing other arguments without an explicit keyword will result in an error or misinterpretation.\n",
      "  warnings.warn(\n"
     ]
    },
    {
     "data": {
      "text/plain": [
       "<AxesSubplot:xlabel='DAYS_EMPLOYED'>"
      ]
     },
     "execution_count": 63,
     "metadata": {},
     "output_type": "execute_result"
    },
    {
     "data": {
      "image/png": "[encoded data removed]",
      "text/plain": [
       "<Figure size 640x480 with 1 Axes>"
      ]
     },
     "metadata": {},
     "output_type": "display_data"
    }
   ],
   "source": [
    "sns.boxplot(df.DAYS_EMPLOYED)"
   ]
  },
  {
   "cell_type": "code",
   "execution_count": 64,
   "id": "ce88def7",
   "metadata": {},
   "outputs": [],
   "source": [
    "q1=df.DAYS_EMPLOYED.quantile(0.25)\n",
    "q3=df.DAYS_EMPLOYED.quantile(0.75)\n",
    "iqr=q3-q1\n",
    "upper=q3+(1.5*iqr)\n",
    "lower=q1-(1.5*iqr)"
   ]
  },
  {
   "cell_type": "code",
   "execution_count": 65,
   "id": "3f872296",
   "metadata": {},
   "outputs": [],
   "source": [
    "df.drop(df[df.DAYS_EMPLOYED>150000].index,axis=0,inplace=True)"
   ]
  },
  {
   "cell_type": "code",
   "execution_count": 66,
   "id": "12b2df0a",
   "metadata": {},
   "outputs": [],
   "source": [
    "df.DAYS_EMPLOYED=np.where(df.DAYS_EMPLOYED>upper,upper,df.DAYS_EMPLOYED)\n",
    "df.DAYS_EMPLOYED=np.where(df.DAYS_EMPLOYED<lower,lower,df.DAYS_EMPLOYED)"
   ]
  },
  {
   "cell_type": "code",
   "execution_count": 67,
   "id": "8f9155f5",
   "metadata": {},
   "outputs": [
    {
     "name": "stderr",
     "output_type": "stream",
     "text": [
      "C:\\Users\\abhay\\anaconda3\\lib\\site-packages\\seaborn\\_decorators.py:36: FutureWarning: Pass the following variable as a keyword arg: x. From version 0.12, the only valid positional argument will be `data`, and passing other arguments without an explicit keyword will result in an error or misinterpretation.\n",
      "  warnings.warn(\n"
     ]
    },
    {
     "data": {
      "text/plain": [
       "<AxesSubplot:xlabel='DAYS_EMPLOYED'>"
      ]
     },
     "execution_count": 67,
     "metadata": {},
     "output_type": "execute_result"
    },
    {
     "data": {
      "image/png": "[encoded data removed]",
      "text/plain": [
       "<Figure size 640x480 with 1 Axes>"
      ]
     },
     "metadata": {},
     "output_type": "display_data"
    }
   ],
   "source": [
    "sns.boxplot(df.DAYS_EMPLOYED)"
   ]
  },
  {
   "cell_type": "code",
   "execution_count": 68,
   "id": "e0dbea54",
   "metadata": {},
   "outputs": [
    {
     "name": "stdout",
     "output_type": "stream",
     "text": [
      "                df        sum_sq       mean_sq         F  PR(>F)\n",
      "STATUS         7.0  1.335545e+09  1.907922e+08  44.96054     0.0\n",
      "Residual  649735.0  2.757182e+12  4.243548e+06       NaN     NaN\n"
     ]
    }
   ],
   "source": [
    "model = ols(\"DAYS_EMPLOYED~STATUS\", data=df).fit()\n",
    "anova = sm.stats.anova_lm(model,type=2)\n",
    "ano = anova.round(decimals=5)\n",
    "print(ano)"
   ]
  },
  {
   "cell_type": "code",
   "execution_count": null,
   "id": "602b2f3d",
   "metadata": {},
   "outputs": [],
   "source": []
  },
  {
   "cell_type": "code",
   "execution_count": null,
   "id": "b3c69ec3",
   "metadata": {},
   "outputs": [],
   "source": []
  },
  {
   "cell_type": "markdown",
   "id": "bde03dd9",
   "metadata": {},
   "source": [
    "# FLAG_MOBIL"
   ]
  },
  {
   "cell_type": "code",
   "execution_count": 69,
   "id": "00ae743d",
   "metadata": {},
   "outputs": [
    {
     "data": {
      "text/plain": [
       "1    649743\n",
       "Name: FLAG_MOBIL, dtype: int64"
      ]
     },
     "execution_count": 69,
     "metadata": {},
     "output_type": "execute_result"
    }
   ],
   "source": [
    "df.FLAG_MOBIL.value_counts()"
   ]
  },
  {
   "cell_type": "code",
   "execution_count": 70,
   "id": "b2d531b9",
   "metadata": {},
   "outputs": [],
   "source": [
    "df.drop('FLAG_MOBIL',axis=1,inplace=True)"
   ]
  },
  {
   "cell_type": "code",
   "execution_count": null,
   "id": "790ade5a",
   "metadata": {},
   "outputs": [],
   "source": []
  },
  {
   "cell_type": "code",
   "execution_count": null,
   "id": "b0f8c0ce",
   "metadata": {},
   "outputs": [],
   "source": []
  },
  {
   "cell_type": "markdown",
   "id": "0f3e9479",
   "metadata": {},
   "source": [
    "# FLAG_WORK_PHONE"
   ]
  },
  {
   "cell_type": "code",
   "execution_count": 71,
   "id": "2ef6bebd",
   "metadata": {},
   "outputs": [
    {
     "data": {
      "text/plain": [
       "0    469455\n",
       "1    180288\n",
       "Name: FLAG_WORK_PHONE, dtype: int64"
      ]
     },
     "execution_count": 71,
     "metadata": {},
     "output_type": "execute_result"
    }
   ],
   "source": [
    "df.FLAG_WORK_PHONE.value_counts()"
   ]
  },
  {
   "cell_type": "code",
   "execution_count": 72,
   "id": "a7118f26",
   "metadata": {},
   "outputs": [
    {
     "name": "stderr",
     "output_type": "stream",
     "text": [
      "C:\\Users\\abhay\\anaconda3\\lib\\site-packages\\seaborn\\_decorators.py:36: FutureWarning: Pass the following variable as a keyword arg: x. From version 0.12, the only valid positional argument will be `data`, and passing other arguments without an explicit keyword will result in an error or misinterpretation.\n",
      "  warnings.warn(\n"
     ]
    },
    {
     "data": {
      "text/plain": [
       "<AxesSubplot:xlabel='FLAG_WORK_PHONE', ylabel='count'>"
      ]
     },
     "execution_count": 72,
     "metadata": {},
     "output_type": "execute_result"
    },
    {
     "data": {
      "image/png": "[encoded data removed]",
      "text/plain": [
       "<Figure size 640x480 with 1 Axes>"
      ]
     },
     "metadata": {},
     "output_type": "display_data"
    }
   ],
   "source": [
    "sns.countplot(df.FLAG_WORK_PHONE)"
   ]
  },
  {
   "cell_type": "code",
   "execution_count": 73,
   "id": "08a198da",
   "metadata": {},
   "outputs": [
    {
     "data": {
      "text/plain": [
       "2.464761827084764e-49"
      ]
     },
     "execution_count": 73,
     "metadata": {},
     "output_type": "execute_result"
    }
   ],
   "source": [
    "a=pd.crosstab(df.FLAG_WORK_PHONE,df.STATUS)\n",
    "chi2_contingency(a)[1]"
   ]
  },
  {
   "cell_type": "code",
   "execution_count": null,
   "id": "f22cbf8a",
   "metadata": {},
   "outputs": [],
   "source": []
  },
  {
   "cell_type": "code",
   "execution_count": null,
   "id": "1ec14b4b",
   "metadata": {},
   "outputs": [],
   "source": []
  },
  {
   "cell_type": "code",
   "execution_count": null,
   "id": "5df27bc4",
   "metadata": {},
   "outputs": [],
   "source": []
  },
  {
   "cell_type": "markdown",
   "id": "2629210d",
   "metadata": {},
   "source": [
    "# FLAG_PHONE"
   ]
  },
  {
   "cell_type": "code",
   "execution_count": 74,
   "id": "6b8bdd2e",
   "metadata": {},
   "outputs": [
    {
     "data": {
      "text/plain": [
       "0    452433\n",
       "1    197310\n",
       "Name: FLAG_PHONE, dtype: int64"
      ]
     },
     "execution_count": 74,
     "metadata": {},
     "output_type": "execute_result"
    }
   ],
   "source": [
    "df.FLAG_PHONE.value_counts()"
   ]
  },
  {
   "cell_type": "code",
   "execution_count": 75,
   "id": "e5021000",
   "metadata": {},
   "outputs": [
    {
     "name": "stderr",
     "output_type": "stream",
     "text": [
      "C:\\Users\\abhay\\anaconda3\\lib\\site-packages\\seaborn\\_decorators.py:36: FutureWarning: Pass the following variable as a keyword arg: x. From version 0.12, the only valid positional argument will be `data`, and passing other arguments without an explicit keyword will result in an error or misinterpretation.\n",
      "  warnings.warn(\n"
     ]
    },
    {
     "data": {
      "text/plain": [
       "<AxesSubplot:xlabel='FLAG_PHONE', ylabel='count'>"
      ]
     },
     "execution_count": 75,
     "metadata": {},
     "output_type": "execute_result"
    },
    {
     "data": {
      "image/png": "[encoded data removed]",
      "text/plain": [
       "<Figure size 640x480 with 1 Axes>"
      ]
     },
     "metadata": {},
     "output_type": "display_data"
    }
   ],
   "source": [
    "sns.countplot(df.FLAG_PHONE)"
   ]
  },
  {
   "cell_type": "code",
   "execution_count": 76,
   "id": "cdb06442",
   "metadata": {},
   "outputs": [
    {
     "data": {
      "text/plain": [
       "1.152418969736349e-93"
      ]
     },
     "execution_count": 76,
     "metadata": {},
     "output_type": "execute_result"
    }
   ],
   "source": [
    "a=pd.crosstab(df.FLAG_PHONE,df.STATUS)\n",
    "chi2_contingency(a)[1]"
   ]
  },
  {
   "cell_type": "code",
   "execution_count": null,
   "id": "eb755c6f",
   "metadata": {},
   "outputs": [],
   "source": []
  },
  {
   "cell_type": "code",
   "execution_count": null,
   "id": "a2657bda",
   "metadata": {},
   "outputs": [],
   "source": []
  },
  {
   "cell_type": "markdown",
   "id": "f2117f54",
   "metadata": {},
   "source": [
    "# FLAG_EMAIL"
   ]
  },
  {
   "cell_type": "code",
   "execution_count": 77,
   "id": "4847d4f4",
   "metadata": {},
   "outputs": [
    {
     "data": {
      "text/plain": [
       "0    583254\n",
       "1     66489\n",
       "Name: FLAG_EMAIL, dtype: int64"
      ]
     },
     "execution_count": 77,
     "metadata": {},
     "output_type": "execute_result"
    }
   ],
   "source": [
    "df.FLAG_EMAIL.value_counts()"
   ]
  },
  {
   "cell_type": "code",
   "execution_count": 78,
   "id": "24f3dc32",
   "metadata": {},
   "outputs": [
    {
     "name": "stderr",
     "output_type": "stream",
     "text": [
      "C:\\Users\\abhay\\anaconda3\\lib\\site-packages\\seaborn\\_decorators.py:36: FutureWarning: Pass the following variable as a keyword arg: x. From version 0.12, the only valid positional argument will be `data`, and passing other arguments without an explicit keyword will result in an error or misinterpretation.\n",
      "  warnings.warn(\n"
     ]
    },
    {
     "data": {
      "text/plain": [
       "<AxesSubplot:xlabel='FLAG_EMAIL', ylabel='count'>"
      ]
     },
     "execution_count": 78,
     "metadata": {},
     "output_type": "execute_result"
    },
    {
     "data": {
      "image/png": "[encoded data removed]",
      "text/plain": [
       "<Figure size 640x480 with 1 Axes>"
      ]
     },
     "metadata": {},
     "output_type": "display_data"
    }
   ],
   "source": [
    "sns.countplot(df.FLAG_EMAIL)"
   ]
  },
  {
   "cell_type": "code",
   "execution_count": 79,
   "id": "2ecddba7",
   "metadata": {},
   "outputs": [
    {
     "data": {
      "text/plain": [
       "4.608031036384034e-19"
      ]
     },
     "execution_count": 79,
     "metadata": {},
     "output_type": "execute_result"
    }
   ],
   "source": [
    "a=pd.crosstab(df.FLAG_EMAIL,df.STATUS)\n",
    "chi2_contingency(a)[1]"
   ]
  },
  {
   "cell_type": "code",
   "execution_count": null,
   "id": "a066534c",
   "metadata": {},
   "outputs": [],
   "source": []
  },
  {
   "cell_type": "code",
   "execution_count": null,
   "id": "2e8d327c",
   "metadata": {},
   "outputs": [],
   "source": []
  },
  {
   "cell_type": "markdown",
   "id": "5757b15d",
   "metadata": {},
   "source": [
    "# CNT_FAM_MEMBERS"
   ]
  },
  {
   "cell_type": "code",
   "execution_count": 80,
   "id": "19d4acba",
   "metadata": {},
   "outputs": [
    {
     "data": {
      "text/plain": [
       "2.0     338070\n",
       "3.0     131805\n",
       "1.0     103223\n",
       "4.0      66144\n",
       "5.0       8869\n",
       "6.0       1196\n",
       "7.0        273\n",
       "15.0       111\n",
       "9.0         46\n",
       "20.0         6\n",
       "Name: CNT_FAM_MEMBERS, dtype: int64"
      ]
     },
     "execution_count": 80,
     "metadata": {},
     "output_type": "execute_result"
    }
   ],
   "source": [
    "df.CNT_FAM_MEMBERS.value_counts()#ordinal"
   ]
  },
  {
   "cell_type": "code",
   "execution_count": 81,
   "id": "86c0f367",
   "metadata": {},
   "outputs": [
    {
     "data": {
      "text/plain": [
       "10"
      ]
     },
     "execution_count": 81,
     "metadata": {},
     "output_type": "execute_result"
    }
   ],
   "source": [
    "df.CNT_FAM_MEMBERS.nunique()"
   ]
  },
  {
   "cell_type": "code",
   "execution_count": 82,
   "id": "c065e392",
   "metadata": {},
   "outputs": [
    {
     "name": "stderr",
     "output_type": "stream",
     "text": [
      "C:\\Users\\abhay\\anaconda3\\lib\\site-packages\\seaborn\\_decorators.py:36: FutureWarning: Pass the following variable as a keyword arg: x. From version 0.12, the only valid positional argument will be `data`, and passing other arguments without an explicit keyword will result in an error or misinterpretation.\n",
      "  warnings.warn(\n"
     ]
    },
    {
     "data": {
      "text/plain": [
       "<AxesSubplot:xlabel='CNT_FAM_MEMBERS', ylabel='count'>"
      ]
     },
     "execution_count": 82,
     "metadata": {},
     "output_type": "execute_result"
    },
    {
     "data": {
      "image/png": "[encoded data removed]",
      "text/plain": [
       "<Figure size 640x480 with 1 Axes>"
      ]
     },
     "metadata": {},
     "output_type": "display_data"
    }
   ],
   "source": [
    "sns.countplot(df.CNT_FAM_MEMBERS)"
   ]
  },
  {
   "cell_type": "code",
   "execution_count": 83,
   "id": "3edf0def",
   "metadata": {},
   "outputs": [
    {
     "name": "stdout",
     "output_type": "stream",
     "text": [
      "                df        sum_sq  mean_sq        F   PR(>F)\n",
      "STATUS         7.0      20.84348  2.97764  3.39716  0.00125\n",
      "Residual  649735.0  569499.11571  0.87651      NaN      NaN\n"
     ]
    }
   ],
   "source": [
    "model = ols(\"CNT_FAM_MEMBERS~STATUS\", data=df).fit()\n",
    "anova = sm.stats.anova_lm(model,type=2)\n",
    "ano = anova.round(decimals=5)\n",
    "print(ano)"
   ]
  },
  {
   "cell_type": "code",
   "execution_count": null,
   "id": "e2feb96f",
   "metadata": {},
   "outputs": [],
   "source": []
  },
  {
   "cell_type": "code",
   "execution_count": 84,
   "id": "d773acc0",
   "metadata": {},
   "outputs": [
    {
     "data": {
      "text/plain": [
       "C    274364\n",
       "0    243034\n",
       "X    122423\n",
       "1      7619\n",
       "5      1261\n",
       "2       652\n",
       "3       213\n",
       "4       177\n",
       "Name: STATUS, dtype: int64"
      ]
     },
     "execution_count": 84,
     "metadata": {},
     "output_type": "execute_result"
    }
   ],
   "source": [
    "df.STATUS.value_counts()"
   ]
  },
  {
   "cell_type": "code",
   "execution_count": 85,
   "id": "be468398",
   "metadata": {},
   "outputs": [],
   "source": [
    "# replace the value C and X with 0 as it is the same type\n",
    "# 1,2,3,4,5 are classified as 1 because they are the same type\n",
    "# these will be our labels/prediction results for our model"
   ]
  },
  {
   "cell_type": "code",
   "execution_count": 86,
   "id": "23b0ce7b",
   "metadata": {},
   "outputs": [],
   "source": [
    "df.STATUS.replace({'C':0,'X':0},inplace=True)"
   ]
  },
  {
   "cell_type": "code",
   "execution_count": 87,
   "id": "a52ce28c",
   "metadata": {},
   "outputs": [
    {
     "data": {
      "text/plain": [
       "0    396787\n",
       "0    243034\n",
       "1      7619\n",
       "5      1261\n",
       "2       652\n",
       "3       213\n",
       "4       177\n",
       "Name: STATUS, dtype: int64"
      ]
     },
     "execution_count": 87,
     "metadata": {},
     "output_type": "execute_result"
    }
   ],
   "source": [
    "df.STATUS.value_counts()"
   ]
  },
  {
   "cell_type": "code",
   "execution_count": 88,
   "id": "8d25c878",
   "metadata": {},
   "outputs": [],
   "source": [
    "df['STATUS'] = df['STATUS'].astype('int')"
   ]
  },
  {
   "cell_type": "code",
   "execution_count": 89,
   "id": "6eea5c67",
   "metadata": {},
   "outputs": [],
   "source": [
    "df['STATUS'] = df['STATUS'].apply(lambda x:1 if x >= 2 else 0)"
   ]
  },
  {
   "cell_type": "code",
   "execution_count": 90,
   "id": "61e75de9",
   "metadata": {},
   "outputs": [
    {
     "data": {
      "text/plain": [
       "0    0.996456\n",
       "1    0.003544\n",
       "Name: STATUS, dtype: float64"
      ]
     },
     "execution_count": 90,
     "metadata": {},
     "output_type": "execute_result"
    }
   ],
   "source": [
    "df.STATUS.value_counts(normalize=True)"
   ]
  },
  {
   "cell_type": "code",
   "execution_count": null,
   "id": "098d7173",
   "metadata": {},
   "outputs": [],
   "source": []
  },
  {
   "cell_type": "code",
   "execution_count": 91,
   "id": "f4deb723",
   "metadata": {},
   "outputs": [
    {
     "data": {
      "text/html": [
       "<div>\n",
       "<style scoped>\n",
       "    .dataframe tbody tr th:only-of-type {\n",
       "        vertical-align: middle;\n",
       "    }\n",
       "\n",
       "    .dataframe tbody tr th {\n",
       "        vertical-align: top;\n",
       "    }\n",
       "\n",
       "    .dataframe thead th {\n",
       "        text-align: right;\n",
       "    }\n",
       "</style>\n",
       "<table border=\"1\" class=\"dataframe\">\n",
       "  <thead>\n",
       "    <tr style=\"text-align: right;\">\n",
       "      <th></th>\n",
       "      <th>ID</th>\n",
       "      <th>CODE_GENDER</th>\n",
       "      <th>FLAG_OWN_REALTY</th>\n",
       "      <th>CNT_CHILDREN</th>\n",
       "      <th>AMT_INCOME_TOTAL</th>\n",
       "      <th>NAME_INCOME_TYPE</th>\n",
       "      <th>NAME_EDUCATION_TYPE</th>\n",
       "      <th>NAME_FAMILY_STATUS</th>\n",
       "      <th>NAME_HOUSING_TYPE</th>\n",
       "      <th>DAYS_BIRTH</th>\n",
       "      <th>DAYS_EMPLOYED</th>\n",
       "      <th>FLAG_WORK_PHONE</th>\n",
       "      <th>FLAG_PHONE</th>\n",
       "      <th>FLAG_EMAIL</th>\n",
       "      <th>CNT_FAM_MEMBERS</th>\n",
       "      <th>STATUS</th>\n",
       "    </tr>\n",
       "  </thead>\n",
       "  <tbody>\n",
       "    <tr>\n",
       "      <th>0</th>\n",
       "      <td>5008804</td>\n",
       "      <td>M</td>\n",
       "      <td>Y</td>\n",
       "      <td>0.0</td>\n",
       "      <td>380250.0</td>\n",
       "      <td>Working</td>\n",
       "      <td>Higher education</td>\n",
       "      <td>Civil marriage</td>\n",
       "      <td>Rented apartment</td>\n",
       "      <td>-12005</td>\n",
       "      <td>-4542.0</td>\n",
       "      <td>1</td>\n",
       "      <td>0</td>\n",
       "      <td>0</td>\n",
       "      <td>2.0</td>\n",
       "      <td>0</td>\n",
       "    </tr>\n",
       "    <tr>\n",
       "      <th>0</th>\n",
       "      <td>5008804</td>\n",
       "      <td>M</td>\n",
       "      <td>Y</td>\n",
       "      <td>0.0</td>\n",
       "      <td>380250.0</td>\n",
       "      <td>Working</td>\n",
       "      <td>Higher education</td>\n",
       "      <td>Civil marriage</td>\n",
       "      <td>Rented apartment</td>\n",
       "      <td>-12005</td>\n",
       "      <td>-4542.0</td>\n",
       "      <td>1</td>\n",
       "      <td>0</td>\n",
       "      <td>0</td>\n",
       "      <td>2.0</td>\n",
       "      <td>0</td>\n",
       "    </tr>\n",
       "    <tr>\n",
       "      <th>0</th>\n",
       "      <td>5008804</td>\n",
       "      <td>M</td>\n",
       "      <td>Y</td>\n",
       "      <td>0.0</td>\n",
       "      <td>380250.0</td>\n",
       "      <td>Working</td>\n",
       "      <td>Higher education</td>\n",
       "      <td>Civil marriage</td>\n",
       "      <td>Rented apartment</td>\n",
       "      <td>-12005</td>\n",
       "      <td>-4542.0</td>\n",
       "      <td>1</td>\n",
       "      <td>0</td>\n",
       "      <td>0</td>\n",
       "      <td>2.0</td>\n",
       "      <td>0</td>\n",
       "    </tr>\n",
       "    <tr>\n",
       "      <th>0</th>\n",
       "      <td>5008804</td>\n",
       "      <td>M</td>\n",
       "      <td>Y</td>\n",
       "      <td>0.0</td>\n",
       "      <td>380250.0</td>\n",
       "      <td>Working</td>\n",
       "      <td>Higher education</td>\n",
       "      <td>Civil marriage</td>\n",
       "      <td>Rented apartment</td>\n",
       "      <td>-12005</td>\n",
       "      <td>-4542.0</td>\n",
       "      <td>1</td>\n",
       "      <td>0</td>\n",
       "      <td>0</td>\n",
       "      <td>2.0</td>\n",
       "      <td>0</td>\n",
       "    </tr>\n",
       "    <tr>\n",
       "      <th>0</th>\n",
       "      <td>5008804</td>\n",
       "      <td>M</td>\n",
       "      <td>Y</td>\n",
       "      <td>0.0</td>\n",
       "      <td>380250.0</td>\n",
       "      <td>Working</td>\n",
       "      <td>Higher education</td>\n",
       "      <td>Civil marriage</td>\n",
       "      <td>Rented apartment</td>\n",
       "      <td>-12005</td>\n",
       "      <td>-4542.0</td>\n",
       "      <td>1</td>\n",
       "      <td>0</td>\n",
       "      <td>0</td>\n",
       "      <td>2.0</td>\n",
       "      <td>0</td>\n",
       "    </tr>\n",
       "  </tbody>\n",
       "</table>\n",
       "</div>"
      ],
      "text/plain": [
       "        ID CODE_GENDER FLAG_OWN_REALTY  CNT_CHILDREN  AMT_INCOME_TOTAL  \\\n",
       "0  5008804           M               Y           0.0          380250.0   \n",
       "0  5008804           M               Y           0.0          380250.0   \n",
       "0  5008804           M               Y           0.0          380250.0   \n",
       "0  5008804           M               Y           0.0          380250.0   \n",
       "0  5008804           M               Y           0.0          380250.0   \n",
       "\n",
       "  NAME_INCOME_TYPE NAME_EDUCATION_TYPE NAME_FAMILY_STATUS NAME_HOUSING_TYPE  \\\n",
       "0          Working    Higher education     Civil marriage  Rented apartment   \n",
       "0          Working    Higher education     Civil marriage  Rented apartment   \n",
       "0          Working    Higher education     Civil marriage  Rented apartment   \n",
       "0          Working    Higher education     Civil marriage  Rented apartment   \n",
       "0          Working    Higher education     Civil marriage  Rented apartment   \n",
       "\n",
       "   DAYS_BIRTH  DAYS_EMPLOYED  FLAG_WORK_PHONE  FLAG_PHONE  FLAG_EMAIL  \\\n",
       "0      -12005        -4542.0                1           0           0   \n",
       "0      -12005        -4542.0                1           0           0   \n",
       "0      -12005        -4542.0                1           0           0   \n",
       "0      -12005        -4542.0                1           0           0   \n",
       "0      -12005        -4542.0                1           0           0   \n",
       "\n",
       "   CNT_FAM_MEMBERS  STATUS  \n",
       "0              2.0       0  \n",
       "0              2.0       0  \n",
       "0              2.0       0  \n",
       "0              2.0       0  \n",
       "0              2.0       0  "
      ]
     },
     "execution_count": 91,
     "metadata": {},
     "output_type": "execute_result"
    }
   ],
   "source": [
    "df.head()"
   ]
  },
  {
   "cell_type": "code",
   "execution_count": null,
   "id": "759ba32a",
   "metadata": {},
   "outputs": [],
   "source": []
  },
  {
   "cell_type": "code",
   "execution_count": 92,
   "id": "d53ea7d1",
   "metadata": {},
   "outputs": [],
   "source": [
    "#we are grouping the data in crecord by ID so that we can join it with app"
   ]
  },
  {
   "cell_type": "code",
   "execution_count": null,
   "id": "365cb78e",
   "metadata": {},
   "outputs": [],
   "source": []
  },
  {
   "cell_type": "code",
   "execution_count": null,
   "id": "0600a1fb",
   "metadata": {},
   "outputs": [],
   "source": []
  },
  {
   "cell_type": "code",
   "execution_count": null,
   "id": "24e9eaf7",
   "metadata": {},
   "outputs": [],
   "source": []
  },
  {
   "cell_type": "code",
   "execution_count": null,
   "id": "c013d394",
   "metadata": {},
   "outputs": [],
   "source": []
  },
  {
   "cell_type": "code",
   "execution_count": 93,
   "id": "1ee4847c",
   "metadata": {},
   "outputs": [],
   "source": [
    "#Label encoder"
   ]
  },
  {
   "cell_type": "code",
   "execution_count": 94,
   "id": "3bbb06ff",
   "metadata": {},
   "outputs": [
    {
     "data": {
      "text/html": [
       "<div>\n",
       "<style scoped>\n",
       "    .dataframe tbody tr th:only-of-type {\n",
       "        vertical-align: middle;\n",
       "    }\n",
       "\n",
       "    .dataframe tbody tr th {\n",
       "        vertical-align: top;\n",
       "    }\n",
       "\n",
       "    .dataframe thead th {\n",
       "        text-align: right;\n",
       "    }\n",
       "</style>\n",
       "<table border=\"1\" class=\"dataframe\">\n",
       "  <thead>\n",
       "    <tr style=\"text-align: right;\">\n",
       "      <th></th>\n",
       "      <th>ID</th>\n",
       "      <th>CODE_GENDER</th>\n",
       "      <th>FLAG_OWN_REALTY</th>\n",
       "      <th>CNT_CHILDREN</th>\n",
       "      <th>AMT_INCOME_TOTAL</th>\n",
       "      <th>NAME_INCOME_TYPE</th>\n",
       "      <th>NAME_EDUCATION_TYPE</th>\n",
       "      <th>NAME_FAMILY_STATUS</th>\n",
       "      <th>NAME_HOUSING_TYPE</th>\n",
       "      <th>DAYS_BIRTH</th>\n",
       "      <th>DAYS_EMPLOYED</th>\n",
       "      <th>FLAG_WORK_PHONE</th>\n",
       "      <th>FLAG_PHONE</th>\n",
       "      <th>FLAG_EMAIL</th>\n",
       "      <th>CNT_FAM_MEMBERS</th>\n",
       "      <th>STATUS</th>\n",
       "    </tr>\n",
       "  </thead>\n",
       "  <tbody>\n",
       "    <tr>\n",
       "      <th>0</th>\n",
       "      <td>5008804</td>\n",
       "      <td>M</td>\n",
       "      <td>Y</td>\n",
       "      <td>0.0</td>\n",
       "      <td>380250.0</td>\n",
       "      <td>Working</td>\n",
       "      <td>Higher education</td>\n",
       "      <td>Civil marriage</td>\n",
       "      <td>Rented apartment</td>\n",
       "      <td>-12005</td>\n",
       "      <td>-4542.0</td>\n",
       "      <td>1</td>\n",
       "      <td>0</td>\n",
       "      <td>0</td>\n",
       "      <td>2.0</td>\n",
       "      <td>0</td>\n",
       "    </tr>\n",
       "    <tr>\n",
       "      <th>0</th>\n",
       "      <td>5008804</td>\n",
       "      <td>M</td>\n",
       "      <td>Y</td>\n",
       "      <td>0.0</td>\n",
       "      <td>380250.0</td>\n",
       "      <td>Working</td>\n",
       "      <td>Higher education</td>\n",
       "      <td>Civil marriage</td>\n",
       "      <td>Rented apartment</td>\n",
       "      <td>-12005</td>\n",
       "      <td>-4542.0</td>\n",
       "      <td>1</td>\n",
       "      <td>0</td>\n",
       "      <td>0</td>\n",
       "      <td>2.0</td>\n",
       "      <td>0</td>\n",
       "    </tr>\n",
       "    <tr>\n",
       "      <th>0</th>\n",
       "      <td>5008804</td>\n",
       "      <td>M</td>\n",
       "      <td>Y</td>\n",
       "      <td>0.0</td>\n",
       "      <td>380250.0</td>\n",
       "      <td>Working</td>\n",
       "      <td>Higher education</td>\n",
       "      <td>Civil marriage</td>\n",
       "      <td>Rented apartment</td>\n",
       "      <td>-12005</td>\n",
       "      <td>-4542.0</td>\n",
       "      <td>1</td>\n",
       "      <td>0</td>\n",
       "      <td>0</td>\n",
       "      <td>2.0</td>\n",
       "      <td>0</td>\n",
       "    </tr>\n",
       "    <tr>\n",
       "      <th>0</th>\n",
       "      <td>5008804</td>\n",
       "      <td>M</td>\n",
       "      <td>Y</td>\n",
       "      <td>0.0</td>\n",
       "      <td>380250.0</td>\n",
       "      <td>Working</td>\n",
       "      <td>Higher education</td>\n",
       "      <td>Civil marriage</td>\n",
       "      <td>Rented apartment</td>\n",
       "      <td>-12005</td>\n",
       "      <td>-4542.0</td>\n",
       "      <td>1</td>\n",
       "      <td>0</td>\n",
       "      <td>0</td>\n",
       "      <td>2.0</td>\n",
       "      <td>0</td>\n",
       "    </tr>\n",
       "    <tr>\n",
       "      <th>0</th>\n",
       "      <td>5008804</td>\n",
       "      <td>M</td>\n",
       "      <td>Y</td>\n",
       "      <td>0.0</td>\n",
       "      <td>380250.0</td>\n",
       "      <td>Working</td>\n",
       "      <td>Higher education</td>\n",
       "      <td>Civil marriage</td>\n",
       "      <td>Rented apartment</td>\n",
       "      <td>-12005</td>\n",
       "      <td>-4542.0</td>\n",
       "      <td>1</td>\n",
       "      <td>0</td>\n",
       "      <td>0</td>\n",
       "      <td>2.0</td>\n",
       "      <td>0</td>\n",
       "    </tr>\n",
       "  </tbody>\n",
       "</table>\n",
       "</div>"
      ],
      "text/plain": [
       "        ID CODE_GENDER FLAG_OWN_REALTY  CNT_CHILDREN  AMT_INCOME_TOTAL  \\\n",
       "0  5008804           M               Y           0.0          380250.0   \n",
       "0  5008804           M               Y           0.0          380250.0   \n",
       "0  5008804           M               Y           0.0          380250.0   \n",
       "0  5008804           M               Y           0.0          380250.0   \n",
       "0  5008804           M               Y           0.0          380250.0   \n",
       "\n",
       "  NAME_INCOME_TYPE NAME_EDUCATION_TYPE NAME_FAMILY_STATUS NAME_HOUSING_TYPE  \\\n",
       "0          Working    Higher education     Civil marriage  Rented apartment   \n",
       "0          Working    Higher education     Civil marriage  Rented apartment   \n",
       "0          Working    Higher education     Civil marriage  Rented apartment   \n",
       "0          Working    Higher education     Civil marriage  Rented apartment   \n",
       "0          Working    Higher education     Civil marriage  Rented apartment   \n",
       "\n",
       "   DAYS_BIRTH  DAYS_EMPLOYED  FLAG_WORK_PHONE  FLAG_PHONE  FLAG_EMAIL  \\\n",
       "0      -12005        -4542.0                1           0           0   \n",
       "0      -12005        -4542.0                1           0           0   \n",
       "0      -12005        -4542.0                1           0           0   \n",
       "0      -12005        -4542.0                1           0           0   \n",
       "0      -12005        -4542.0                1           0           0   \n",
       "\n",
       "   CNT_FAM_MEMBERS  STATUS  \n",
       "0              2.0       0  \n",
       "0              2.0       0  \n",
       "0              2.0       0  \n",
       "0              2.0       0  \n",
       "0              2.0       0  "
      ]
     },
     "execution_count": 94,
     "metadata": {},
     "output_type": "execute_result"
    }
   ],
   "source": [
    "df.head()"
   ]
  },
  {
   "cell_type": "code",
   "execution_count": 95,
   "id": "060330b0",
   "metadata": {},
   "outputs": [],
   "source": [
    "from sklearn.preprocessing import LabelEncoder"
   ]
  },
  {
   "cell_type": "code",
   "execution_count": 96,
   "id": "57019397",
   "metadata": {},
   "outputs": [],
   "source": [
    "le=LabelEncoder()\n",
    "df.CODE_GENDER=le.fit_transform(df.CODE_GENDER)"
   ]
  },
  {
   "cell_type": "code",
   "execution_count": 97,
   "id": "04b4624e",
   "metadata": {},
   "outputs": [],
   "source": [
    "df.FLAG_OWN_REALTY=le.fit_transform(df.FLAG_OWN_REALTY)"
   ]
  },
  {
   "cell_type": "code",
   "execution_count": null,
   "id": "378a90eb",
   "metadata": {},
   "outputs": [],
   "source": []
  },
  {
   "cell_type": "code",
   "execution_count": null,
   "id": "02737c1a",
   "metadata": {},
   "outputs": [],
   "source": []
  },
  {
   "cell_type": "code",
   "execution_count": null,
   "id": "f2ff05e1",
   "metadata": {},
   "outputs": [],
   "source": []
  },
  {
   "cell_type": "code",
   "execution_count": 98,
   "id": "ea9dcd83",
   "metadata": {},
   "outputs": [],
   "source": [
    "d=pd.get_dummies(df.NAME_INCOME_TYPE,drop_first=True)"
   ]
  },
  {
   "cell_type": "code",
   "execution_count": 99,
   "id": "0002e333",
   "metadata": {},
   "outputs": [],
   "source": [
    "df=pd.concat([df,d],axis=1)"
   ]
  },
  {
   "cell_type": "code",
   "execution_count": 100,
   "id": "c871106a",
   "metadata": {},
   "outputs": [],
   "source": [
    "df.drop('NAME_INCOME_TYPE',axis=1,inplace=True)"
   ]
  },
  {
   "cell_type": "code",
   "execution_count": 101,
   "id": "c1fdfe92",
   "metadata": {},
   "outputs": [
    {
     "data": {
      "text/html": [
       "<div>\n",
       "<style scoped>\n",
       "    .dataframe tbody tr th:only-of-type {\n",
       "        vertical-align: middle;\n",
       "    }\n",
       "\n",
       "    .dataframe tbody tr th {\n",
       "        vertical-align: top;\n",
       "    }\n",
       "\n",
       "    .dataframe thead th {\n",
       "        text-align: right;\n",
       "    }\n",
       "</style>\n",
       "<table border=\"1\" class=\"dataframe\">\n",
       "  <thead>\n",
       "    <tr style=\"text-align: right;\">\n",
       "      <th></th>\n",
       "      <th>ID</th>\n",
       "      <th>CODE_GENDER</th>\n",
       "      <th>FLAG_OWN_REALTY</th>\n",
       "      <th>CNT_CHILDREN</th>\n",
       "      <th>AMT_INCOME_TOTAL</th>\n",
       "      <th>NAME_EDUCATION_TYPE</th>\n",
       "      <th>NAME_FAMILY_STATUS</th>\n",
       "      <th>NAME_HOUSING_TYPE</th>\n",
       "      <th>DAYS_BIRTH</th>\n",
       "      <th>DAYS_EMPLOYED</th>\n",
       "      <th>FLAG_WORK_PHONE</th>\n",
       "      <th>FLAG_PHONE</th>\n",
       "      <th>FLAG_EMAIL</th>\n",
       "      <th>CNT_FAM_MEMBERS</th>\n",
       "      <th>STATUS</th>\n",
       "      <th>Pensioner</th>\n",
       "      <th>State servant</th>\n",
       "      <th>Student</th>\n",
       "      <th>Working</th>\n",
       "    </tr>\n",
       "  </thead>\n",
       "  <tbody>\n",
       "    <tr>\n",
       "      <th>0</th>\n",
       "      <td>5008804</td>\n",
       "      <td>1</td>\n",
       "      <td>1</td>\n",
       "      <td>0.0</td>\n",
       "      <td>380250.0</td>\n",
       "      <td>Higher education</td>\n",
       "      <td>Civil marriage</td>\n",
       "      <td>Rented apartment</td>\n",
       "      <td>-12005</td>\n",
       "      <td>-4542.0</td>\n",
       "      <td>1</td>\n",
       "      <td>0</td>\n",
       "      <td>0</td>\n",
       "      <td>2.0</td>\n",
       "      <td>0</td>\n",
       "      <td>0</td>\n",
       "      <td>0</td>\n",
       "      <td>0</td>\n",
       "      <td>1</td>\n",
       "    </tr>\n",
       "    <tr>\n",
       "      <th>0</th>\n",
       "      <td>5008804</td>\n",
       "      <td>1</td>\n",
       "      <td>1</td>\n",
       "      <td>0.0</td>\n",
       "      <td>380250.0</td>\n",
       "      <td>Higher education</td>\n",
       "      <td>Civil marriage</td>\n",
       "      <td>Rented apartment</td>\n",
       "      <td>-12005</td>\n",
       "      <td>-4542.0</td>\n",
       "      <td>1</td>\n",
       "      <td>0</td>\n",
       "      <td>0</td>\n",
       "      <td>2.0</td>\n",
       "      <td>0</td>\n",
       "      <td>0</td>\n",
       "      <td>0</td>\n",
       "      <td>0</td>\n",
       "      <td>1</td>\n",
       "    </tr>\n",
       "    <tr>\n",
       "      <th>0</th>\n",
       "      <td>5008804</td>\n",
       "      <td>1</td>\n",
       "      <td>1</td>\n",
       "      <td>0.0</td>\n",
       "      <td>380250.0</td>\n",
       "      <td>Higher education</td>\n",
       "      <td>Civil marriage</td>\n",
       "      <td>Rented apartment</td>\n",
       "      <td>-12005</td>\n",
       "      <td>-4542.0</td>\n",
       "      <td>1</td>\n",
       "      <td>0</td>\n",
       "      <td>0</td>\n",
       "      <td>2.0</td>\n",
       "      <td>0</td>\n",
       "      <td>0</td>\n",
       "      <td>0</td>\n",
       "      <td>0</td>\n",
       "      <td>1</td>\n",
       "    </tr>\n",
       "    <tr>\n",
       "      <th>0</th>\n",
       "      <td>5008804</td>\n",
       "      <td>1</td>\n",
       "      <td>1</td>\n",
       "      <td>0.0</td>\n",
       "      <td>380250.0</td>\n",
       "      <td>Higher education</td>\n",
       "      <td>Civil marriage</td>\n",
       "      <td>Rented apartment</td>\n",
       "      <td>-12005</td>\n",
       "      <td>-4542.0</td>\n",
       "      <td>1</td>\n",
       "      <td>0</td>\n",
       "      <td>0</td>\n",
       "      <td>2.0</td>\n",
       "      <td>0</td>\n",
       "      <td>0</td>\n",
       "      <td>0</td>\n",
       "      <td>0</td>\n",
       "      <td>1</td>\n",
       "    </tr>\n",
       "    <tr>\n",
       "      <th>0</th>\n",
       "      <td>5008804</td>\n",
       "      <td>1</td>\n",
       "      <td>1</td>\n",
       "      <td>0.0</td>\n",
       "      <td>380250.0</td>\n",
       "      <td>Higher education</td>\n",
       "      <td>Civil marriage</td>\n",
       "      <td>Rented apartment</td>\n",
       "      <td>-12005</td>\n",
       "      <td>-4542.0</td>\n",
       "      <td>1</td>\n",
       "      <td>0</td>\n",
       "      <td>0</td>\n",
       "      <td>2.0</td>\n",
       "      <td>0</td>\n",
       "      <td>0</td>\n",
       "      <td>0</td>\n",
       "      <td>0</td>\n",
       "      <td>1</td>\n",
       "    </tr>\n",
       "  </tbody>\n",
       "</table>\n",
       "</div>"
      ],
      "text/plain": [
       "        ID  CODE_GENDER  FLAG_OWN_REALTY  CNT_CHILDREN  AMT_INCOME_TOTAL  \\\n",
       "0  5008804            1                1           0.0          380250.0   \n",
       "0  5008804            1                1           0.0          380250.0   \n",
       "0  5008804            1                1           0.0          380250.0   \n",
       "0  5008804            1                1           0.0          380250.0   \n",
       "0  5008804            1                1           0.0          380250.0   \n",
       "\n",
       "  NAME_EDUCATION_TYPE NAME_FAMILY_STATUS NAME_HOUSING_TYPE  DAYS_BIRTH  \\\n",
       "0    Higher education     Civil marriage  Rented apartment      -12005   \n",
       "0    Higher education     Civil marriage  Rented apartment      -12005   \n",
       "0    Higher education     Civil marriage  Rented apartment      -12005   \n",
       "0    Higher education     Civil marriage  Rented apartment      -12005   \n",
       "0    Higher education     Civil marriage  Rented apartment      -12005   \n",
       "\n",
       "   DAYS_EMPLOYED  FLAG_WORK_PHONE  FLAG_PHONE  FLAG_EMAIL  CNT_FAM_MEMBERS  \\\n",
       "0        -4542.0                1           0           0              2.0   \n",
       "0        -4542.0                1           0           0              2.0   \n",
       "0        -4542.0                1           0           0              2.0   \n",
       "0        -4542.0                1           0           0              2.0   \n",
       "0        -4542.0                1           0           0              2.0   \n",
       "\n",
       "   STATUS  Pensioner  State servant  Student  Working  \n",
       "0       0          0              0        0        1  \n",
       "0       0          0              0        0        1  \n",
       "0       0          0              0        0        1  \n",
       "0       0          0              0        0        1  \n",
       "0       0          0              0        0        1  "
      ]
     },
     "execution_count": 101,
     "metadata": {},
     "output_type": "execute_result"
    }
   ],
   "source": [
    "df.head()"
   ]
  },
  {
   "cell_type": "code",
   "execution_count": null,
   "id": "1dae8b34",
   "metadata": {},
   "outputs": [],
   "source": []
  },
  {
   "cell_type": "code",
   "execution_count": 103,
   "id": "a79a7b43",
   "metadata": {},
   "outputs": [],
   "source": [
    "d=pd.get_dummies(df.NAME_FAMILY_STATUS,drop_first=True)"
   ]
  },
  {
   "cell_type": "code",
   "execution_count": 105,
   "id": "1fff99d7",
   "metadata": {},
   "outputs": [],
   "source": [
    "\n",
    "df=pd.concat([df,d],axis=1)"
   ]
  },
  {
   "cell_type": "code",
   "execution_count": 106,
   "id": "8a83e7b0",
   "metadata": {},
   "outputs": [
    {
     "data": {
      "text/html": [
       "<div>\n",
       "<style scoped>\n",
       "    .dataframe tbody tr th:only-of-type {\n",
       "        vertical-align: middle;\n",
       "    }\n",
       "\n",
       "    .dataframe tbody tr th {\n",
       "        vertical-align: top;\n",
       "    }\n",
       "\n",
       "    .dataframe thead th {\n",
       "        text-align: right;\n",
       "    }\n",
       "</style>\n",
       "<table border=\"1\" class=\"dataframe\">\n",
       "  <thead>\n",
       "    <tr style=\"text-align: right;\">\n",
       "      <th></th>\n",
       "      <th>ID</th>\n",
       "      <th>CODE_GENDER</th>\n",
       "      <th>FLAG_OWN_REALTY</th>\n",
       "      <th>CNT_CHILDREN</th>\n",
       "      <th>AMT_INCOME_TOTAL</th>\n",
       "      <th>NAME_EDUCATION_TYPE</th>\n",
       "      <th>NAME_HOUSING_TYPE</th>\n",
       "      <th>DAYS_BIRTH</th>\n",
       "      <th>DAYS_EMPLOYED</th>\n",
       "      <th>FLAG_WORK_PHONE</th>\n",
       "      <th>...</th>\n",
       "      <th>CNT_FAM_MEMBERS</th>\n",
       "      <th>STATUS</th>\n",
       "      <th>Pensioner</th>\n",
       "      <th>State servant</th>\n",
       "      <th>Student</th>\n",
       "      <th>Working</th>\n",
       "      <th>Married</th>\n",
       "      <th>Separated</th>\n",
       "      <th>Single / not married</th>\n",
       "      <th>Widow</th>\n",
       "    </tr>\n",
       "  </thead>\n",
       "  <tbody>\n",
       "    <tr>\n",
       "      <th>0</th>\n",
       "      <td>5008804</td>\n",
       "      <td>1</td>\n",
       "      <td>1</td>\n",
       "      <td>0.0</td>\n",
       "      <td>380250.0</td>\n",
       "      <td>Higher education</td>\n",
       "      <td>Rented apartment</td>\n",
       "      <td>-12005</td>\n",
       "      <td>-4542.0</td>\n",
       "      <td>1</td>\n",
       "      <td>...</td>\n",
       "      <td>2.0</td>\n",
       "      <td>0</td>\n",
       "      <td>0</td>\n",
       "      <td>0</td>\n",
       "      <td>0</td>\n",
       "      <td>1</td>\n",
       "      <td>0</td>\n",
       "      <td>0</td>\n",
       "      <td>0</td>\n",
       "      <td>0</td>\n",
       "    </tr>\n",
       "    <tr>\n",
       "      <th>0</th>\n",
       "      <td>5008804</td>\n",
       "      <td>1</td>\n",
       "      <td>1</td>\n",
       "      <td>0.0</td>\n",
       "      <td>380250.0</td>\n",
       "      <td>Higher education</td>\n",
       "      <td>Rented apartment</td>\n",
       "      <td>-12005</td>\n",
       "      <td>-4542.0</td>\n",
       "      <td>1</td>\n",
       "      <td>...</td>\n",
       "      <td>2.0</td>\n",
       "      <td>0</td>\n",
       "      <td>0</td>\n",
       "      <td>0</td>\n",
       "      <td>0</td>\n",
       "      <td>1</td>\n",
       "      <td>0</td>\n",
       "      <td>0</td>\n",
       "      <td>0</td>\n",
       "      <td>0</td>\n",
       "    </tr>\n",
       "    <tr>\n",
       "      <th>0</th>\n",
       "      <td>5008804</td>\n",
       "      <td>1</td>\n",
       "      <td>1</td>\n",
       "      <td>0.0</td>\n",
       "      <td>380250.0</td>\n",
       "      <td>Higher education</td>\n",
       "      <td>Rented apartment</td>\n",
       "      <td>-12005</td>\n",
       "      <td>-4542.0</td>\n",
       "      <td>1</td>\n",
       "      <td>...</td>\n",
       "      <td>2.0</td>\n",
       "      <td>0</td>\n",
       "      <td>0</td>\n",
       "      <td>0</td>\n",
       "      <td>0</td>\n",
       "      <td>1</td>\n",
       "      <td>0</td>\n",
       "      <td>0</td>\n",
       "      <td>0</td>\n",
       "      <td>0</td>\n",
       "    </tr>\n",
       "    <tr>\n",
       "      <th>0</th>\n",
       "      <td>5008804</td>\n",
       "      <td>1</td>\n",
       "      <td>1</td>\n",
       "      <td>0.0</td>\n",
       "      <td>380250.0</td>\n",
       "      <td>Higher education</td>\n",
       "      <td>Rented apartment</td>\n",
       "      <td>-12005</td>\n",
       "      <td>-4542.0</td>\n",
       "      <td>1</td>\n",
       "      <td>...</td>\n",
       "      <td>2.0</td>\n",
       "      <td>0</td>\n",
       "      <td>0</td>\n",
       "      <td>0</td>\n",
       "      <td>0</td>\n",
       "      <td>1</td>\n",
       "      <td>0</td>\n",
       "      <td>0</td>\n",
       "      <td>0</td>\n",
       "      <td>0</td>\n",
       "    </tr>\n",
       "    <tr>\n",
       "      <th>0</th>\n",
       "      <td>5008804</td>\n",
       "      <td>1</td>\n",
       "      <td>1</td>\n",
       "      <td>0.0</td>\n",
       "      <td>380250.0</td>\n",
       "      <td>Higher education</td>\n",
       "      <td>Rented apartment</td>\n",
       "      <td>-12005</td>\n",
       "      <td>-4542.0</td>\n",
       "      <td>1</td>\n",
       "      <td>...</td>\n",
       "      <td>2.0</td>\n",
       "      <td>0</td>\n",
       "      <td>0</td>\n",
       "      <td>0</td>\n",
       "      <td>0</td>\n",
       "      <td>1</td>\n",
       "      <td>0</td>\n",
       "      <td>0</td>\n",
       "      <td>0</td>\n",
       "      <td>0</td>\n",
       "    </tr>\n",
       "  </tbody>\n",
       "</table>\n",
       "<p>5 rows × 22 columns</p>\n",
       "</div>"
      ],
      "text/plain": [
       "        ID  CODE_GENDER  FLAG_OWN_REALTY  CNT_CHILDREN  AMT_INCOME_TOTAL  \\\n",
       "0  5008804            1                1           0.0          380250.0   \n",
       "0  5008804            1                1           0.0          380250.0   \n",
       "0  5008804            1                1           0.0          380250.0   \n",
       "0  5008804            1                1           0.0          380250.0   \n",
       "0  5008804            1                1           0.0          380250.0   \n",
       "\n",
       "  NAME_EDUCATION_TYPE NAME_HOUSING_TYPE  DAYS_BIRTH  DAYS_EMPLOYED  \\\n",
       "0    Higher education  Rented apartment      -12005        -4542.0   \n",
       "0    Higher education  Rented apartment      -12005        -4542.0   \n",
       "0    Higher education  Rented apartment      -12005        -4542.0   \n",
       "0    Higher education  Rented apartment      -12005        -4542.0   \n",
       "0    Higher education  Rented apartment      -12005        -4542.0   \n",
       "\n",
       "   FLAG_WORK_PHONE  ...  CNT_FAM_MEMBERS  STATUS  Pensioner  State servant  \\\n",
       "0                1  ...              2.0       0          0              0   \n",
       "0                1  ...              2.0       0          0              0   \n",
       "0                1  ...              2.0       0          0              0   \n",
       "0                1  ...              2.0       0          0              0   \n",
       "0                1  ...              2.0       0          0              0   \n",
       "\n",
       "   Student  Working  Married  Separated  Single / not married  Widow  \n",
       "0        0        1        0          0                     0      0  \n",
       "0        0        1        0          0                     0      0  \n",
       "0        0        1        0          0                     0      0  \n",
       "0        0        1        0          0                     0      0  \n",
       "0        0        1        0          0                     0      0  \n",
       "\n",
       "[5 rows x 22 columns]"
      ]
     },
     "execution_count": 106,
     "metadata": {},
     "output_type": "execute_result"
    }
   ],
   "source": [
    "\n",
    "df.drop('NAME_FAMILY_STATUS',axis=1,inplace=True)\n",
    "df.head()"
   ]
  },
  {
   "cell_type": "code",
   "execution_count": null,
   "id": "085a1b21",
   "metadata": {},
   "outputs": [],
   "source": []
  },
  {
   "cell_type": "code",
   "execution_count": 108,
   "id": "de9e2c33",
   "metadata": {},
   "outputs": [
    {
     "data": {
      "text/html": [
       "<div>\n",
       "<style scoped>\n",
       "    .dataframe tbody tr th:only-of-type {\n",
       "        vertical-align: middle;\n",
       "    }\n",
       "\n",
       "    .dataframe tbody tr th {\n",
       "        vertical-align: top;\n",
       "    }\n",
       "\n",
       "    .dataframe thead th {\n",
       "        text-align: right;\n",
       "    }\n",
       "</style>\n",
       "<table border=\"1\" class=\"dataframe\">\n",
       "  <thead>\n",
       "    <tr style=\"text-align: right;\">\n",
       "      <th></th>\n",
       "      <th>ID</th>\n",
       "      <th>CODE_GENDER</th>\n",
       "      <th>FLAG_OWN_REALTY</th>\n",
       "      <th>CNT_CHILDREN</th>\n",
       "      <th>AMT_INCOME_TOTAL</th>\n",
       "      <th>NAME_EDUCATION_TYPE</th>\n",
       "      <th>DAYS_BIRTH</th>\n",
       "      <th>DAYS_EMPLOYED</th>\n",
       "      <th>FLAG_WORK_PHONE</th>\n",
       "      <th>FLAG_PHONE</th>\n",
       "      <th>...</th>\n",
       "      <th>Working</th>\n",
       "      <th>Married</th>\n",
       "      <th>Separated</th>\n",
       "      <th>Single / not married</th>\n",
       "      <th>Widow</th>\n",
       "      <th>House / apartment</th>\n",
       "      <th>Municipal apartment</th>\n",
       "      <th>Office apartment</th>\n",
       "      <th>Rented apartment</th>\n",
       "      <th>With parents</th>\n",
       "    </tr>\n",
       "  </thead>\n",
       "  <tbody>\n",
       "    <tr>\n",
       "      <th>0</th>\n",
       "      <td>5008804</td>\n",
       "      <td>1</td>\n",
       "      <td>1</td>\n",
       "      <td>0.0</td>\n",
       "      <td>380250.0</td>\n",
       "      <td>Higher education</td>\n",
       "      <td>-12005</td>\n",
       "      <td>-4542.0</td>\n",
       "      <td>1</td>\n",
       "      <td>0</td>\n",
       "      <td>...</td>\n",
       "      <td>1</td>\n",
       "      <td>0</td>\n",
       "      <td>0</td>\n",
       "      <td>0</td>\n",
       "      <td>0</td>\n",
       "      <td>0</td>\n",
       "      <td>0</td>\n",
       "      <td>0</td>\n",
       "      <td>1</td>\n",
       "      <td>0</td>\n",
       "    </tr>\n",
       "    <tr>\n",
       "      <th>0</th>\n",
       "      <td>5008804</td>\n",
       "      <td>1</td>\n",
       "      <td>1</td>\n",
       "      <td>0.0</td>\n",
       "      <td>380250.0</td>\n",
       "      <td>Higher education</td>\n",
       "      <td>-12005</td>\n",
       "      <td>-4542.0</td>\n",
       "      <td>1</td>\n",
       "      <td>0</td>\n",
       "      <td>...</td>\n",
       "      <td>1</td>\n",
       "      <td>0</td>\n",
       "      <td>0</td>\n",
       "      <td>0</td>\n",
       "      <td>0</td>\n",
       "      <td>0</td>\n",
       "      <td>0</td>\n",
       "      <td>0</td>\n",
       "      <td>1</td>\n",
       "      <td>0</td>\n",
       "    </tr>\n",
       "    <tr>\n",
       "      <th>0</th>\n",
       "      <td>5008804</td>\n",
       "      <td>1</td>\n",
       "      <td>1</td>\n",
       "      <td>0.0</td>\n",
       "      <td>380250.0</td>\n",
       "      <td>Higher education</td>\n",
       "      <td>-12005</td>\n",
       "      <td>-4542.0</td>\n",
       "      <td>1</td>\n",
       "      <td>0</td>\n",
       "      <td>...</td>\n",
       "      <td>1</td>\n",
       "      <td>0</td>\n",
       "      <td>0</td>\n",
       "      <td>0</td>\n",
       "      <td>0</td>\n",
       "      <td>0</td>\n",
       "      <td>0</td>\n",
       "      <td>0</td>\n",
       "      <td>1</td>\n",
       "      <td>0</td>\n",
       "    </tr>\n",
       "    <tr>\n",
       "      <th>0</th>\n",
       "      <td>5008804</td>\n",
       "      <td>1</td>\n",
       "      <td>1</td>\n",
       "      <td>0.0</td>\n",
       "      <td>380250.0</td>\n",
       "      <td>Higher education</td>\n",
       "      <td>-12005</td>\n",
       "      <td>-4542.0</td>\n",
       "      <td>1</td>\n",
       "      <td>0</td>\n",
       "      <td>...</td>\n",
       "      <td>1</td>\n",
       "      <td>0</td>\n",
       "      <td>0</td>\n",
       "      <td>0</td>\n",
       "      <td>0</td>\n",
       "      <td>0</td>\n",
       "      <td>0</td>\n",
       "      <td>0</td>\n",
       "      <td>1</td>\n",
       "      <td>0</td>\n",
       "    </tr>\n",
       "    <tr>\n",
       "      <th>0</th>\n",
       "      <td>5008804</td>\n",
       "      <td>1</td>\n",
       "      <td>1</td>\n",
       "      <td>0.0</td>\n",
       "      <td>380250.0</td>\n",
       "      <td>Higher education</td>\n",
       "      <td>-12005</td>\n",
       "      <td>-4542.0</td>\n",
       "      <td>1</td>\n",
       "      <td>0</td>\n",
       "      <td>...</td>\n",
       "      <td>1</td>\n",
       "      <td>0</td>\n",
       "      <td>0</td>\n",
       "      <td>0</td>\n",
       "      <td>0</td>\n",
       "      <td>0</td>\n",
       "      <td>0</td>\n",
       "      <td>0</td>\n",
       "      <td>1</td>\n",
       "      <td>0</td>\n",
       "    </tr>\n",
       "  </tbody>\n",
       "</table>\n",
       "<p>5 rows × 26 columns</p>\n",
       "</div>"
      ],
      "text/plain": [
       "        ID  CODE_GENDER  FLAG_OWN_REALTY  CNT_CHILDREN  AMT_INCOME_TOTAL  \\\n",
       "0  5008804            1                1           0.0          380250.0   \n",
       "0  5008804            1                1           0.0          380250.0   \n",
       "0  5008804            1                1           0.0          380250.0   \n",
       "0  5008804            1                1           0.0          380250.0   \n",
       "0  5008804            1                1           0.0          380250.0   \n",
       "\n",
       "  NAME_EDUCATION_TYPE  DAYS_BIRTH  DAYS_EMPLOYED  FLAG_WORK_PHONE  FLAG_PHONE  \\\n",
       "0    Higher education      -12005        -4542.0                1           0   \n",
       "0    Higher education      -12005        -4542.0                1           0   \n",
       "0    Higher education      -12005        -4542.0                1           0   \n",
       "0    Higher education      -12005        -4542.0                1           0   \n",
       "0    Higher education      -12005        -4542.0                1           0   \n",
       "\n",
       "   ...  Working  Married  Separated  Single / not married  Widow  \\\n",
       "0  ...        1        0          0                     0      0   \n",
       "0  ...        1        0          0                     0      0   \n",
       "0  ...        1        0          0                     0      0   \n",
       "0  ...        1        0          0                     0      0   \n",
       "0  ...        1        0          0                     0      0   \n",
       "\n",
       "   House / apartment  Municipal apartment  Office apartment  Rented apartment  \\\n",
       "0                  0                    0                 0                 1   \n",
       "0                  0                    0                 0                 1   \n",
       "0                  0                    0                 0                 1   \n",
       "0                  0                    0                 0                 1   \n",
       "0                  0                    0                 0                 1   \n",
       "\n",
       "   With parents  \n",
       "0             0  \n",
       "0             0  \n",
       "0             0  \n",
       "0             0  \n",
       "0             0  \n",
       "\n",
       "[5 rows x 26 columns]"
      ]
     },
     "execution_count": 108,
     "metadata": {},
     "output_type": "execute_result"
    }
   ],
   "source": [
    "d=pd.get_dummies(df.NAME_HOUSING_TYPE,drop_first=True)\n",
    "df=pd.concat([df,d],axis=1)\n",
    "df.drop('NAME_HOUSING_TYPE',axis=1,inplace=True)\n",
    "df.head()"
   ]
  },
  {
   "cell_type": "code",
   "execution_count": 132,
   "id": "8f3e009d",
   "metadata": {},
   "outputs": [
    {
     "data": {
      "text/html": [
       "<div>\n",
       "<style scoped>\n",
       "    .dataframe tbody tr th:only-of-type {\n",
       "        vertical-align: middle;\n",
       "    }\n",
       "\n",
       "    .dataframe tbody tr th {\n",
       "        vertical-align: top;\n",
       "    }\n",
       "\n",
       "    .dataframe thead th {\n",
       "        text-align: right;\n",
       "    }\n",
       "</style>\n",
       "<table border=\"1\" class=\"dataframe\">\n",
       "  <thead>\n",
       "    <tr style=\"text-align: right;\">\n",
       "      <th></th>\n",
       "      <th>ID</th>\n",
       "      <th>CODE_GENDER</th>\n",
       "      <th>FLAG_OWN_REALTY</th>\n",
       "      <th>CNT_CHILDREN</th>\n",
       "      <th>AMT_INCOME_TOTAL</th>\n",
       "      <th>DAYS_BIRTH</th>\n",
       "      <th>DAYS_EMPLOYED</th>\n",
       "      <th>FLAG_WORK_PHONE</th>\n",
       "      <th>FLAG_PHONE</th>\n",
       "      <th>FLAG_EMAIL</th>\n",
       "      <th>...</th>\n",
       "      <th>Office apartment</th>\n",
       "      <th>Rented apartment</th>\n",
       "      <th>With parents</th>\n",
       "      <th>Incomplete higher</th>\n",
       "      <th>Lower secondary</th>\n",
       "      <th>Secondary / secondary special</th>\n",
       "      <th>Higher education</th>\n",
       "      <th>Incomplete higher</th>\n",
       "      <th>Lower secondary</th>\n",
       "      <th>Secondary / secondary special</th>\n",
       "    </tr>\n",
       "  </thead>\n",
       "  <tbody>\n",
       "    <tr>\n",
       "      <th>0</th>\n",
       "      <td>5008804</td>\n",
       "      <td>1</td>\n",
       "      <td>1</td>\n",
       "      <td>0.0</td>\n",
       "      <td>380250.0</td>\n",
       "      <td>-12005</td>\n",
       "      <td>-4542.0</td>\n",
       "      <td>1</td>\n",
       "      <td>0</td>\n",
       "      <td>0</td>\n",
       "      <td>...</td>\n",
       "      <td>0</td>\n",
       "      <td>1</td>\n",
       "      <td>0</td>\n",
       "      <td>0</td>\n",
       "      <td>0</td>\n",
       "      <td>0</td>\n",
       "      <td>1</td>\n",
       "      <td>0</td>\n",
       "      <td>0</td>\n",
       "      <td>0</td>\n",
       "    </tr>\n",
       "    <tr>\n",
       "      <th>0</th>\n",
       "      <td>5008804</td>\n",
       "      <td>1</td>\n",
       "      <td>1</td>\n",
       "      <td>0.0</td>\n",
       "      <td>380250.0</td>\n",
       "      <td>-12005</td>\n",
       "      <td>-4542.0</td>\n",
       "      <td>1</td>\n",
       "      <td>0</td>\n",
       "      <td>0</td>\n",
       "      <td>...</td>\n",
       "      <td>0</td>\n",
       "      <td>1</td>\n",
       "      <td>0</td>\n",
       "      <td>0</td>\n",
       "      <td>0</td>\n",
       "      <td>0</td>\n",
       "      <td>1</td>\n",
       "      <td>0</td>\n",
       "      <td>0</td>\n",
       "      <td>0</td>\n",
       "    </tr>\n",
       "    <tr>\n",
       "      <th>0</th>\n",
       "      <td>5008804</td>\n",
       "      <td>1</td>\n",
       "      <td>1</td>\n",
       "      <td>0.0</td>\n",
       "      <td>380250.0</td>\n",
       "      <td>-12005</td>\n",
       "      <td>-4542.0</td>\n",
       "      <td>1</td>\n",
       "      <td>0</td>\n",
       "      <td>0</td>\n",
       "      <td>...</td>\n",
       "      <td>0</td>\n",
       "      <td>1</td>\n",
       "      <td>0</td>\n",
       "      <td>0</td>\n",
       "      <td>0</td>\n",
       "      <td>0</td>\n",
       "      <td>1</td>\n",
       "      <td>0</td>\n",
       "      <td>0</td>\n",
       "      <td>0</td>\n",
       "    </tr>\n",
       "    <tr>\n",
       "      <th>0</th>\n",
       "      <td>5008804</td>\n",
       "      <td>1</td>\n",
       "      <td>1</td>\n",
       "      <td>0.0</td>\n",
       "      <td>380250.0</td>\n",
       "      <td>-12005</td>\n",
       "      <td>-4542.0</td>\n",
       "      <td>1</td>\n",
       "      <td>0</td>\n",
       "      <td>0</td>\n",
       "      <td>...</td>\n",
       "      <td>0</td>\n",
       "      <td>1</td>\n",
       "      <td>0</td>\n",
       "      <td>0</td>\n",
       "      <td>0</td>\n",
       "      <td>0</td>\n",
       "      <td>1</td>\n",
       "      <td>0</td>\n",
       "      <td>0</td>\n",
       "      <td>0</td>\n",
       "    </tr>\n",
       "    <tr>\n",
       "      <th>0</th>\n",
       "      <td>5008804</td>\n",
       "      <td>1</td>\n",
       "      <td>1</td>\n",
       "      <td>0.0</td>\n",
       "      <td>380250.0</td>\n",
       "      <td>-12005</td>\n",
       "      <td>-4542.0</td>\n",
       "      <td>1</td>\n",
       "      <td>0</td>\n",
       "      <td>0</td>\n",
       "      <td>...</td>\n",
       "      <td>0</td>\n",
       "      <td>1</td>\n",
       "      <td>0</td>\n",
       "      <td>0</td>\n",
       "      <td>0</td>\n",
       "      <td>0</td>\n",
       "      <td>1</td>\n",
       "      <td>0</td>\n",
       "      <td>0</td>\n",
       "      <td>0</td>\n",
       "    </tr>\n",
       "  </tbody>\n",
       "</table>\n",
       "<p>5 rows × 32 columns</p>\n",
       "</div>"
      ],
      "text/plain": [
       "        ID  CODE_GENDER  FLAG_OWN_REALTY  CNT_CHILDREN  AMT_INCOME_TOTAL  \\\n",
       "0  5008804            1                1           0.0          380250.0   \n",
       "0  5008804            1                1           0.0          380250.0   \n",
       "0  5008804            1                1           0.0          380250.0   \n",
       "0  5008804            1                1           0.0          380250.0   \n",
       "0  5008804            1                1           0.0          380250.0   \n",
       "\n",
       "   DAYS_BIRTH  DAYS_EMPLOYED  FLAG_WORK_PHONE  FLAG_PHONE  FLAG_EMAIL  ...  \\\n",
       "0      -12005        -4542.0                1           0           0  ...   \n",
       "0      -12005        -4542.0                1           0           0  ...   \n",
       "0      -12005        -4542.0                1           0           0  ...   \n",
       "0      -12005        -4542.0                1           0           0  ...   \n",
       "0      -12005        -4542.0                1           0           0  ...   \n",
       "\n",
       "   Office apartment  Rented apartment  With parents  Incomplete higher  \\\n",
       "0                 0                 1             0                  0   \n",
       "0                 0                 1             0                  0   \n",
       "0                 0                 1             0                  0   \n",
       "0                 0                 1             0                  0   \n",
       "0                 0                 1             0                  0   \n",
       "\n",
       "   Lower secondary  Secondary / secondary special  Higher education  \\\n",
       "0                0                              0                 1   \n",
       "0                0                              0                 1   \n",
       "0                0                              0                 1   \n",
       "0                0                              0                 1   \n",
       "0                0                              0                 1   \n",
       "\n",
       "   Incomplete higher  Lower secondary  Secondary / secondary special  \n",
       "0                  0                0                              0  \n",
       "0                  0                0                              0  \n",
       "0                  0                0                              0  \n",
       "0                  0                0                              0  \n",
       "0                  0                0                              0  \n",
       "\n",
       "[5 rows x 32 columns]"
      ]
     },
     "execution_count": 132,
     "metadata": {},
     "output_type": "execute_result"
    }
   ],
   "source": [
    "d=pd.get_dummies(df['NAME_EDUCATION_TYPE'],drop_first=True)\n",
    "df=pd.concat([df,d],axis=1)\n",
    "df.drop('NAME_EDUCATION_TYPE',axis=1,inplace=True)\n",
    "df.head()"
   ]
  },
  {
   "cell_type": "code",
   "execution_count": null,
   "id": "06164edd",
   "metadata": {},
   "outputs": [],
   "source": []
  },
  {
   "cell_type": "code",
   "execution_count": 133,
   "id": "0d86a282",
   "metadata": {},
   "outputs": [],
   "source": [
    "#df.to_csv('Credit_card.csv')"
   ]
  },
  {
   "cell_type": "code",
   "execution_count": 134,
   "id": "6f72c0ee",
   "metadata": {},
   "outputs": [
    {
     "name": "stdout",
     "output_type": "stream",
     "text": [
      "<class 'pandas.core.frame.DataFrame'>\n",
      "Int64Index: 649743 entries, 0 to 434812\n",
      "Data columns (total 32 columns):\n",
      " #   Column                         Non-Null Count   Dtype  \n",
      "---  ------                         --------------   -----  \n",
      " 0   ID                             649743 non-null  int64  \n",
      " 1   CODE_GENDER                    649743 non-null  int32  \n",
      " 2   FLAG_OWN_REALTY                649743 non-null  int32  \n",
      " 3   CNT_CHILDREN                   649743 non-null  float64\n",
      " 4   AMT_INCOME_TOTAL               649743 non-null  float64\n",
      " 5   DAYS_BIRTH                     649743 non-null  int64  \n",
      " 6   DAYS_EMPLOYED                  649743 non-null  float64\n",
      " 7   FLAG_WORK_PHONE                649743 non-null  int64  \n",
      " 8   FLAG_PHONE                     649743 non-null  int64  \n",
      " 9   FLAG_EMAIL                     649743 non-null  int64  \n",
      " 10  CNT_FAM_MEMBERS                649743 non-null  float64\n",
      " 11  STATUS                         649743 non-null  int64  \n",
      " 12  Pensioner                      649743 non-null  uint8  \n",
      " 13  State servant                  649743 non-null  uint8  \n",
      " 14  Student                        649743 non-null  uint8  \n",
      " 15  Working                        649743 non-null  uint8  \n",
      " 16  Married                        649743 non-null  uint8  \n",
      " 17  Separated                      649743 non-null  uint8  \n",
      " 18  Single / not married           649743 non-null  uint8  \n",
      " 19  Widow                          649743 non-null  uint8  \n",
      " 20  House / apartment              649743 non-null  uint8  \n",
      " 21  Municipal apartment            649743 non-null  uint8  \n",
      " 22  Office apartment               649743 non-null  uint8  \n",
      " 23  Rented apartment               649743 non-null  uint8  \n",
      " 24  With parents                   649743 non-null  uint8  \n",
      " 25  Incomplete higher              649743 non-null  uint8  \n",
      " 26  Lower secondary                649743 non-null  uint8  \n",
      " 27  Secondary / secondary special  649743 non-null  uint8  \n",
      " 28  Higher education               649743 non-null  uint8  \n",
      " 29  Incomplete higher              649743 non-null  uint8  \n",
      " 30  Lower secondary                649743 non-null  uint8  \n",
      " 31  Secondary / secondary special  649743 non-null  uint8  \n",
      "dtypes: float64(4), int32(2), int64(6), uint8(20)\n",
      "memory usage: 88.0 MB\n"
     ]
    }
   ],
   "source": [
    "df.info()"
   ]
  },
  {
   "cell_type": "code",
   "execution_count": null,
   "id": "a50a5d4b",
   "metadata": {},
   "outputs": [],
   "source": []
  },
  {
   "cell_type": "code",
   "execution_count": null,
   "id": "80c4f362",
   "metadata": {},
   "outputs": [],
   "source": []
  },
  {
   "cell_type": "code",
   "execution_count": 135,
   "id": "887463a4",
   "metadata": {},
   "outputs": [],
   "source": [
    "#Dealing with imbalanced data\n",
    "#Smote"
   ]
  },
  {
   "cell_type": "code",
   "execution_count": 136,
   "id": "c01e6c7f",
   "metadata": {},
   "outputs": [],
   "source": [
    "from sklearn.utils import resample "
   ]
  },
  {
   "cell_type": "code",
   "execution_count": 137,
   "id": "72fcce7c",
   "metadata": {},
   "outputs": [
    {
     "data": {
      "text/plain": [
       "0    647440\n",
       "1      2303\n",
       "Name: STATUS, dtype: int64"
      ]
     },
     "execution_count": 137,
     "metadata": {},
     "output_type": "execute_result"
    }
   ],
   "source": [
    "df.STATUS.value_counts()"
   ]
  },
  {
   "cell_type": "code",
   "execution_count": 138,
   "id": "10787952",
   "metadata": {},
   "outputs": [],
   "source": [
    "zero=df[df.STATUS==0]\n",
    "one=df[df.STATUS==1]"
   ]
  },
  {
   "cell_type": "code",
   "execution_count": 139,
   "id": "c0eeb917",
   "metadata": {},
   "outputs": [],
   "source": [
    "over=resample(one,replace=True,n_samples=len(zero),random_state=27)"
   ]
  },
  {
   "cell_type": "code",
   "execution_count": null,
   "id": "9a18e3f0",
   "metadata": {},
   "outputs": [],
   "source": []
  },
  {
   "cell_type": "code",
   "execution_count": 140,
   "id": "0caacb11",
   "metadata": {},
   "outputs": [],
   "source": [
    "df_mo=pd.concat([zero,over])"
   ]
  },
  {
   "cell_type": "code",
   "execution_count": 141,
   "id": "3efa37d9",
   "metadata": {},
   "outputs": [
    {
     "data": {
      "text/plain": [
       "0    647440\n",
       "1    647440\n",
       "Name: STATUS, dtype: int64"
      ]
     },
     "execution_count": 141,
     "metadata": {},
     "output_type": "execute_result"
    }
   ],
   "source": [
    "df_mo.STATUS.value_counts()"
   ]
  },
  {
   "cell_type": "code",
   "execution_count": null,
   "id": "9853e575",
   "metadata": {},
   "outputs": [],
   "source": []
  },
  {
   "cell_type": "code",
   "execution_count": 142,
   "id": "d0fbc11f",
   "metadata": {},
   "outputs": [],
   "source": [
    "x=df_mo.iloc[:,1:-1]"
   ]
  },
  {
   "cell_type": "code",
   "execution_count": 143,
   "id": "5a908c88",
   "metadata": {},
   "outputs": [],
   "source": [
    "y=df_mo.iloc[:,-1]"
   ]
  },
  {
   "cell_type": "code",
   "execution_count": 144,
   "id": "bd4bbf12",
   "metadata": {},
   "outputs": [
    {
     "name": "stdout",
     "output_type": "stream",
     "text": [
      "<class 'pandas.core.frame.DataFrame'>\n",
      "Int64Index: 1294880 entries, 0 to 42360\n",
      "Data columns (total 30 columns):\n",
      " #   Column                         Non-Null Count    Dtype  \n",
      "---  ------                         --------------    -----  \n",
      " 0   CODE_GENDER                    1294880 non-null  int32  \n",
      " 1   FLAG_OWN_REALTY                1294880 non-null  int32  \n",
      " 2   CNT_CHILDREN                   1294880 non-null  float64\n",
      " 3   AMT_INCOME_TOTAL               1294880 non-null  float64\n",
      " 4   DAYS_BIRTH                     1294880 non-null  int64  \n",
      " 5   DAYS_EMPLOYED                  1294880 non-null  float64\n",
      " 6   FLAG_WORK_PHONE                1294880 non-null  int64  \n",
      " 7   FLAG_PHONE                     1294880 non-null  int64  \n",
      " 8   FLAG_EMAIL                     1294880 non-null  int64  \n",
      " 9   CNT_FAM_MEMBERS                1294880 non-null  float64\n",
      " 10  STATUS                         1294880 non-null  int64  \n",
      " 11  Pensioner                      1294880 non-null  uint8  \n",
      " 12  State servant                  1294880 non-null  uint8  \n",
      " 13  Student                        1294880 non-null  uint8  \n",
      " 14  Working                        1294880 non-null  uint8  \n",
      " 15  Married                        1294880 non-null  uint8  \n",
      " 16  Separated                      1294880 non-null  uint8  \n",
      " 17  Single / not married           1294880 non-null  uint8  \n",
      " 18  Widow                          1294880 non-null  uint8  \n",
      " 19  House / apartment              1294880 non-null  uint8  \n",
      " 20  Municipal apartment            1294880 non-null  uint8  \n",
      " 21  Office apartment               1294880 non-null  uint8  \n",
      " 22  Rented apartment               1294880 non-null  uint8  \n",
      " 23  With parents                   1294880 non-null  uint8  \n",
      " 24  Incomplete higher              1294880 non-null  uint8  \n",
      " 25  Lower secondary                1294880 non-null  uint8  \n",
      " 26  Secondary / secondary special  1294880 non-null  uint8  \n",
      " 27  Higher education               1294880 non-null  uint8  \n",
      " 28  Incomplete higher              1294880 non-null  uint8  \n",
      " 29  Lower secondary                1294880 non-null  uint8  \n",
      "dtypes: float64(4), int32(2), int64(5), uint8(19)\n",
      "memory usage: 132.1 MB\n"
     ]
    }
   ],
   "source": [
    "\n",
    "x.info()"
   ]
  },
  {
   "cell_type": "code",
   "execution_count": 145,
   "id": "35ed3e92",
   "metadata": {},
   "outputs": [
    {
     "name": "stdout",
     "output_type": "stream",
     "text": [
      "<class 'pandas.core.series.Series'>\n",
      "Int64Index: 1294880 entries, 0 to 42360\n",
      "Series name: Secondary / secondary special\n",
      "Non-Null Count    Dtype\n",
      "--------------    -----\n",
      "1294880 non-null  uint8\n",
      "dtypes: uint8(1)\n",
      "memory usage: 11.1 MB\n"
     ]
    }
   ],
   "source": [
    "y.info()"
   ]
  },
  {
   "cell_type": "code",
   "execution_count": null,
   "id": "1455a682",
   "metadata": {},
   "outputs": [],
   "source": []
  },
  {
   "cell_type": "code",
   "execution_count": 146,
   "id": "99a39505",
   "metadata": {},
   "outputs": [],
   "source": [
    "#Splitting the dataset into the Training set and Test set"
   ]
  },
  {
   "cell_type": "code",
   "execution_count": 147,
   "id": "02263a0b",
   "metadata": {},
   "outputs": [],
   "source": [
    "from sklearn.model_selection import train_test_split"
   ]
  },
  {
   "cell_type": "code",
   "execution_count": 148,
   "id": "ae11aa29",
   "metadata": {},
   "outputs": [],
   "source": [
    "xtrain,xtest,ytrain,ytest=train_test_split(x,y,test_size=0.3)"
   ]
  },
  {
   "cell_type": "code",
   "execution_count": null,
   "id": "d86b8eeb",
   "metadata": {},
   "outputs": [],
   "source": []
  },
  {
   "cell_type": "code",
   "execution_count": 149,
   "id": "1ca80be7",
   "metadata": {},
   "outputs": [],
   "source": [
    "from sklearn.model_selection import train_test_split\n",
    "from sklearn.tree import DecisionTreeClassifier\n",
    "from sklearn import tree\n",
    "from sklearn.metrics import classification_report, confusion_matrix\n",
    "from sklearn.metrics import roc_curve, auc, roc_auc_score,accuracy_score\n",
    "from sklearn.linear_model import LogisticRegression\n",
    "from sklearn import metrics"
   ]
  },
  {
   "cell_type": "code",
   "execution_count": 150,
   "id": "cd0fcdf4",
   "metadata": {},
   "outputs": [
    {
     "data": {
      "text/html": [
       "<style>#sk-container-id-1 {color: black;background-color: white;}#sk-container-id-1 pre{padding: 0;}#sk-container-id-1 div.sk-toggleable {background-color: white;}#sk-container-id-1 label.sk-toggleable__label {cursor: pointer;display: block;width: 100%;margin-bottom: 0;padding: 0.3em;box-sizing: border-box;text-align: center;}#sk-container-id-1 label.sk-toggleable__label-arrow:before {content: \"▸\";float: left;margin-right: 0.25em;color: #696969;}#sk-container-id-1 label.sk-toggleable__label-arrow:hover:before {color: black;}#sk-container-id-1 div.sk-estimator:hover label.sk-toggleable__label-arrow:before {color: black;}#sk-container-id-1 div.sk-toggleable__content {max-height: 0;max-width: 0;overflow: hidden;text-align: left;background-color: #f0f8ff;}#sk-container-id-1 div.sk-toggleable__content pre {margin: 0.2em;color: black;border-radius: 0.25em;background-color: #f0f8ff;}#sk-container-id-1 input.sk-toggleable__control:checked~div.sk-toggleable__content {max-height: 200px;max-width: 100%;overflow: auto;}#sk-container-id-1 input.sk-toggleable__control:checked~label.sk-toggleable__label-arrow:before {content: \"▾\";}#sk-container-id-1 div.sk-estimator input.sk-toggleable__control:checked~label.sk-toggleable__label {background-color: #d4ebff;}#sk-container-id-1 div.sk-label input.sk-toggleable__control:checked~label.sk-toggleable__label {background-color: #d4ebff;}#sk-container-id-1 input.sk-hidden--visually {border: 0;clip: rect(1px 1px 1px 1px);clip: rect(1px, 1px, 1px, 1px);height: 1px;margin: -1px;overflow: hidden;padding: 0;position: absolute;width: 1px;}#sk-container-id-1 div.sk-estimator {font-family: monospace;background-color: #f0f8ff;border: 1px dotted black;border-radius: 0.25em;box-sizing: border-box;margin-bottom: 0.5em;}#sk-container-id-1 div.sk-estimator:hover {background-color: #d4ebff;}#sk-container-id-1 div.sk-parallel-item::after {content: \"\";width: 100%;border-bottom: 1px solid gray;flex-grow: 1;}#sk-container-id-1 div.sk-label:hover label.sk-toggleable__label {background-color: #d4ebff;}#sk-container-id-1 div.sk-serial::before {content: \"\";position: absolute;border-left: 1px solid gray;box-sizing: border-box;top: 0;bottom: 0;left: 50%;z-index: 0;}#sk-container-id-1 div.sk-serial {display: flex;flex-direction: column;align-items: center;background-color: white;padding-right: 0.2em;padding-left: 0.2em;position: relative;}#sk-container-id-1 div.sk-item {position: relative;z-index: 1;}#sk-container-id-1 div.sk-parallel {display: flex;align-items: stretch;justify-content: center;background-color: white;position: relative;}#sk-container-id-1 div.sk-item::before, #sk-container-id-1 div.sk-parallel-item::before {content: \"\";position: absolute;border-left: 1px solid gray;box-sizing: border-box;top: 0;bottom: 0;left: 50%;z-index: -1;}#sk-container-id-1 div.sk-parallel-item {display: flex;flex-direction: column;z-index: 1;position: relative;background-color: white;}#sk-container-id-1 div.sk-parallel-item:first-child::after {align-self: flex-end;width: 50%;}#sk-container-id-1 div.sk-parallel-item:last-child::after {align-self: flex-start;width: 50%;}#sk-container-id-1 div.sk-parallel-item:only-child::after {width: 0;}#sk-container-id-1 div.sk-dashed-wrapped {border: 1px dashed gray;margin: 0 0.4em 0.5em 0.4em;box-sizing: border-box;padding-bottom: 0.4em;background-color: white;}#sk-container-id-1 div.sk-label label {font-family: monospace;font-weight: bold;display: inline-block;line-height: 1.2em;}#sk-container-id-1 div.sk-label-container {text-align: center;}#sk-container-id-1 div.sk-container {/* jupyter's `normalize.less` sets `[hidden] { display: none; }` but bootstrap.min.css set `[hidden] { display: none !important; }` so we also need the `!important` here to be able to override the default hidden behavior on the sphinx rendered scikit-learn.org. See: https://github.com/scikit-learn/scikit-learn/issues/21755 */display: inline-block !important;position: relative;}#sk-container-id-1 div.sk-text-repr-fallback {display: none;}</style><div id=\"sk-container-id-1\" class=\"sk-top-container\"><div class=\"sk-text-repr-fallback\"><pre>LogisticRegression()</pre><b>In a Jupyter environment, please rerun this cell to show the HTML representation or trust the notebook. <br />On GitHub, the HTML representation is unable to render, please try loading this page with nbviewer.org.</b></div><div class=\"sk-container\" hidden><div class=\"sk-item\"><div class=\"sk-estimator sk-toggleable\"><input class=\"sk-toggleable__control sk-hidden--visually\" id=\"sk-estimator-id-1\" type=\"checkbox\" checked><label for=\"sk-estimator-id-1\" class=\"sk-toggleable__label sk-toggleable__label-arrow\">LogisticRegression</label><div class=\"sk-toggleable__content\"><pre>LogisticRegression()</pre></div></div></div></div></div>"
      ],
      "text/plain": [
       "LogisticRegression()"
      ]
     },
     "execution_count": 150,
     "metadata": {},
     "output_type": "execute_result"
    }
   ],
   "source": [
    "model=LogisticRegression()\n",
    "model.fit(xtrain,ytrain)"
   ]
  },
  {
   "cell_type": "code",
   "execution_count": 155,
   "id": "877b5521",
   "metadata": {},
   "outputs": [],
   "source": [
    "y_pred=model.predict(xtest)"
   ]
  },
  {
   "cell_type": "code",
   "execution_count": 156,
   "id": "e893ec60",
   "metadata": {},
   "outputs": [
    {
     "name": "stdout",
     "output_type": "stream",
     "text": [
      "[[151738      2]\n",
      " [     0 236724]]\n"
     ]
    }
   ],
   "source": [
    "cm=metrics.confusion_matrix(ytest,y_pred)\n",
    "print(cm)"
   ]
  },
  {
   "cell_type": "code",
   "execution_count": 157,
   "id": "51f4aa8a",
   "metadata": {},
   "outputs": [
    {
     "data": {
      "text/plain": [
       "0.9999948515177726"
      ]
     },
     "execution_count": 157,
     "metadata": {},
     "output_type": "execute_result"
    }
   ],
   "source": [
    "#accuracy\n",
    "accuracy_score(ytest,y_pred)"
   ]
  },
  {
   "cell_type": "code",
   "execution_count": 158,
   "id": "3fbd096e",
   "metadata": {},
   "outputs": [
    {
     "name": "stdout",
     "output_type": "stream",
     "text": [
      "              precision    recall  f1-score   support\n",
      "\n",
      "           0       1.00      1.00      1.00    151740\n",
      "           1       1.00      1.00      1.00    236724\n",
      "\n",
      "    accuracy                           1.00    388464\n",
      "   macro avg       1.00      1.00      1.00    388464\n",
      "weighted avg       1.00      1.00      1.00    388464\n",
      "\n"
     ]
    }
   ],
   "source": [
    "#classification Report\n",
    "print(classification_report(ytest,y_pred))"
   ]
  },
  {
   "cell_type": "code",
   "execution_count": 159,
   "id": "6b8b8926",
   "metadata": {},
   "outputs": [],
   "source": [
    "#ROC\n",
    "y_pred_prob=model.predict_proba(xtest)\n",
    "fpr,tpr,th=roc_curve(ytest,y_pred_prob[:,1])\n",
    "roc_auc=auc(fpr,tpr)"
   ]
  },
  {
   "cell_type": "code",
   "execution_count": 160,
   "id": "35222b32",
   "metadata": {},
   "outputs": [
    {
     "data": {
      "image/png": "[encoded data removed]",
      "text/plain": [
       "<Figure size 640x480 with 1 Axes>"
      ]
     },
     "metadata": {},
     "output_type": "display_data"
    }
   ],
   "source": [
    "plt.title('ROC for Log')\n",
    "plt.xlabel('false positive')\n",
    "plt.ylabel('True positive')\n",
    "plt.plot([0,1],[0,1],'r--')\n",
    "plt.plot(fpr,tpr,label='AUC'+str(roc_auc))\n",
    "plt.legend(loc=4)\n",
    "\n",
    "plt.show()"
   ]
  },
  {
   "cell_type": "code",
   "execution_count": null,
   "id": "dd25b3ba",
   "metadata": {},
   "outputs": [],
   "source": []
  },
  {
   "cell_type": "code",
   "execution_count": null,
   "id": "7530e8f1",
   "metadata": {},
   "outputs": [],
   "source": []
  },
  {
   "cell_type": "code",
   "execution_count": 171,
   "id": "631b8988",
   "metadata": {},
   "outputs": [
    {
     "data": {
      "text/plain": [
       "100.0"
      ]
     },
     "execution_count": 171,
     "metadata": {},
     "output_type": "execute_result"
    }
   ],
   "source": [
    "random_forest = RandomForestClassifier(n_estimators=100)\n",
    "random_forest.fit(xtest, ytest)\n",
    "Y_pred = random_forest.predict(xtest)\n",
    "random_forest.score(xtest, ytest)\n",
    "acc_random_forest = round(random_forest.score(xtest, ytest) * 100, 2)\n",
    "acc_random_forest"
   ]
  },
  {
   "cell_type": "code",
   "execution_count": null,
   "id": "232acca8",
   "metadata": {},
   "outputs": [],
   "source": []
  },
  {
   "cell_type": "code",
   "execution_count": null,
   "id": "d5a13ef0",
   "metadata": {},
   "outputs": [],
   "source": []
  },
  {
   "cell_type": "code",
   "execution_count": null,
   "id": "8984c44e",
   "metadata": {},
   "outputs": [],
   "source": []
  },
  {
   "cell_type": "code",
   "execution_count": null,
   "id": "2c7271ad",
   "metadata": {},
   "outputs": [],
   "source": []
  },
  {
   "cell_type": "code",
   "execution_count": null,
   "id": "253856c0",
   "metadata": {},
   "outputs": [],
   "source": []
  },
  {
   "cell_type": "code",
   "execution_count": null,
   "id": "4137327e",
   "metadata": {},
   "outputs": [],
   "source": []
  },
  {
   "cell_type": "code",
   "execution_count": null,
   "id": "1e00c776",
   "metadata": {},
   "outputs": [],
   "source": []
  }
 ],
 "metadata": {
  "kernelspec": {
   "display_name": "Python 3 (ipykernel)",
   "language": "python",
   "name": "python3"
  },
  "language_info": {
   "codemirror_mode": {
    "name": "ipython",
    "version": 3
   },
   "file_extension": ".py",
   "mimetype": "text/x-python",
   "name": "python",
   "nbconvert_exporter": "python",
   "pygments_lexer": "ipython3",
   "version": "3.9.12"
  }
 },
 "nbformat": 4,
 "nbformat_minor": 5
}
